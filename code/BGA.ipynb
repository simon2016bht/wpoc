{
 "cells": [
  {
   "cell_type": "markdown",
   "id": "fbc8d42e-d4ce-4b86-8c27-4d79e1c8e568",
   "metadata": {},
   "source": [
    "- stacked chart of player origin\n",
    "- histogram of elo in a tournament\n",
    "- histogram of playing time (need to transfer from string first)\n"
   ]
  },
  {
   "cell_type": "code",
   "execution_count": 1,
   "id": "123ee506-66f3-4b60-857a-317cbe6b284b",
   "metadata": {},
   "outputs": [
    {
     "data": {
      "application/javascript": [
       "(function(root) {\n",
       "  function now() {\n",
       "    return new Date();\n",
       "  }\n",
       "\n",
       "  var force = true;\n",
       "  var py_version = '3.3.4'.replace('rc', '-rc.').replace('.dev', '-dev.');\n",
       "  var reloading = false;\n",
       "  var Bokeh = root.Bokeh;\n",
       "\n",
       "  if (typeof (root._bokeh_timeout) === \"undefined\" || force) {\n",
       "    root._bokeh_timeout = Date.now() + 5000;\n",
       "    root._bokeh_failed_load = false;\n",
       "  }\n",
       "\n",
       "  function run_callbacks() {\n",
       "    try {\n",
       "      root._bokeh_onload_callbacks.forEach(function(callback) {\n",
       "        if (callback != null)\n",
       "          callback();\n",
       "      });\n",
       "    } finally {\n",
       "      delete root._bokeh_onload_callbacks;\n",
       "    }\n",
       "    console.debug(\"Bokeh: all callbacks have finished\");\n",
       "  }\n",
       "\n",
       "  function load_libs(css_urls, js_urls, js_modules, js_exports, callback) {\n",
       "    if (css_urls == null) css_urls = [];\n",
       "    if (js_urls == null) js_urls = [];\n",
       "    if (js_modules == null) js_modules = [];\n",
       "    if (js_exports == null) js_exports = {};\n",
       "\n",
       "    root._bokeh_onload_callbacks.push(callback);\n",
       "\n",
       "    if (root._bokeh_is_loading > 0) {\n",
       "      console.debug(\"Bokeh: BokehJS is being loaded, scheduling callback at\", now());\n",
       "      return null;\n",
       "    }\n",
       "    if (js_urls.length === 0 && js_modules.length === 0 && Object.keys(js_exports).length === 0) {\n",
       "      run_callbacks();\n",
       "      return null;\n",
       "    }\n",
       "    if (!reloading) {\n",
       "      console.debug(\"Bokeh: BokehJS not loaded, scheduling load and callback at\", now());\n",
       "    }\n",
       "\n",
       "    function on_load() {\n",
       "      root._bokeh_is_loading--;\n",
       "      if (root._bokeh_is_loading === 0) {\n",
       "        console.debug(\"Bokeh: all BokehJS libraries/stylesheets loaded\");\n",
       "        run_callbacks()\n",
       "      }\n",
       "    }\n",
       "    window._bokeh_on_load = on_load\n",
       "\n",
       "    function on_error() {\n",
       "      console.error(\"failed to load \" + url);\n",
       "    }\n",
       "\n",
       "    var skip = [];\n",
       "    if (window.requirejs) {\n",
       "      window.requirejs.config({'packages': {}, 'paths': {'jspanel': 'https://cdn.jsdelivr.net/npm/jspanel4@4.12.0/dist/jspanel', 'jspanel-modal': 'https://cdn.jsdelivr.net/npm/jspanel4@4.12.0/dist/extensions/modal/jspanel.modal', 'jspanel-tooltip': 'https://cdn.jsdelivr.net/npm/jspanel4@4.12.0/dist/extensions/tooltip/jspanel.tooltip', 'jspanel-hint': 'https://cdn.jsdelivr.net/npm/jspanel4@4.12.0/dist/extensions/hint/jspanel.hint', 'jspanel-layout': 'https://cdn.jsdelivr.net/npm/jspanel4@4.12.0/dist/extensions/layout/jspanel.layout', 'jspanel-contextmenu': 'https://cdn.jsdelivr.net/npm/jspanel4@4.12.0/dist/extensions/contextmenu/jspanel.contextmenu', 'jspanel-dock': 'https://cdn.jsdelivr.net/npm/jspanel4@4.12.0/dist/extensions/dock/jspanel.dock', 'gridstack': 'https://cdn.jsdelivr.net/npm/gridstack@7.2.3/dist/gridstack-all', 'notyf': 'https://cdn.jsdelivr.net/npm/notyf@3/notyf.min'}, 'shim': {'jspanel': {'exports': 'jsPanel'}, 'gridstack': {'exports': 'GridStack'}}});\n",
       "      require([\"jspanel\"], function(jsPanel) {\n",
       "\twindow.jsPanel = jsPanel\n",
       "\ton_load()\n",
       "      })\n",
       "      require([\"jspanel-modal\"], function() {\n",
       "\ton_load()\n",
       "      })\n",
       "      require([\"jspanel-tooltip\"], function() {\n",
       "\ton_load()\n",
       "      })\n",
       "      require([\"jspanel-hint\"], function() {\n",
       "\ton_load()\n",
       "      })\n",
       "      require([\"jspanel-layout\"], function() {\n",
       "\ton_load()\n",
       "      })\n",
       "      require([\"jspanel-contextmenu\"], function() {\n",
       "\ton_load()\n",
       "      })\n",
       "      require([\"jspanel-dock\"], function() {\n",
       "\ton_load()\n",
       "      })\n",
       "      require([\"gridstack\"], function(GridStack) {\n",
       "\twindow.GridStack = GridStack\n",
       "\ton_load()\n",
       "      })\n",
       "      require([\"notyf\"], function() {\n",
       "\ton_load()\n",
       "      })\n",
       "      root._bokeh_is_loading = css_urls.length + 9;\n",
       "    } else {\n",
       "      root._bokeh_is_loading = css_urls.length + js_urls.length + js_modules.length + Object.keys(js_exports).length;\n",
       "    }\n",
       "\n",
       "    var existing_stylesheets = []\n",
       "    var links = document.getElementsByTagName('link')\n",
       "    for (var i = 0; i < links.length; i++) {\n",
       "      var link = links[i]\n",
       "      if (link.href != null) {\n",
       "\texisting_stylesheets.push(link.href)\n",
       "      }\n",
       "    }\n",
       "    for (var i = 0; i < css_urls.length; i++) {\n",
       "      var url = css_urls[i];\n",
       "      if (existing_stylesheets.indexOf(url) !== -1) {\n",
       "\ton_load()\n",
       "\tcontinue;\n",
       "      }\n",
       "      const element = document.createElement(\"link\");\n",
       "      element.onload = on_load;\n",
       "      element.onerror = on_error;\n",
       "      element.rel = \"stylesheet\";\n",
       "      element.type = \"text/css\";\n",
       "      element.href = url;\n",
       "      console.debug(\"Bokeh: injecting link tag for BokehJS stylesheet: \", url);\n",
       "      document.body.appendChild(element);\n",
       "    }    if (((window['jsPanel'] !== undefined) && (!(window['jsPanel'] instanceof HTMLElement))) || window.requirejs) {\n",
       "      var urls = ['https://cdn.holoviz.org/panel/1.3.8/dist/bundled/floatpanel/jspanel4@4.12.0/dist/jspanel.js', 'https://cdn.holoviz.org/panel/1.3.8/dist/bundled/floatpanel/jspanel4@4.12.0/dist/extensions/modal/jspanel.modal.js', 'https://cdn.holoviz.org/panel/1.3.8/dist/bundled/floatpanel/jspanel4@4.12.0/dist/extensions/tooltip/jspanel.tooltip.js', 'https://cdn.holoviz.org/panel/1.3.8/dist/bundled/floatpanel/jspanel4@4.12.0/dist/extensions/hint/jspanel.hint.js', 'https://cdn.holoviz.org/panel/1.3.8/dist/bundled/floatpanel/jspanel4@4.12.0/dist/extensions/layout/jspanel.layout.js', 'https://cdn.holoviz.org/panel/1.3.8/dist/bundled/floatpanel/jspanel4@4.12.0/dist/extensions/contextmenu/jspanel.contextmenu.js', 'https://cdn.holoviz.org/panel/1.3.8/dist/bundled/floatpanel/jspanel4@4.12.0/dist/extensions/dock/jspanel.dock.js'];\n",
       "      for (var i = 0; i < urls.length; i++) {\n",
       "        skip.push(urls[i])\n",
       "      }\n",
       "    }    if (((window['GridStack'] !== undefined) && (!(window['GridStack'] instanceof HTMLElement))) || window.requirejs) {\n",
       "      var urls = ['https://cdn.holoviz.org/panel/1.3.8/dist/bundled/gridstack/gridstack@7.2.3/dist/gridstack-all.js'];\n",
       "      for (var i = 0; i < urls.length; i++) {\n",
       "        skip.push(urls[i])\n",
       "      }\n",
       "    }    if (((window['Notyf'] !== undefined) && (!(window['Notyf'] instanceof HTMLElement))) || window.requirejs) {\n",
       "      var urls = ['https://cdn.holoviz.org/panel/1.3.8/dist/bundled/notificationarea/notyf@3/notyf.min.js'];\n",
       "      for (var i = 0; i < urls.length; i++) {\n",
       "        skip.push(urls[i])\n",
       "      }\n",
       "    }    var existing_scripts = []\n",
       "    var scripts = document.getElementsByTagName('script')\n",
       "    for (var i = 0; i < scripts.length; i++) {\n",
       "      var script = scripts[i]\n",
       "      if (script.src != null) {\n",
       "\texisting_scripts.push(script.src)\n",
       "      }\n",
       "    }\n",
       "    for (var i = 0; i < js_urls.length; i++) {\n",
       "      var url = js_urls[i];\n",
       "      if (skip.indexOf(url) !== -1 || existing_scripts.indexOf(url) !== -1) {\n",
       "\tif (!window.requirejs) {\n",
       "\t  on_load();\n",
       "\t}\n",
       "\tcontinue;\n",
       "      }\n",
       "      var element = document.createElement('script');\n",
       "      element.onload = on_load;\n",
       "      element.onerror = on_error;\n",
       "      element.async = false;\n",
       "      element.src = url;\n",
       "      console.debug(\"Bokeh: injecting script tag for BokehJS library: \", url);\n",
       "      document.head.appendChild(element);\n",
       "    }\n",
       "    for (var i = 0; i < js_modules.length; i++) {\n",
       "      var url = js_modules[i];\n",
       "      if (skip.indexOf(url) !== -1 || existing_scripts.indexOf(url) !== -1) {\n",
       "\tif (!window.requirejs) {\n",
       "\t  on_load();\n",
       "\t}\n",
       "\tcontinue;\n",
       "      }\n",
       "      var element = document.createElement('script');\n",
       "      element.onload = on_load;\n",
       "      element.onerror = on_error;\n",
       "      element.async = false;\n",
       "      element.src = url;\n",
       "      element.type = \"module\";\n",
       "      console.debug(\"Bokeh: injecting script tag for BokehJS library: \", url);\n",
       "      document.head.appendChild(element);\n",
       "    }\n",
       "    for (const name in js_exports) {\n",
       "      var url = js_exports[name];\n",
       "      if (skip.indexOf(url) >= 0 || root[name] != null) {\n",
       "\tif (!window.requirejs) {\n",
       "\t  on_load();\n",
       "\t}\n",
       "\tcontinue;\n",
       "      }\n",
       "      var element = document.createElement('script');\n",
       "      element.onerror = on_error;\n",
       "      element.async = false;\n",
       "      element.type = \"module\";\n",
       "      console.debug(\"Bokeh: injecting script tag for BokehJS library: \", url);\n",
       "      element.textContent = `\n",
       "      import ${name} from \"${url}\"\n",
       "      window.${name} = ${name}\n",
       "      window._bokeh_on_load()\n",
       "      `\n",
       "      document.head.appendChild(element);\n",
       "    }\n",
       "    if (!js_urls.length && !js_modules.length) {\n",
       "      on_load()\n",
       "    }\n",
       "  };\n",
       "\n",
       "  function inject_raw_css(css) {\n",
       "    const element = document.createElement(\"style\");\n",
       "    element.appendChild(document.createTextNode(css));\n",
       "    document.body.appendChild(element);\n",
       "  }\n",
       "\n",
       "  var js_urls = [\"https://cdn.bokeh.org/bokeh/release/bokeh-3.3.4.min.js\", \"https://cdn.bokeh.org/bokeh/release/bokeh-gl-3.3.4.min.js\", \"https://cdn.bokeh.org/bokeh/release/bokeh-widgets-3.3.4.min.js\", \"https://cdn.bokeh.org/bokeh/release/bokeh-tables-3.3.4.min.js\", \"https://cdn.holoviz.org/panel/1.3.8/dist/panel.min.js\"];\n",
       "  var js_modules = [];\n",
       "  var js_exports = {};\n",
       "  var css_urls = [];\n",
       "  var inline_js = [    function(Bokeh) {\n",
       "      Bokeh.set_log_level(\"info\");\n",
       "    },\n",
       "function(Bokeh) {} // ensure no trailing comma for IE\n",
       "  ];\n",
       "\n",
       "  function run_inline_js() {\n",
       "    if ((root.Bokeh !== undefined) || (force === true)) {\n",
       "      for (var i = 0; i < inline_js.length; i++) {\n",
       "\ttry {\n",
       "          inline_js[i].call(root, root.Bokeh);\n",
       "\t} catch(e) {\n",
       "\t  if (!reloading) {\n",
       "\t    throw e;\n",
       "\t  }\n",
       "\t}\n",
       "      }\n",
       "      // Cache old bokeh versions\n",
       "      if (Bokeh != undefined && !reloading) {\n",
       "\tvar NewBokeh = root.Bokeh;\n",
       "\tif (Bokeh.versions === undefined) {\n",
       "\t  Bokeh.versions = new Map();\n",
       "\t}\n",
       "\tif (NewBokeh.version !== Bokeh.version) {\n",
       "\t  Bokeh.versions.set(NewBokeh.version, NewBokeh)\n",
       "\t}\n",
       "\troot.Bokeh = Bokeh;\n",
       "      }} else if (Date.now() < root._bokeh_timeout) {\n",
       "      setTimeout(run_inline_js, 100);\n",
       "    } else if (!root._bokeh_failed_load) {\n",
       "      console.log(\"Bokeh: BokehJS failed to load within specified timeout.\");\n",
       "      root._bokeh_failed_load = true;\n",
       "    }\n",
       "    root._bokeh_is_initializing = false\n",
       "  }\n",
       "\n",
       "  function load_or_wait() {\n",
       "    // Implement a backoff loop that tries to ensure we do not load multiple\n",
       "    // versions of Bokeh and its dependencies at the same time.\n",
       "    // In recent versions we use the root._bokeh_is_initializing flag\n",
       "    // to determine whether there is an ongoing attempt to initialize\n",
       "    // bokeh, however for backward compatibility we also try to ensure\n",
       "    // that we do not start loading a newer (Panel>=1.0 and Bokeh>3) version\n",
       "    // before older versions are fully initialized.\n",
       "    if (root._bokeh_is_initializing && Date.now() > root._bokeh_timeout) {\n",
       "      root._bokeh_is_initializing = false;\n",
       "      root._bokeh_onload_callbacks = undefined;\n",
       "      console.log(\"Bokeh: BokehJS was loaded multiple times but one version failed to initialize.\");\n",
       "      load_or_wait();\n",
       "    } else if (root._bokeh_is_initializing || (typeof root._bokeh_is_initializing === \"undefined\" && root._bokeh_onload_callbacks !== undefined)) {\n",
       "      setTimeout(load_or_wait, 100);\n",
       "    } else {\n",
       "      root._bokeh_is_initializing = true\n",
       "      root._bokeh_onload_callbacks = []\n",
       "      var bokeh_loaded = Bokeh != null && (Bokeh.version === py_version || (Bokeh.versions !== undefined && Bokeh.versions.has(py_version)));\n",
       "      if (!reloading && !bokeh_loaded) {\n",
       "\troot.Bokeh = undefined;\n",
       "      }\n",
       "      load_libs(css_urls, js_urls, js_modules, js_exports, function() {\n",
       "\tconsole.debug(\"Bokeh: BokehJS plotting callback run at\", now());\n",
       "\trun_inline_js();\n",
       "      });\n",
       "    }\n",
       "  }\n",
       "  // Give older versions of the autoload script a head-start to ensure\n",
       "  // they initialize before we start loading newer version.\n",
       "  setTimeout(load_or_wait, 100)\n",
       "}(window));"
      ],
      "application/vnd.holoviews_load.v0+json": "(function(root) {\n  function now() {\n    return new Date();\n  }\n\n  var force = true;\n  var py_version = '3.3.4'.replace('rc', '-rc.').replace('.dev', '-dev.');\n  var reloading = false;\n  var Bokeh = root.Bokeh;\n\n  if (typeof (root._bokeh_timeout) === \"undefined\" || force) {\n    root._bokeh_timeout = Date.now() + 5000;\n    root._bokeh_failed_load = false;\n  }\n\n  function run_callbacks() {\n    try {\n      root._bokeh_onload_callbacks.forEach(function(callback) {\n        if (callback != null)\n          callback();\n      });\n    } finally {\n      delete root._bokeh_onload_callbacks;\n    }\n    console.debug(\"Bokeh: all callbacks have finished\");\n  }\n\n  function load_libs(css_urls, js_urls, js_modules, js_exports, callback) {\n    if (css_urls == null) css_urls = [];\n    if (js_urls == null) js_urls = [];\n    if (js_modules == null) js_modules = [];\n    if (js_exports == null) js_exports = {};\n\n    root._bokeh_onload_callbacks.push(callback);\n\n    if (root._bokeh_is_loading > 0) {\n      console.debug(\"Bokeh: BokehJS is being loaded, scheduling callback at\", now());\n      return null;\n    }\n    if (js_urls.length === 0 && js_modules.length === 0 && Object.keys(js_exports).length === 0) {\n      run_callbacks();\n      return null;\n    }\n    if (!reloading) {\n      console.debug(\"Bokeh: BokehJS not loaded, scheduling load and callback at\", now());\n    }\n\n    function on_load() {\n      root._bokeh_is_loading--;\n      if (root._bokeh_is_loading === 0) {\n        console.debug(\"Bokeh: all BokehJS libraries/stylesheets loaded\");\n        run_callbacks()\n      }\n    }\n    window._bokeh_on_load = on_load\n\n    function on_error() {\n      console.error(\"failed to load \" + url);\n    }\n\n    var skip = [];\n    if (window.requirejs) {\n      window.requirejs.config({'packages': {}, 'paths': {'jspanel': 'https://cdn.jsdelivr.net/npm/jspanel4@4.12.0/dist/jspanel', 'jspanel-modal': 'https://cdn.jsdelivr.net/npm/jspanel4@4.12.0/dist/extensions/modal/jspanel.modal', 'jspanel-tooltip': 'https://cdn.jsdelivr.net/npm/jspanel4@4.12.0/dist/extensions/tooltip/jspanel.tooltip', 'jspanel-hint': 'https://cdn.jsdelivr.net/npm/jspanel4@4.12.0/dist/extensions/hint/jspanel.hint', 'jspanel-layout': 'https://cdn.jsdelivr.net/npm/jspanel4@4.12.0/dist/extensions/layout/jspanel.layout', 'jspanel-contextmenu': 'https://cdn.jsdelivr.net/npm/jspanel4@4.12.0/dist/extensions/contextmenu/jspanel.contextmenu', 'jspanel-dock': 'https://cdn.jsdelivr.net/npm/jspanel4@4.12.0/dist/extensions/dock/jspanel.dock', 'gridstack': 'https://cdn.jsdelivr.net/npm/gridstack@7.2.3/dist/gridstack-all', 'notyf': 'https://cdn.jsdelivr.net/npm/notyf@3/notyf.min'}, 'shim': {'jspanel': {'exports': 'jsPanel'}, 'gridstack': {'exports': 'GridStack'}}});\n      require([\"jspanel\"], function(jsPanel) {\n\twindow.jsPanel = jsPanel\n\ton_load()\n      })\n      require([\"jspanel-modal\"], function() {\n\ton_load()\n      })\n      require([\"jspanel-tooltip\"], function() {\n\ton_load()\n      })\n      require([\"jspanel-hint\"], function() {\n\ton_load()\n      })\n      require([\"jspanel-layout\"], function() {\n\ton_load()\n      })\n      require([\"jspanel-contextmenu\"], function() {\n\ton_load()\n      })\n      require([\"jspanel-dock\"], function() {\n\ton_load()\n      })\n      require([\"gridstack\"], function(GridStack) {\n\twindow.GridStack = GridStack\n\ton_load()\n      })\n      require([\"notyf\"], function() {\n\ton_load()\n      })\n      root._bokeh_is_loading = css_urls.length + 9;\n    } else {\n      root._bokeh_is_loading = css_urls.length + js_urls.length + js_modules.length + Object.keys(js_exports).length;\n    }\n\n    var existing_stylesheets = []\n    var links = document.getElementsByTagName('link')\n    for (var i = 0; i < links.length; i++) {\n      var link = links[i]\n      if (link.href != null) {\n\texisting_stylesheets.push(link.href)\n      }\n    }\n    for (var i = 0; i < css_urls.length; i++) {\n      var url = css_urls[i];\n      if (existing_stylesheets.indexOf(url) !== -1) {\n\ton_load()\n\tcontinue;\n      }\n      const element = document.createElement(\"link\");\n      element.onload = on_load;\n      element.onerror = on_error;\n      element.rel = \"stylesheet\";\n      element.type = \"text/css\";\n      element.href = url;\n      console.debug(\"Bokeh: injecting link tag for BokehJS stylesheet: \", url);\n      document.body.appendChild(element);\n    }    if (((window['jsPanel'] !== undefined) && (!(window['jsPanel'] instanceof HTMLElement))) || window.requirejs) {\n      var urls = ['https://cdn.holoviz.org/panel/1.3.8/dist/bundled/floatpanel/jspanel4@4.12.0/dist/jspanel.js', 'https://cdn.holoviz.org/panel/1.3.8/dist/bundled/floatpanel/jspanel4@4.12.0/dist/extensions/modal/jspanel.modal.js', 'https://cdn.holoviz.org/panel/1.3.8/dist/bundled/floatpanel/jspanel4@4.12.0/dist/extensions/tooltip/jspanel.tooltip.js', 'https://cdn.holoviz.org/panel/1.3.8/dist/bundled/floatpanel/jspanel4@4.12.0/dist/extensions/hint/jspanel.hint.js', 'https://cdn.holoviz.org/panel/1.3.8/dist/bundled/floatpanel/jspanel4@4.12.0/dist/extensions/layout/jspanel.layout.js', 'https://cdn.holoviz.org/panel/1.3.8/dist/bundled/floatpanel/jspanel4@4.12.0/dist/extensions/contextmenu/jspanel.contextmenu.js', 'https://cdn.holoviz.org/panel/1.3.8/dist/bundled/floatpanel/jspanel4@4.12.0/dist/extensions/dock/jspanel.dock.js'];\n      for (var i = 0; i < urls.length; i++) {\n        skip.push(urls[i])\n      }\n    }    if (((window['GridStack'] !== undefined) && (!(window['GridStack'] instanceof HTMLElement))) || window.requirejs) {\n      var urls = ['https://cdn.holoviz.org/panel/1.3.8/dist/bundled/gridstack/gridstack@7.2.3/dist/gridstack-all.js'];\n      for (var i = 0; i < urls.length; i++) {\n        skip.push(urls[i])\n      }\n    }    if (((window['Notyf'] !== undefined) && (!(window['Notyf'] instanceof HTMLElement))) || window.requirejs) {\n      var urls = ['https://cdn.holoviz.org/panel/1.3.8/dist/bundled/notificationarea/notyf@3/notyf.min.js'];\n      for (var i = 0; i < urls.length; i++) {\n        skip.push(urls[i])\n      }\n    }    var existing_scripts = []\n    var scripts = document.getElementsByTagName('script')\n    for (var i = 0; i < scripts.length; i++) {\n      var script = scripts[i]\n      if (script.src != null) {\n\texisting_scripts.push(script.src)\n      }\n    }\n    for (var i = 0; i < js_urls.length; i++) {\n      var url = js_urls[i];\n      if (skip.indexOf(url) !== -1 || existing_scripts.indexOf(url) !== -1) {\n\tif (!window.requirejs) {\n\t  on_load();\n\t}\n\tcontinue;\n      }\n      var element = document.createElement('script');\n      element.onload = on_load;\n      element.onerror = on_error;\n      element.async = false;\n      element.src = url;\n      console.debug(\"Bokeh: injecting script tag for BokehJS library: \", url);\n      document.head.appendChild(element);\n    }\n    for (var i = 0; i < js_modules.length; i++) {\n      var url = js_modules[i];\n      if (skip.indexOf(url) !== -1 || existing_scripts.indexOf(url) !== -1) {\n\tif (!window.requirejs) {\n\t  on_load();\n\t}\n\tcontinue;\n      }\n      var element = document.createElement('script');\n      element.onload = on_load;\n      element.onerror = on_error;\n      element.async = false;\n      element.src = url;\n      element.type = \"module\";\n      console.debug(\"Bokeh: injecting script tag for BokehJS library: \", url);\n      document.head.appendChild(element);\n    }\n    for (const name in js_exports) {\n      var url = js_exports[name];\n      if (skip.indexOf(url) >= 0 || root[name] != null) {\n\tif (!window.requirejs) {\n\t  on_load();\n\t}\n\tcontinue;\n      }\n      var element = document.createElement('script');\n      element.onerror = on_error;\n      element.async = false;\n      element.type = \"module\";\n      console.debug(\"Bokeh: injecting script tag for BokehJS library: \", url);\n      element.textContent = `\n      import ${name} from \"${url}\"\n      window.${name} = ${name}\n      window._bokeh_on_load()\n      `\n      document.head.appendChild(element);\n    }\n    if (!js_urls.length && !js_modules.length) {\n      on_load()\n    }\n  };\n\n  function inject_raw_css(css) {\n    const element = document.createElement(\"style\");\n    element.appendChild(document.createTextNode(css));\n    document.body.appendChild(element);\n  }\n\n  var js_urls = [\"https://cdn.bokeh.org/bokeh/release/bokeh-3.3.4.min.js\", \"https://cdn.bokeh.org/bokeh/release/bokeh-gl-3.3.4.min.js\", \"https://cdn.bokeh.org/bokeh/release/bokeh-widgets-3.3.4.min.js\", \"https://cdn.bokeh.org/bokeh/release/bokeh-tables-3.3.4.min.js\", \"https://cdn.holoviz.org/panel/1.3.8/dist/panel.min.js\"];\n  var js_modules = [];\n  var js_exports = {};\n  var css_urls = [];\n  var inline_js = [    function(Bokeh) {\n      Bokeh.set_log_level(\"info\");\n    },\nfunction(Bokeh) {} // ensure no trailing comma for IE\n  ];\n\n  function run_inline_js() {\n    if ((root.Bokeh !== undefined) || (force === true)) {\n      for (var i = 0; i < inline_js.length; i++) {\n\ttry {\n          inline_js[i].call(root, root.Bokeh);\n\t} catch(e) {\n\t  if (!reloading) {\n\t    throw e;\n\t  }\n\t}\n      }\n      // Cache old bokeh versions\n      if (Bokeh != undefined && !reloading) {\n\tvar NewBokeh = root.Bokeh;\n\tif (Bokeh.versions === undefined) {\n\t  Bokeh.versions = new Map();\n\t}\n\tif (NewBokeh.version !== Bokeh.version) {\n\t  Bokeh.versions.set(NewBokeh.version, NewBokeh)\n\t}\n\troot.Bokeh = Bokeh;\n      }} else if (Date.now() < root._bokeh_timeout) {\n      setTimeout(run_inline_js, 100);\n    } else if (!root._bokeh_failed_load) {\n      console.log(\"Bokeh: BokehJS failed to load within specified timeout.\");\n      root._bokeh_failed_load = true;\n    }\n    root._bokeh_is_initializing = false\n  }\n\n  function load_or_wait() {\n    // Implement a backoff loop that tries to ensure we do not load multiple\n    // versions of Bokeh and its dependencies at the same time.\n    // In recent versions we use the root._bokeh_is_initializing flag\n    // to determine whether there is an ongoing attempt to initialize\n    // bokeh, however for backward compatibility we also try to ensure\n    // that we do not start loading a newer (Panel>=1.0 and Bokeh>3) version\n    // before older versions are fully initialized.\n    if (root._bokeh_is_initializing && Date.now() > root._bokeh_timeout) {\n      root._bokeh_is_initializing = false;\n      root._bokeh_onload_callbacks = undefined;\n      console.log(\"Bokeh: BokehJS was loaded multiple times but one version failed to initialize.\");\n      load_or_wait();\n    } else if (root._bokeh_is_initializing || (typeof root._bokeh_is_initializing === \"undefined\" && root._bokeh_onload_callbacks !== undefined)) {\n      setTimeout(load_or_wait, 100);\n    } else {\n      root._bokeh_is_initializing = true\n      root._bokeh_onload_callbacks = []\n      var bokeh_loaded = Bokeh != null && (Bokeh.version === py_version || (Bokeh.versions !== undefined && Bokeh.versions.has(py_version)));\n      if (!reloading && !bokeh_loaded) {\n\troot.Bokeh = undefined;\n      }\n      load_libs(css_urls, js_urls, js_modules, js_exports, function() {\n\tconsole.debug(\"Bokeh: BokehJS plotting callback run at\", now());\n\trun_inline_js();\n      });\n    }\n  }\n  // Give older versions of the autoload script a head-start to ensure\n  // they initialize before we start loading newer version.\n  setTimeout(load_or_wait, 100)\n}(window));"
     },
     "metadata": {},
     "output_type": "display_data"
    },
    {
     "data": {
      "application/javascript": [
       "\n",
       "if ((window.PyViz === undefined) || (window.PyViz instanceof HTMLElement)) {\n",
       "  window.PyViz = {comms: {}, comm_status:{}, kernels:{}, receivers: {}, plot_index: []}\n",
       "}\n",
       "\n",
       "\n",
       "    function JupyterCommManager() {\n",
       "    }\n",
       "\n",
       "    JupyterCommManager.prototype.register_target = function(plot_id, comm_id, msg_handler) {\n",
       "      if (window.comm_manager || ((window.Jupyter !== undefined) && (Jupyter.notebook.kernel != null))) {\n",
       "        var comm_manager = window.comm_manager || Jupyter.notebook.kernel.comm_manager;\n",
       "        comm_manager.register_target(comm_id, function(comm) {\n",
       "          comm.on_msg(msg_handler);\n",
       "        });\n",
       "      } else if ((plot_id in window.PyViz.kernels) && (window.PyViz.kernels[plot_id])) {\n",
       "        window.PyViz.kernels[plot_id].registerCommTarget(comm_id, function(comm) {\n",
       "          comm.onMsg = msg_handler;\n",
       "        });\n",
       "      } else if (typeof google != 'undefined' && google.colab.kernel != null) {\n",
       "        google.colab.kernel.comms.registerTarget(comm_id, (comm) => {\n",
       "          var messages = comm.messages[Symbol.asyncIterator]();\n",
       "          function processIteratorResult(result) {\n",
       "            var message = result.value;\n",
       "            console.log(message)\n",
       "            var content = {data: message.data, comm_id};\n",
       "            var buffers = []\n",
       "            for (var buffer of message.buffers || []) {\n",
       "              buffers.push(new DataView(buffer))\n",
       "            }\n",
       "            var metadata = message.metadata || {};\n",
       "            var msg = {content, buffers, metadata}\n",
       "            msg_handler(msg);\n",
       "            return messages.next().then(processIteratorResult);\n",
       "          }\n",
       "          return messages.next().then(processIteratorResult);\n",
       "        })\n",
       "      }\n",
       "    }\n",
       "\n",
       "    JupyterCommManager.prototype.get_client_comm = function(plot_id, comm_id, msg_handler) {\n",
       "      if (comm_id in window.PyViz.comms) {\n",
       "        return window.PyViz.comms[comm_id];\n",
       "      } else if (window.comm_manager || ((window.Jupyter !== undefined) && (Jupyter.notebook.kernel != null))) {\n",
       "        var comm_manager = window.comm_manager || Jupyter.notebook.kernel.comm_manager;\n",
       "        var comm = comm_manager.new_comm(comm_id, {}, {}, {}, comm_id);\n",
       "        if (msg_handler) {\n",
       "          comm.on_msg(msg_handler);\n",
       "        }\n",
       "      } else if ((plot_id in window.PyViz.kernels) && (window.PyViz.kernels[plot_id])) {\n",
       "        var comm = window.PyViz.kernels[plot_id].connectToComm(comm_id);\n",
       "        comm.open();\n",
       "        if (msg_handler) {\n",
       "          comm.onMsg = msg_handler;\n",
       "        }\n",
       "      } else if (typeof google != 'undefined' && google.colab.kernel != null) {\n",
       "        var comm_promise = google.colab.kernel.comms.open(comm_id)\n",
       "        comm_promise.then((comm) => {\n",
       "          window.PyViz.comms[comm_id] = comm;\n",
       "          if (msg_handler) {\n",
       "            var messages = comm.messages[Symbol.asyncIterator]();\n",
       "            function processIteratorResult(result) {\n",
       "              var message = result.value;\n",
       "              var content = {data: message.data};\n",
       "              var metadata = message.metadata || {comm_id};\n",
       "              var msg = {content, metadata}\n",
       "              msg_handler(msg);\n",
       "              return messages.next().then(processIteratorResult);\n",
       "            }\n",
       "            return messages.next().then(processIteratorResult);\n",
       "          }\n",
       "        }) \n",
       "        var sendClosure = (data, metadata, buffers, disposeOnDone) => {\n",
       "          return comm_promise.then((comm) => {\n",
       "            comm.send(data, metadata, buffers, disposeOnDone);\n",
       "          });\n",
       "        };\n",
       "        var comm = {\n",
       "          send: sendClosure\n",
       "        };\n",
       "      }\n",
       "      window.PyViz.comms[comm_id] = comm;\n",
       "      return comm;\n",
       "    }\n",
       "    window.PyViz.comm_manager = new JupyterCommManager();\n",
       "    \n",
       "\n",
       "\n",
       "var JS_MIME_TYPE = 'application/javascript';\n",
       "var HTML_MIME_TYPE = 'text/html';\n",
       "var EXEC_MIME_TYPE = 'application/vnd.holoviews_exec.v0+json';\n",
       "var CLASS_NAME = 'output';\n",
       "\n",
       "/**\n",
       " * Render data to the DOM node\n",
       " */\n",
       "function render(props, node) {\n",
       "  var div = document.createElement(\"div\");\n",
       "  var script = document.createElement(\"script\");\n",
       "  node.appendChild(div);\n",
       "  node.appendChild(script);\n",
       "}\n",
       "\n",
       "/**\n",
       " * Handle when a new output is added\n",
       " */\n",
       "function handle_add_output(event, handle) {\n",
       "  var output_area = handle.output_area;\n",
       "  var output = handle.output;\n",
       "  if ((output.data == undefined) || (!output.data.hasOwnProperty(EXEC_MIME_TYPE))) {\n",
       "    return\n",
       "  }\n",
       "  var id = output.metadata[EXEC_MIME_TYPE][\"id\"];\n",
       "  var toinsert = output_area.element.find(\".\" + CLASS_NAME.split(' ')[0]);\n",
       "  if (id !== undefined) {\n",
       "    var nchildren = toinsert.length;\n",
       "    var html_node = toinsert[nchildren-1].children[0];\n",
       "    html_node.innerHTML = output.data[HTML_MIME_TYPE];\n",
       "    var scripts = [];\n",
       "    var nodelist = html_node.querySelectorAll(\"script\");\n",
       "    for (var i in nodelist) {\n",
       "      if (nodelist.hasOwnProperty(i)) {\n",
       "        scripts.push(nodelist[i])\n",
       "      }\n",
       "    }\n",
       "\n",
       "    scripts.forEach( function (oldScript) {\n",
       "      var newScript = document.createElement(\"script\");\n",
       "      var attrs = [];\n",
       "      var nodemap = oldScript.attributes;\n",
       "      for (var j in nodemap) {\n",
       "        if (nodemap.hasOwnProperty(j)) {\n",
       "          attrs.push(nodemap[j])\n",
       "        }\n",
       "      }\n",
       "      attrs.forEach(function(attr) { newScript.setAttribute(attr.name, attr.value) });\n",
       "      newScript.appendChild(document.createTextNode(oldScript.innerHTML));\n",
       "      oldScript.parentNode.replaceChild(newScript, oldScript);\n",
       "    });\n",
       "    if (JS_MIME_TYPE in output.data) {\n",
       "      toinsert[nchildren-1].children[1].textContent = output.data[JS_MIME_TYPE];\n",
       "    }\n",
       "    output_area._hv_plot_id = id;\n",
       "    if ((window.Bokeh !== undefined) && (id in Bokeh.index)) {\n",
       "      window.PyViz.plot_index[id] = Bokeh.index[id];\n",
       "    } else {\n",
       "      window.PyViz.plot_index[id] = null;\n",
       "    }\n",
       "  } else if (output.metadata[EXEC_MIME_TYPE][\"server_id\"] !== undefined) {\n",
       "    var bk_div = document.createElement(\"div\");\n",
       "    bk_div.innerHTML = output.data[HTML_MIME_TYPE];\n",
       "    var script_attrs = bk_div.children[0].attributes;\n",
       "    for (var i = 0; i < script_attrs.length; i++) {\n",
       "      toinsert[toinsert.length - 1].childNodes[1].setAttribute(script_attrs[i].name, script_attrs[i].value);\n",
       "    }\n",
       "    // store reference to server id on output_area\n",
       "    output_area._bokeh_server_id = output.metadata[EXEC_MIME_TYPE][\"server_id\"];\n",
       "  }\n",
       "}\n",
       "\n",
       "/**\n",
       " * Handle when an output is cleared or removed\n",
       " */\n",
       "function handle_clear_output(event, handle) {\n",
       "  var id = handle.cell.output_area._hv_plot_id;\n",
       "  var server_id = handle.cell.output_area._bokeh_server_id;\n",
       "  if (((id === undefined) || !(id in PyViz.plot_index)) && (server_id !== undefined)) { return; }\n",
       "  var comm = window.PyViz.comm_manager.get_client_comm(\"hv-extension-comm\", \"hv-extension-comm\", function () {});\n",
       "  if (server_id !== null) {\n",
       "    comm.send({event_type: 'server_delete', 'id': server_id});\n",
       "    return;\n",
       "  } else if (comm !== null) {\n",
       "    comm.send({event_type: 'delete', 'id': id});\n",
       "  }\n",
       "  delete PyViz.plot_index[id];\n",
       "  if ((window.Bokeh !== undefined) & (id in window.Bokeh.index)) {\n",
       "    var doc = window.Bokeh.index[id].model.document\n",
       "    doc.clear();\n",
       "    const i = window.Bokeh.documents.indexOf(doc);\n",
       "    if (i > -1) {\n",
       "      window.Bokeh.documents.splice(i, 1);\n",
       "    }\n",
       "  }\n",
       "}\n",
       "\n",
       "/**\n",
       " * Handle kernel restart event\n",
       " */\n",
       "function handle_kernel_cleanup(event, handle) {\n",
       "  delete PyViz.comms[\"hv-extension-comm\"];\n",
       "  window.PyViz.plot_index = {}\n",
       "}\n",
       "\n",
       "/**\n",
       " * Handle update_display_data messages\n",
       " */\n",
       "function handle_update_output(event, handle) {\n",
       "  handle_clear_output(event, {cell: {output_area: handle.output_area}})\n",
       "  handle_add_output(event, handle)\n",
       "}\n",
       "\n",
       "function register_renderer(events, OutputArea) {\n",
       "  function append_mime(data, metadata, element) {\n",
       "    // create a DOM node to render to\n",
       "    var toinsert = this.create_output_subarea(\n",
       "    metadata,\n",
       "    CLASS_NAME,\n",
       "    EXEC_MIME_TYPE\n",
       "    );\n",
       "    this.keyboard_manager.register_events(toinsert);\n",
       "    // Render to node\n",
       "    var props = {data: data, metadata: metadata[EXEC_MIME_TYPE]};\n",
       "    render(props, toinsert[0]);\n",
       "    element.append(toinsert);\n",
       "    return toinsert\n",
       "  }\n",
       "\n",
       "  events.on('output_added.OutputArea', handle_add_output);\n",
       "  events.on('output_updated.OutputArea', handle_update_output);\n",
       "  events.on('clear_output.CodeCell', handle_clear_output);\n",
       "  events.on('delete.Cell', handle_clear_output);\n",
       "  events.on('kernel_ready.Kernel', handle_kernel_cleanup);\n",
       "\n",
       "  OutputArea.prototype.register_mime_type(EXEC_MIME_TYPE, append_mime, {\n",
       "    safe: true,\n",
       "    index: 0\n",
       "  });\n",
       "}\n",
       "\n",
       "if (window.Jupyter !== undefined) {\n",
       "  try {\n",
       "    var events = require('base/js/events');\n",
       "    var OutputArea = require('notebook/js/outputarea').OutputArea;\n",
       "    if (OutputArea.prototype.mime_types().indexOf(EXEC_MIME_TYPE) == -1) {\n",
       "      register_renderer(events, OutputArea);\n",
       "    }\n",
       "  } catch(err) {\n",
       "  }\n",
       "}\n"
      ],
      "application/vnd.holoviews_load.v0+json": "\nif ((window.PyViz === undefined) || (window.PyViz instanceof HTMLElement)) {\n  window.PyViz = {comms: {}, comm_status:{}, kernels:{}, receivers: {}, plot_index: []}\n}\n\n\n    function JupyterCommManager() {\n    }\n\n    JupyterCommManager.prototype.register_target = function(plot_id, comm_id, msg_handler) {\n      if (window.comm_manager || ((window.Jupyter !== undefined) && (Jupyter.notebook.kernel != null))) {\n        var comm_manager = window.comm_manager || Jupyter.notebook.kernel.comm_manager;\n        comm_manager.register_target(comm_id, function(comm) {\n          comm.on_msg(msg_handler);\n        });\n      } else if ((plot_id in window.PyViz.kernels) && (window.PyViz.kernels[plot_id])) {\n        window.PyViz.kernels[plot_id].registerCommTarget(comm_id, function(comm) {\n          comm.onMsg = msg_handler;\n        });\n      } else if (typeof google != 'undefined' && google.colab.kernel != null) {\n        google.colab.kernel.comms.registerTarget(comm_id, (comm) => {\n          var messages = comm.messages[Symbol.asyncIterator]();\n          function processIteratorResult(result) {\n            var message = result.value;\n            console.log(message)\n            var content = {data: message.data, comm_id};\n            var buffers = []\n            for (var buffer of message.buffers || []) {\n              buffers.push(new DataView(buffer))\n            }\n            var metadata = message.metadata || {};\n            var msg = {content, buffers, metadata}\n            msg_handler(msg);\n            return messages.next().then(processIteratorResult);\n          }\n          return messages.next().then(processIteratorResult);\n        })\n      }\n    }\n\n    JupyterCommManager.prototype.get_client_comm = function(plot_id, comm_id, msg_handler) {\n      if (comm_id in window.PyViz.comms) {\n        return window.PyViz.comms[comm_id];\n      } else if (window.comm_manager || ((window.Jupyter !== undefined) && (Jupyter.notebook.kernel != null))) {\n        var comm_manager = window.comm_manager || Jupyter.notebook.kernel.comm_manager;\n        var comm = comm_manager.new_comm(comm_id, {}, {}, {}, comm_id);\n        if (msg_handler) {\n          comm.on_msg(msg_handler);\n        }\n      } else if ((plot_id in window.PyViz.kernels) && (window.PyViz.kernels[plot_id])) {\n        var comm = window.PyViz.kernels[plot_id].connectToComm(comm_id);\n        comm.open();\n        if (msg_handler) {\n          comm.onMsg = msg_handler;\n        }\n      } else if (typeof google != 'undefined' && google.colab.kernel != null) {\n        var comm_promise = google.colab.kernel.comms.open(comm_id)\n        comm_promise.then((comm) => {\n          window.PyViz.comms[comm_id] = comm;\n          if (msg_handler) {\n            var messages = comm.messages[Symbol.asyncIterator]();\n            function processIteratorResult(result) {\n              var message = result.value;\n              var content = {data: message.data};\n              var metadata = message.metadata || {comm_id};\n              var msg = {content, metadata}\n              msg_handler(msg);\n              return messages.next().then(processIteratorResult);\n            }\n            return messages.next().then(processIteratorResult);\n          }\n        }) \n        var sendClosure = (data, metadata, buffers, disposeOnDone) => {\n          return comm_promise.then((comm) => {\n            comm.send(data, metadata, buffers, disposeOnDone);\n          });\n        };\n        var comm = {\n          send: sendClosure\n        };\n      }\n      window.PyViz.comms[comm_id] = comm;\n      return comm;\n    }\n    window.PyViz.comm_manager = new JupyterCommManager();\n    \n\n\nvar JS_MIME_TYPE = 'application/javascript';\nvar HTML_MIME_TYPE = 'text/html';\nvar EXEC_MIME_TYPE = 'application/vnd.holoviews_exec.v0+json';\nvar CLASS_NAME = 'output';\n\n/**\n * Render data to the DOM node\n */\nfunction render(props, node) {\n  var div = document.createElement(\"div\");\n  var script = document.createElement(\"script\");\n  node.appendChild(div);\n  node.appendChild(script);\n}\n\n/**\n * Handle when a new output is added\n */\nfunction handle_add_output(event, handle) {\n  var output_area = handle.output_area;\n  var output = handle.output;\n  if ((output.data == undefined) || (!output.data.hasOwnProperty(EXEC_MIME_TYPE))) {\n    return\n  }\n  var id = output.metadata[EXEC_MIME_TYPE][\"id\"];\n  var toinsert = output_area.element.find(\".\" + CLASS_NAME.split(' ')[0]);\n  if (id !== undefined) {\n    var nchildren = toinsert.length;\n    var html_node = toinsert[nchildren-1].children[0];\n    html_node.innerHTML = output.data[HTML_MIME_TYPE];\n    var scripts = [];\n    var nodelist = html_node.querySelectorAll(\"script\");\n    for (var i in nodelist) {\n      if (nodelist.hasOwnProperty(i)) {\n        scripts.push(nodelist[i])\n      }\n    }\n\n    scripts.forEach( function (oldScript) {\n      var newScript = document.createElement(\"script\");\n      var attrs = [];\n      var nodemap = oldScript.attributes;\n      for (var j in nodemap) {\n        if (nodemap.hasOwnProperty(j)) {\n          attrs.push(nodemap[j])\n        }\n      }\n      attrs.forEach(function(attr) { newScript.setAttribute(attr.name, attr.value) });\n      newScript.appendChild(document.createTextNode(oldScript.innerHTML));\n      oldScript.parentNode.replaceChild(newScript, oldScript);\n    });\n    if (JS_MIME_TYPE in output.data) {\n      toinsert[nchildren-1].children[1].textContent = output.data[JS_MIME_TYPE];\n    }\n    output_area._hv_plot_id = id;\n    if ((window.Bokeh !== undefined) && (id in Bokeh.index)) {\n      window.PyViz.plot_index[id] = Bokeh.index[id];\n    } else {\n      window.PyViz.plot_index[id] = null;\n    }\n  } else if (output.metadata[EXEC_MIME_TYPE][\"server_id\"] !== undefined) {\n    var bk_div = document.createElement(\"div\");\n    bk_div.innerHTML = output.data[HTML_MIME_TYPE];\n    var script_attrs = bk_div.children[0].attributes;\n    for (var i = 0; i < script_attrs.length; i++) {\n      toinsert[toinsert.length - 1].childNodes[1].setAttribute(script_attrs[i].name, script_attrs[i].value);\n    }\n    // store reference to server id on output_area\n    output_area._bokeh_server_id = output.metadata[EXEC_MIME_TYPE][\"server_id\"];\n  }\n}\n\n/**\n * Handle when an output is cleared or removed\n */\nfunction handle_clear_output(event, handle) {\n  var id = handle.cell.output_area._hv_plot_id;\n  var server_id = handle.cell.output_area._bokeh_server_id;\n  if (((id === undefined) || !(id in PyViz.plot_index)) && (server_id !== undefined)) { return; }\n  var comm = window.PyViz.comm_manager.get_client_comm(\"hv-extension-comm\", \"hv-extension-comm\", function () {});\n  if (server_id !== null) {\n    comm.send({event_type: 'server_delete', 'id': server_id});\n    return;\n  } else if (comm !== null) {\n    comm.send({event_type: 'delete', 'id': id});\n  }\n  delete PyViz.plot_index[id];\n  if ((window.Bokeh !== undefined) & (id in window.Bokeh.index)) {\n    var doc = window.Bokeh.index[id].model.document\n    doc.clear();\n    const i = window.Bokeh.documents.indexOf(doc);\n    if (i > -1) {\n      window.Bokeh.documents.splice(i, 1);\n    }\n  }\n}\n\n/**\n * Handle kernel restart event\n */\nfunction handle_kernel_cleanup(event, handle) {\n  delete PyViz.comms[\"hv-extension-comm\"];\n  window.PyViz.plot_index = {}\n}\n\n/**\n * Handle update_display_data messages\n */\nfunction handle_update_output(event, handle) {\n  handle_clear_output(event, {cell: {output_area: handle.output_area}})\n  handle_add_output(event, handle)\n}\n\nfunction register_renderer(events, OutputArea) {\n  function append_mime(data, metadata, element) {\n    // create a DOM node to render to\n    var toinsert = this.create_output_subarea(\n    metadata,\n    CLASS_NAME,\n    EXEC_MIME_TYPE\n    );\n    this.keyboard_manager.register_events(toinsert);\n    // Render to node\n    var props = {data: data, metadata: metadata[EXEC_MIME_TYPE]};\n    render(props, toinsert[0]);\n    element.append(toinsert);\n    return toinsert\n  }\n\n  events.on('output_added.OutputArea', handle_add_output);\n  events.on('output_updated.OutputArea', handle_update_output);\n  events.on('clear_output.CodeCell', handle_clear_output);\n  events.on('delete.Cell', handle_clear_output);\n  events.on('kernel_ready.Kernel', handle_kernel_cleanup);\n\n  OutputArea.prototype.register_mime_type(EXEC_MIME_TYPE, append_mime, {\n    safe: true,\n    index: 0\n  });\n}\n\nif (window.Jupyter !== undefined) {\n  try {\n    var events = require('base/js/events');\n    var OutputArea = require('notebook/js/outputarea').OutputArea;\n    if (OutputArea.prototype.mime_types().indexOf(EXEC_MIME_TYPE) == -1) {\n      register_renderer(events, OutputArea);\n    }\n  } catch(err) {\n  }\n}\n"
     },
     "metadata": {},
     "output_type": "display_data"
    },
    {
     "data": {
      "text/html": [
       "<style>*[data-root-id],\n",
       "*[data-root-id] > * {\n",
       "  box-sizing: border-box;\n",
       "  font-family: var(--jp-ui-font-family);\n",
       "  font-size: var(--jp-ui-font-size1);\n",
       "  color: var(--vscode-editor-foreground, var(--jp-ui-font-color1));\n",
       "}\n",
       "\n",
       "/* Override VSCode background color */\n",
       ".cell-output-ipywidget-background:has(\n",
       "    > .cell-output-ipywidget-background > .lm-Widget > *[data-root-id]\n",
       "  ),\n",
       ".cell-output-ipywidget-background:has(> .lm-Widget > *[data-root-id]) {\n",
       "  background-color: transparent !important;\n",
       "}\n",
       "</style>"
      ]
     },
     "metadata": {},
     "output_type": "display_data"
    },
    {
     "data": {
      "application/vnd.holoviews_exec.v0+json": "",
      "text/html": [
       "<div id='p1002'>\n",
       "  <div id=\"f5932ac5-3521-4665-b642-704a5cb11264\" data-root-id=\"p1002\" style=\"display: contents;\"></div>\n",
       "</div>\n",
       "<script type=\"application/javascript\">(function(root) {\n",
       "  var docs_json = {\"cf7de11d-6b7f-4c9b-b1bc-abc001f7bda2\":{\"version\":\"3.3.4\",\"title\":\"Bokeh Application\",\"roots\":[{\"type\":\"object\",\"name\":\"panel.models.browser.BrowserInfo\",\"id\":\"p1002\"},{\"type\":\"object\",\"name\":\"panel.models.comm_manager.CommManager\",\"id\":\"p1003\",\"attributes\":{\"plot_id\":\"p1002\",\"comm_id\":\"6d5e4e2d7e234813b218b31a2593be14\",\"client_comm_id\":\"3078a1a56e754bd696a235ab281b0a57\"}}],\"defs\":[{\"type\":\"model\",\"name\":\"ReactiveHTML1\"},{\"type\":\"model\",\"name\":\"FlexBox1\",\"properties\":[{\"name\":\"align_content\",\"kind\":\"Any\",\"default\":\"flex-start\"},{\"name\":\"align_items\",\"kind\":\"Any\",\"default\":\"flex-start\"},{\"name\":\"flex_direction\",\"kind\":\"Any\",\"default\":\"row\"},{\"name\":\"flex_wrap\",\"kind\":\"Any\",\"default\":\"wrap\"},{\"name\":\"justify_content\",\"kind\":\"Any\",\"default\":\"flex-start\"}]},{\"type\":\"model\",\"name\":\"FloatPanel1\",\"properties\":[{\"name\":\"config\",\"kind\":\"Any\",\"default\":{\"type\":\"map\"}},{\"name\":\"contained\",\"kind\":\"Any\",\"default\":true},{\"name\":\"position\",\"kind\":\"Any\",\"default\":\"right-top\"},{\"name\":\"offsetx\",\"kind\":\"Any\",\"default\":null},{\"name\":\"offsety\",\"kind\":\"Any\",\"default\":null},{\"name\":\"theme\",\"kind\":\"Any\",\"default\":\"primary\"},{\"name\":\"status\",\"kind\":\"Any\",\"default\":\"normalized\"}]},{\"type\":\"model\",\"name\":\"GridStack1\",\"properties\":[{\"name\":\"mode\",\"kind\":\"Any\",\"default\":\"warn\"},{\"name\":\"ncols\",\"kind\":\"Any\",\"default\":null},{\"name\":\"nrows\",\"kind\":\"Any\",\"default\":null},{\"name\":\"allow_resize\",\"kind\":\"Any\",\"default\":true},{\"name\":\"allow_drag\",\"kind\":\"Any\",\"default\":true},{\"name\":\"state\",\"kind\":\"Any\",\"default\":[]}]},{\"type\":\"model\",\"name\":\"drag1\",\"properties\":[{\"name\":\"slider_width\",\"kind\":\"Any\",\"default\":5},{\"name\":\"slider_color\",\"kind\":\"Any\",\"default\":\"black\"},{\"name\":\"value\",\"kind\":\"Any\",\"default\":50}]},{\"type\":\"model\",\"name\":\"click1\",\"properties\":[{\"name\":\"terminal_output\",\"kind\":\"Any\",\"default\":\"\"},{\"name\":\"debug_name\",\"kind\":\"Any\",\"default\":\"\"},{\"name\":\"clears\",\"kind\":\"Any\",\"default\":0}]},{\"type\":\"model\",\"name\":\"copy_to_clipboard1\",\"properties\":[{\"name\":\"fill\",\"kind\":\"Any\",\"default\":\"none\"},{\"name\":\"value\",\"kind\":\"Any\",\"default\":null}]},{\"type\":\"model\",\"name\":\"FastWrapper1\",\"properties\":[{\"name\":\"object\",\"kind\":\"Any\",\"default\":null},{\"name\":\"style\",\"kind\":\"Any\",\"default\":null}]},{\"type\":\"model\",\"name\":\"NotificationAreaBase1\",\"properties\":[{\"name\":\"js_events\",\"kind\":\"Any\",\"default\":{\"type\":\"map\"}},{\"name\":\"position\",\"kind\":\"Any\",\"default\":\"bottom-right\"},{\"name\":\"_clear\",\"kind\":\"Any\",\"default\":0}]},{\"type\":\"model\",\"name\":\"NotificationArea1\",\"properties\":[{\"name\":\"js_events\",\"kind\":\"Any\",\"default\":{\"type\":\"map\"}},{\"name\":\"notifications\",\"kind\":\"Any\",\"default\":[]},{\"name\":\"position\",\"kind\":\"Any\",\"default\":\"bottom-right\"},{\"name\":\"_clear\",\"kind\":\"Any\",\"default\":0},{\"name\":\"types\",\"kind\":\"Any\",\"default\":[{\"type\":\"map\",\"entries\":[[\"type\",\"warning\"],[\"background\",\"#ffc107\"],[\"icon\",{\"type\":\"map\",\"entries\":[[\"className\",\"fas fa-exclamation-triangle\"],[\"tagName\",\"i\"],[\"color\",\"white\"]]}]]},{\"type\":\"map\",\"entries\":[[\"type\",\"info\"],[\"background\",\"#007bff\"],[\"icon\",{\"type\":\"map\",\"entries\":[[\"className\",\"fas fa-info-circle\"],[\"tagName\",\"i\"],[\"color\",\"white\"]]}]]}]}]},{\"type\":\"model\",\"name\":\"Notification\",\"properties\":[{\"name\":\"background\",\"kind\":\"Any\",\"default\":null},{\"name\":\"duration\",\"kind\":\"Any\",\"default\":3000},{\"name\":\"icon\",\"kind\":\"Any\",\"default\":null},{\"name\":\"message\",\"kind\":\"Any\",\"default\":\"\"},{\"name\":\"notification_type\",\"kind\":\"Any\",\"default\":null},{\"name\":\"_destroyed\",\"kind\":\"Any\",\"default\":false}]},{\"type\":\"model\",\"name\":\"TemplateActions1\",\"properties\":[{\"name\":\"open_modal\",\"kind\":\"Any\",\"default\":0},{\"name\":\"close_modal\",\"kind\":\"Any\",\"default\":0}]},{\"type\":\"model\",\"name\":\"BootstrapTemplateActions1\",\"properties\":[{\"name\":\"open_modal\",\"kind\":\"Any\",\"default\":0},{\"name\":\"close_modal\",\"kind\":\"Any\",\"default\":0}]},{\"type\":\"model\",\"name\":\"MaterialTemplateActions1\",\"properties\":[{\"name\":\"open_modal\",\"kind\":\"Any\",\"default\":0},{\"name\":\"close_modal\",\"kind\":\"Any\",\"default\":0}]}]}};\n",
       "  var render_items = [{\"docid\":\"cf7de11d-6b7f-4c9b-b1bc-abc001f7bda2\",\"roots\":{\"p1002\":\"f5932ac5-3521-4665-b642-704a5cb11264\"},\"root_ids\":[\"p1002\"]}];\n",
       "  var docs = Object.values(docs_json)\n",
       "  if (!docs) {\n",
       "    return\n",
       "  }\n",
       "  const py_version = docs[0].version.replace('rc', '-rc.').replace('.dev', '-dev.')\n",
       "  function embed_document(root) {\n",
       "    var Bokeh = get_bokeh(root)\n",
       "    Bokeh.embed.embed_items_notebook(docs_json, render_items);\n",
       "    for (const render_item of render_items) {\n",
       "      for (const root_id of render_item.root_ids) {\n",
       "\tconst id_el = document.getElementById(root_id)\n",
       "\tif (id_el.children.length && (id_el.children[0].className === 'bk-root')) {\n",
       "\t  const root_el = id_el.children[0]\n",
       "\t  root_el.id = root_el.id + '-rendered'\n",
       "\t}\n",
       "      }\n",
       "    }\n",
       "  }\n",
       "  function get_bokeh(root) {\n",
       "    if (root.Bokeh === undefined) {\n",
       "      return null\n",
       "    } else if (root.Bokeh.version !== py_version) {\n",
       "      if (root.Bokeh.versions === undefined || !root.Bokeh.versions.has(py_version)) {\n",
       "\treturn null\n",
       "      }\n",
       "      return root.Bokeh.versions.get(py_version);\n",
       "    } else if (root.Bokeh.version === py_version) {\n",
       "      return root.Bokeh\n",
       "    }\n",
       "    return null\n",
       "  }\n",
       "  function is_loaded(root) {\n",
       "    var Bokeh = get_bokeh(root)\n",
       "    return (Bokeh != null && Bokeh.Panel !== undefined)\n",
       "  }\n",
       "  if (is_loaded(root)) {\n",
       "    embed_document(root);\n",
       "  } else {\n",
       "    var attempts = 0;\n",
       "    var timer = setInterval(function(root) {\n",
       "      if (is_loaded(root)) {\n",
       "        clearInterval(timer);\n",
       "        embed_document(root);\n",
       "      } else if (document.readyState == \"complete\") {\n",
       "        attempts++;\n",
       "        if (attempts > 200) {\n",
       "          clearInterval(timer);\n",
       "\t  var Bokeh = get_bokeh(root)\n",
       "\t  if (Bokeh == null || Bokeh.Panel == null) {\n",
       "            console.warn(\"Panel: ERROR: Unable to run Panel code because Bokeh or Panel library is missing\");\n",
       "\t  } else {\n",
       "\t    console.warn(\"Panel: WARNING: Attempting to render but not all required libraries could be resolved.\")\n",
       "\t    embed_document(root)\n",
       "\t  }\n",
       "        }\n",
       "      }\n",
       "    }, 25, root)\n",
       "  }\n",
       "})(window);</script>"
      ]
     },
     "metadata": {
      "application/vnd.holoviews_exec.v0+json": {
       "id": "p1002"
      }
     },
     "output_type": "display_data"
    }
   ],
   "source": [
    "import bga_function  #(self-made functions)\n",
    "from bs4 import BeautifulSoup\n",
    "import requests\n",
    "from selenium import webdriver\n",
    "from selenium.webdriver.common.by import By\n",
    "import time\n",
    "import statistics\n",
    "import datetime\n",
    "import re\n",
    "import pandas as pd\n",
    "import numpy as np\n",
    "import holoviews as hv\n",
    "import hvplot.pandas # adds hvplot method to pandas objects\n",
    "from selenium.webdriver.common.action_chains import ActionChains\n",
    "from contextlib import redirect_stdout\n",
    "from bokeh.plotting import show\n",
    "from bokeh.io import export_png\n",
    "import os\n",
    "\n",
    "# from selenium.webdriver.chrome.options import Options\n",
    "\n",
    "waiting_time = 5"
   ]
  },
  {
   "cell_type": "code",
   "execution_count": 2,
   "id": "ca15888a-1fa6-440c-8831-59cdf99dc5d3",
   "metadata": {
    "tags": []
   },
   "outputs": [],
   "source": [
    "# service = webdriver.FirefoxService(executable_path = r'C:\\Users\\Simon\\app\\bin\\geckodriver.exe')\n",
    "# driver = webdriver.Firefox(service=service)\n",
    "# \"C:\\Users\\Simon\\Documents\\GitHub\\wpoc\\code\\chromedriver.exe\"\n",
    "service = webdriver.ChromeService(executable_path = r'C:\\Users\\Simon\\Documents\\GitHub\\wpoc\\code\\chromedriver.exe')\n",
    "driver = webdriver.Chrome(service=service)\n",
    "# # log-in  qxxxaxxx 1xxx1xxx \n",
    "driver.get(\"https://en.boardgamearena.com/account\")\n",
    "time.sleep(5)"
   ]
  },
  {
   "cell_type": "code",
   "execution_count": 3,
   "id": "ed94b401-9928-4bbd-975f-d9a4b77b339e",
   "metadata": {},
   "outputs": [],
   "source": [
    "clickable1 = driver.find_element(By.ID, \"username_input\")\n",
    "ActionChains(driver)\\\n",
    "        .click(clickable1)\\\n",
    "        .send_keys(\"simbkt\")\\\n",
    "        .perform()\n",
    "\n",
    "clickable2 = driver.find_element(By.ID, \"password_input\")\n",
    "ActionChains(driver)\\\n",
    "        .click(clickable2)\\\n",
    "        .send_keys(\"qwerasdf\")\\\n",
    "        .perform()\n",
    "\n",
    "time.sleep(3)\n",
    "clickable3 = driver.find_element(By.ID, \"submit_login_button\")\n",
    "ActionChains(driver)\\\n",
    "        .click(clickable3)\\\n",
    "        .perform()\n",
    "\n",
    "time.sleep(waiting_time)"
   ]
  },
  {
   "cell_type": "markdown",
   "id": "0b39fba7-6bb2-4d36-b737-3e9db4f3de3a",
   "metadata": {
    "tags": []
   },
   "source": [
    "### Scrap tournament page: get game name, user name and link, match link\n"
   ]
  },
  {
   "cell_type": "code",
   "execution_count": 4,
   "id": "66da25ee-7f1c-4fda-8c8c-0e43a34fb7a8",
   "metadata": {
    "tags": []
   },
   "outputs": [
    {
     "name": "stdout",
     "output_type": "stream",
     "text": [
      "Western Pacific Ocean Cup • Season 1\n",
      "Ticket to Ride\n",
      "https://boardgamearena.com/tournament?id=303099\n",
      "\n",
      "number of players: 63\n",
      "\n",
      "look into the page of a group...\n",
      "look into the page of a group...\n",
      "\n",
      "number of tables: 162\n"
     ]
    }
   ],
   "source": [
    "# get url of this tournament\n",
    "tournament_link = driver.current_url\n",
    "\n",
    "# get tournament name\n",
    "tournament_name = driver.find_element(By.CLASS_NAME, 'tournaments-presentation__title-tournament').text\n",
    "print(tournament_name)\n",
    "\n",
    "# get game name\n",
    "game_name = driver.find_element(By.CLASS_NAME, 'tournaments-presentation__title-game').find_element(By.CLASS_NAME, 'bga-link').text\n",
    "print(game_name)\n",
    "print(tournament_link)\n",
    "\n",
    "# get start date\n",
    "start_date = driver.find_element(By.CLASS_NAME, 'localDate').text[:10]\n",
    "\n",
    "# get lists of names and link from the  tournament page\n",
    "entries_finished_tournament = driver.find_elements(By.CLASS_NAME, 'tournaments-results-players__name')\n",
    "# entries_ongoing_tournament = driver.find_elements(By.CLASS_NAME, 'tournaments-registered-players__name')\n",
    "preliminary_entries = driver.find_elements(By.CLASS_NAME, 'tournaments-registered-players__player ')\n",
    "\n",
    "entries_ongoing_tournament = []\n",
    "for i in preliminary_entries:\n",
    "    if i.find_element(By.CLASS_NAME, 'tournaments-registered-players__rank').text == 'invited':\n",
    "        pass\n",
    "    else:\n",
    "        entries_ongoing_tournament.append(i.find_element(By.CLASS_NAME, 'tournaments-registered-players__name'))\n",
    "\n",
    "# get rank of players\n",
    "if game_name == '7 Wonders':\n",
    "    top_rank_class = ['tournaments-results-players__player--rank1',\n",
    "                      'tournaments-results-players__player--rank2',\n",
    "                      'tournaments-results-players__player--rank3',\n",
    "                      'tournaments-results-players__player--rank4',\n",
    "                      'tournaments-results-players__player--rank5',\n",
    "                      'tournaments-results-players__player--rank6',\n",
    "                      'tournaments-results-players__player--rank7',\n",
    "                      'tournaments-results-players__player--rank8']\n",
    "else:\n",
    "    top_rank_class = ['tournaments-results-players__player--rank1','tournaments-results-players__player--rank2','tournaments-results-players__player--rank3','tournaments-results-players__player--rank5']\n",
    "\n",
    "ranked_player = []\n",
    "for i in top_rank_class:\n",
    "    # print(i)\n",
    "    entries = driver.find_elements(By.CLASS_NAME, i)\n",
    "    for _ in entries:\n",
    "        result = re.findall(\"(.*)\\n(.*)\",_.text)\n",
    "        link = _.find_element(By.CLASS_NAME, \"playername\").get_attribute('href')\n",
    "        ranked_player.append([result,link])\n",
    "    \n",
    "players=[]\n",
    "player_links=[]\n",
    "tables=[]\n",
    "\n",
    "# print results while running\n",
    "for i in entries_finished_tournament + entries_ongoing_tournament:\n",
    "    # print(i.text, i.get_attribute(\"href\"))\n",
    "    players.append(i.text)\n",
    "    player_links.append(i.get_attribute(\"href\"))\n",
    "\n",
    "print(\"\")   \n",
    "print(f\"number of players: {len(players)}\") \n",
    "print(\"\")\n",
    "if driver.find_element(By.CLASS_NAME,'tournaments-mode-presentation__name').text !='Groups Stage':\n",
    "    entries_table = driver.find_elements(By.CLASS_NAME, 'v2tournament__encounter-title')\n",
    "    for i in entries_table:\n",
    "        # print(i.get_attribute(\"href\"))\n",
    "        if i.text == 'Skipped': # dont include ongoing tables\n",
    "            # print(\"skipped\")\n",
    "            pass\n",
    "        else:\n",
    "            tables.append(i.get_attribute(\"href\"))\n",
    "else: # group stage tournament \n",
    "    group_page_link = []\n",
    "    for i in driver.find_elements(By.CLASS_NAME,'v2tournament__encounter-title'):\n",
    "        group_page_link.append(i.get_attribute(\"href\"))\n",
    "    for link in group_page_link:\n",
    "        if re.search(\"tournament\",link): # stage 1 group link\n",
    "            print(\"look into the page of a group...\")\n",
    "            driver.get(link)\n",
    "            time.sleep(waiting_time)\n",
    "            entries_table = driver.find_elements(By.CLASS_NAME, 'v2tournament__encounter-title')\n",
    "            for i in entries_table:\n",
    "                if i.text == 'Skipped': # dont include ongoing tables\n",
    "                    # print(\"skipped\")\n",
    "                    pass\n",
    "                else:\n",
    "                    tables.append(i.get_attribute(\"href\")) \n",
    "        else: # stage 2 elimination table links\n",
    "            tables.append(link)     \n",
    "            \n",
    "print(\"\")\n",
    "tables_bk = tables\n",
    "tables = list(filter(None, tables)) # get rid of entries of skipped tables\n",
    "print(\"number of tables:\", len(tables))\n",
    "\n",
    "interrupt = -1\n"
   ]
  },
  {
   "cell_type": "code",
   "execution_count": 6,
   "id": "a450e149-01c6-4f07-8cf6-97e14fdc6462",
   "metadata": {},
   "outputs": [],
   "source": [
    "# tables"
   ]
  },
  {
   "cell_type": "markdown",
   "id": "3612fe09-99eb-43e8-a301-d8ed3119333d",
   "metadata": {
    "tags": []
   },
   "source": [
    "## Scrap user page: retrun the information of users\n"
   ]
  },
  {
   "cell_type": "code",
   "execution_count": 7,
   "id": "2061907b-ba24-4107-b5f4-81d48cb00cb3",
   "metadata": {
    "tags": []
   },
   "outputs": [],
   "source": [
    "# diagnosis code when interrupted\n",
    "interrupt += 1\n",
    "if interrupt == 0: # command to start new task\n",
    "    pass\n",
    "else:\n",
    "    pos = len(player_info) \n",
    "    print(\"number of iteration left: \",len(players)-pos)\n",
    "    waiting_time += 1"
   ]
  },
  {
   "cell_type": "code",
   "execution_count": 8,
   "id": "6b173d67-746f-4902-b139-6dcfc6e2b3b7",
   "metadata": {
    "tags": []
   },
   "outputs": [
    {
     "name": "stdout",
     "output_type": "stream",
     "text": [
      "estimate to finish scraping players at 07:48\n",
      "finish scraping players at 07:49\n"
     ]
    }
   ],
   "source": [
    "# estimate script running time\n",
    "scrip_player_duration = len(players) * waiting_time * 1.43    #tried 1.4 1.5 1.45 1.43 \n",
    "script_player_time = datetime.datetime.now() + datetime.timedelta(seconds=scrip_player_duration)\n",
    "print(f\"estimate to finish scraping players at {script_player_time.strftime('%H:%M')}\")\n",
    "\n",
    "# visit every user page\n",
    "if interrupt == 0: # command to start new task\n",
    "    player_info = []\n",
    "    for i in range(len(players)): # loop into each player's user page\n",
    "        player_info.append(bga_function.get_player_info(driver, waiting_time, player_links[i], game_name))\n",
    "else: # command when interrupt\n",
    "    for i in range(pos, len(players)): # when interrupt\n",
    "        player_info.append(bga_function.get_player_info(driver, waiting_time, player_links[i], game_name))\n",
    "\n",
    "print(f\"finish scraping players at {datetime.datetime.now().strftime('%H:%M')}\")    "
   ]
  },
  {
   "cell_type": "code",
   "execution_count": 9,
   "id": "56c45163-5297-4802-ab76-487620645e8b",
   "metadata": {},
   "outputs": [
    {
     "name": "stdout",
     "output_type": "stream",
     "text": [
      "number of iteration left:  0\n"
     ]
    }
   ],
   "source": [
    "print(\"number of iteration left: \",len(players) - len(player_info) )"
   ]
  },
  {
   "cell_type": "code",
   "execution_count": 14,
   "id": "48b24abd-a27a-4724-bc72-436412d9222e",
   "metadata": {
    "tags": []
   },
   "outputs": [
    {
     "data": {
      "text/html": [
       "\n",
       "  <div id=\"bac7d726-c37e-49d2-936b-63d6a83bf8da\" data-root-id=\"p1179\" style=\"display: contents;\"></div>\n"
      ]
     },
     "metadata": {},
     "output_type": "display_data"
    },
    {
     "data": {
      "application/javascript": [
       "(function(root) {\n",
       "  function embed_document(root) {\n",
       "  const docs_json = {\"5f01396d-9cd4-4a81-814c-6a536f8680c7\":{\"version\":\"3.3.4\",\"title\":\"Bokeh Application\",\"roots\":[{\"type\":\"object\",\"name\":\"Figure\",\"id\":\"p1179\",\"attributes\":{\"width\":350,\"height\":70,\"sizing_mode\":\"fixed\",\"align\":\"start\",\"x_range\":{\"type\":\"object\",\"name\":\"Range1d\",\"id\":\"p1170\",\"attributes\":{\"tags\":[[[\"elo\",\"elo\",null]],[]],\"start\":60.699999999999996,\"end\":532.3,\"reset_start\":60.699999999999996,\"reset_end\":532.3}},\"y_range\":{\"type\":\"object\",\"name\":\"FactorRange\",\"id\":\"p1171\",\"attributes\":{\"tags\":[[[\"dummy\",\"dummy\",null]],{\"type\":\"map\",\"entries\":[[\"invert_yaxis\",false],[\"autorange\",false]]}],\"factors\":[\"1\"]}},\"x_scale\":{\"type\":\"object\",\"name\":\"LinearScale\",\"id\":\"p1189\"},\"y_scale\":{\"type\":\"object\",\"name\":\"CategoricalScale\",\"id\":\"p1190\"},\"title\":{\"type\":\"object\",\"name\":\"Title\",\"id\":\"p1182\",\"attributes\":{\"text\":\"Elo of players\",\"text_font_size\":\"11pt\"}},\"outline_line_width\":0,\"renderers\":[{\"type\":\"object\",\"name\":\"GlyphRenderer\",\"id\":\"p1219\",\"attributes\":{\"data_source\":{\"type\":\"object\",\"name\":\"ColumnDataSource\",\"id\":\"p1210\",\"attributes\":{\"selected\":{\"type\":\"object\",\"name\":\"Selection\",\"id\":\"p1211\",\"attributes\":{\"indices\":[],\"line_indices\":[]}},\"selection_policy\":{\"type\":\"object\",\"name\":\"UnionRenderers\",\"id\":\"p1212\"},\"data\":{\"type\":\"map\",\"entries\":[[\"index\",[\"1\",\"1\",\"1\"]],[\"elo\",{\"type\":\"ndarray\",\"array\":{\"type\":\"bytes\",\"data\":\"7QEAAMkBAAC7AQAA\"},\"shape\":[3],\"dtype\":\"int32\",\"order\":\"little\"}]]}}},\"view\":{\"type\":\"object\",\"name\":\"CDSView\",\"id\":\"p1220\",\"attributes\":{\"filter\":{\"type\":\"object\",\"name\":\"AllIndices\",\"id\":\"p1221\"}}},\"glyph\":{\"type\":\"object\",\"name\":\"Circle\",\"id\":\"p1216\",\"attributes\":{\"x\":{\"type\":\"field\",\"field\":\"elo\"},\"y\":{\"type\":\"field\",\"field\":\"index\"},\"fill_color\":{\"type\":\"value\",\"value\":\"black\"}}},\"selection_glyph\":{\"type\":\"object\",\"name\":\"Circle\",\"id\":\"p1222\",\"attributes\":{\"x\":{\"type\":\"field\",\"field\":\"elo\"},\"y\":{\"type\":\"field\",\"field\":\"index\"},\"size\":{\"type\":\"value\",\"value\":4},\"angle\":{\"type\":\"value\",\"value\":0.0},\"line_color\":{\"type\":\"value\",\"value\":\"black\"},\"line_alpha\":{\"type\":\"value\",\"value\":1.0},\"line_width\":{\"type\":\"value\",\"value\":1},\"line_join\":{\"type\":\"value\",\"value\":\"bevel\"},\"line_cap\":{\"type\":\"value\",\"value\":\"butt\"},\"line_dash\":{\"type\":\"value\",\"value\":[]},\"line_dash_offset\":{\"type\":\"value\",\"value\":0},\"fill_color\":{\"type\":\"value\",\"value\":\"black\"},\"fill_alpha\":{\"type\":\"value\",\"value\":1.0},\"hatch_color\":{\"type\":\"value\",\"value\":\"black\"},\"hatch_alpha\":{\"type\":\"value\",\"value\":1.0},\"hatch_scale\":{\"type\":\"value\",\"value\":12.0},\"hatch_pattern\":{\"type\":\"value\",\"value\":null},\"hatch_weight\":{\"type\":\"value\",\"value\":1.0},\"radius\":{\"type\":\"value\",\"value\":null}}},\"nonselection_glyph\":{\"type\":\"object\",\"name\":\"Circle\",\"id\":\"p1217\",\"attributes\":{\"x\":{\"type\":\"field\",\"field\":\"elo\"},\"y\":{\"type\":\"field\",\"field\":\"index\"},\"line_alpha\":{\"type\":\"value\",\"value\":0.1},\"fill_color\":{\"type\":\"value\",\"value\":\"black\"},\"fill_alpha\":{\"type\":\"value\",\"value\":0.1},\"hatch_alpha\":{\"type\":\"value\",\"value\":0.1}}},\"muted_glyph\":{\"type\":\"object\",\"name\":\"Circle\",\"id\":\"p1218\",\"attributes\":{\"x\":{\"type\":\"field\",\"field\":\"elo\"},\"y\":{\"type\":\"field\",\"field\":\"index\"},\"line_alpha\":{\"type\":\"value\",\"value\":0.2},\"fill_color\":{\"type\":\"value\",\"value\":\"black\"},\"fill_alpha\":{\"type\":\"value\",\"value\":0.2},\"hatch_alpha\":{\"type\":\"value\",\"value\":0.2}}}}},{\"type\":\"object\",\"name\":\"GlyphRenderer\",\"id\":\"p1232\",\"attributes\":{\"data_source\":{\"type\":\"object\",\"name\":\"ColumnDataSource\",\"id\":\"p1223\",\"attributes\":{\"selected\":{\"type\":\"object\",\"name\":\"Selection\",\"id\":\"p1224\",\"attributes\":{\"indices\":[],\"line_indices\":[]}},\"selection_policy\":{\"type\":\"object\",\"name\":\"UnionRenderers\",\"id\":\"p1225\"},\"data\":{\"type\":\"map\",\"entries\":[[\"index\",[\"1\"]],[\"top\",{\"type\":\"ndarray\",\"array\":{\"type\":\"bytes\",\"data\":\"AAAAAAAgakA=\"},\"shape\":[1],\"dtype\":\"float64\",\"order\":\"little\"}],[\"bottom\",{\"type\":\"ndarray\",\"array\":{\"type\":\"bytes\",\"data\":\"AAAAAAC4cEA=\"},\"shape\":[1],\"dtype\":\"float64\",\"order\":\"little\"}]]}}},\"view\":{\"type\":\"object\",\"name\":\"CDSView\",\"id\":\"p1233\",\"attributes\":{\"filter\":{\"type\":\"object\",\"name\":\"AllIndices\",\"id\":\"p1234\"}}},\"glyph\":{\"type\":\"object\",\"name\":\"HBar\",\"id\":\"p1229\",\"attributes\":{\"y\":{\"type\":\"field\",\"field\":\"index\"},\"height\":{\"type\":\"value\",\"value\":0.7},\"left\":{\"type\":\"field\",\"field\":\"top\"},\"right\":{\"type\":\"field\",\"field\":\"bottom\"},\"fill_color\":{\"type\":\"value\",\"value\":\"#30a2da\"}}},\"selection_glyph\":{\"type\":\"object\",\"name\":\"HBar\",\"id\":\"p1235\",\"attributes\":{\"y\":{\"type\":\"field\",\"field\":\"index\"},\"height\":{\"type\":\"value\",\"value\":0.7},\"left\":{\"type\":\"field\",\"field\":\"top\"},\"right\":{\"type\":\"field\",\"field\":\"bottom\"},\"line_color\":{\"type\":\"value\",\"value\":\"black\"},\"line_alpha\":{\"type\":\"value\",\"value\":1.0},\"line_width\":{\"type\":\"value\",\"value\":1},\"line_join\":{\"type\":\"value\",\"value\":\"bevel\"},\"line_cap\":{\"type\":\"value\",\"value\":\"butt\"},\"line_dash\":{\"type\":\"value\",\"value\":[]},\"line_dash_offset\":{\"type\":\"value\",\"value\":0},\"fill_color\":{\"type\":\"value\",\"value\":\"#30a2da\"},\"fill_alpha\":{\"type\":\"value\",\"value\":1.0},\"hatch_color\":{\"type\":\"value\",\"value\":\"black\"},\"hatch_alpha\":{\"type\":\"value\",\"value\":1.0},\"hatch_scale\":{\"type\":\"value\",\"value\":12.0},\"hatch_pattern\":{\"type\":\"value\",\"value\":null},\"hatch_weight\":{\"type\":\"value\",\"value\":1.0}}},\"nonselection_glyph\":{\"type\":\"object\",\"name\":\"HBar\",\"id\":\"p1230\",\"attributes\":{\"y\":{\"type\":\"field\",\"field\":\"index\"},\"height\":{\"type\":\"value\",\"value\":0.7},\"left\":{\"type\":\"field\",\"field\":\"top\"},\"right\":{\"type\":\"field\",\"field\":\"bottom\"},\"line_alpha\":{\"type\":\"value\",\"value\":0.1},\"fill_color\":{\"type\":\"value\",\"value\":\"#30a2da\"},\"fill_alpha\":{\"type\":\"value\",\"value\":0.1},\"hatch_alpha\":{\"type\":\"value\",\"value\":0.1}}},\"muted_glyph\":{\"type\":\"object\",\"name\":\"HBar\",\"id\":\"p1231\",\"attributes\":{\"y\":{\"type\":\"field\",\"field\":\"index\"},\"height\":{\"type\":\"value\",\"value\":0.7},\"left\":{\"type\":\"field\",\"field\":\"top\"},\"right\":{\"type\":\"field\",\"field\":\"bottom\"},\"line_alpha\":{\"type\":\"value\",\"value\":0.2},\"fill_color\":{\"type\":\"value\",\"value\":\"#30a2da\"},\"fill_alpha\":{\"type\":\"value\",\"value\":0.2},\"hatch_alpha\":{\"type\":\"value\",\"value\":0.2}}}}},{\"type\":\"object\",\"name\":\"GlyphRenderer\",\"id\":\"p1245\",\"attributes\":{\"data_source\":{\"type\":\"object\",\"name\":\"ColumnDataSource\",\"id\":\"p1236\",\"attributes\":{\"selected\":{\"type\":\"object\",\"name\":\"Selection\",\"id\":\"p1237\",\"attributes\":{\"indices\":[],\"line_indices\":[]}},\"selection_policy\":{\"type\":\"object\",\"name\":\"UnionRenderers\",\"id\":\"p1238\"},\"data\":{\"type\":\"map\",\"entries\":[[\"index\",[\"1\"]],[\"top\",{\"type\":\"ndarray\",\"array\":{\"type\":\"bytes\",\"data\":\"AAAAAABwY0A=\"},\"shape\":[1],\"dtype\":\"float64\",\"order\":\"little\"}],[\"bottom\",{\"type\":\"ndarray\",\"array\":{\"type\":\"bytes\",\"data\":\"AAAAAAAgakA=\"},\"shape\":[1],\"dtype\":\"float64\",\"order\":\"little\"}]]}}},\"view\":{\"type\":\"object\",\"name\":\"CDSView\",\"id\":\"p1246\",\"attributes\":{\"filter\":{\"type\":\"object\",\"name\":\"AllIndices\",\"id\":\"p1247\"}}},\"glyph\":{\"type\":\"object\",\"name\":\"HBar\",\"id\":\"p1242\",\"attributes\":{\"y\":{\"type\":\"field\",\"field\":\"index\"},\"height\":{\"type\":\"value\",\"value\":0.7},\"left\":{\"type\":\"field\",\"field\":\"top\"},\"right\":{\"type\":\"field\",\"field\":\"bottom\"},\"fill_color\":{\"type\":\"value\",\"value\":\"#30a2da\"}}},\"selection_glyph\":{\"type\":\"object\",\"name\":\"HBar\",\"id\":\"p1248\",\"attributes\":{\"y\":{\"type\":\"field\",\"field\":\"index\"},\"height\":{\"type\":\"value\",\"value\":0.7},\"left\":{\"type\":\"field\",\"field\":\"top\"},\"right\":{\"type\":\"field\",\"field\":\"bottom\"},\"line_color\":{\"type\":\"value\",\"value\":\"black\"},\"line_alpha\":{\"type\":\"value\",\"value\":1.0},\"line_width\":{\"type\":\"value\",\"value\":1},\"line_join\":{\"type\":\"value\",\"value\":\"bevel\"},\"line_cap\":{\"type\":\"value\",\"value\":\"butt\"},\"line_dash\":{\"type\":\"value\",\"value\":[]},\"line_dash_offset\":{\"type\":\"value\",\"value\":0},\"fill_color\":{\"type\":\"value\",\"value\":\"#30a2da\"},\"fill_alpha\":{\"type\":\"value\",\"value\":1.0},\"hatch_color\":{\"type\":\"value\",\"value\":\"black\"},\"hatch_alpha\":{\"type\":\"value\",\"value\":1.0},\"hatch_scale\":{\"type\":\"value\",\"value\":12.0},\"hatch_pattern\":{\"type\":\"value\",\"value\":null},\"hatch_weight\":{\"type\":\"value\",\"value\":1.0}}},\"nonselection_glyph\":{\"type\":\"object\",\"name\":\"HBar\",\"id\":\"p1243\",\"attributes\":{\"y\":{\"type\":\"field\",\"field\":\"index\"},\"height\":{\"type\":\"value\",\"value\":0.7},\"left\":{\"type\":\"field\",\"field\":\"top\"},\"right\":{\"type\":\"field\",\"field\":\"bottom\"},\"line_alpha\":{\"type\":\"value\",\"value\":0.1},\"fill_color\":{\"type\":\"value\",\"value\":\"#30a2da\"},\"fill_alpha\":{\"type\":\"value\",\"value\":0.1},\"hatch_alpha\":{\"type\":\"value\",\"value\":0.1}}},\"muted_glyph\":{\"type\":\"object\",\"name\":\"HBar\",\"id\":\"p1244\",\"attributes\":{\"y\":{\"type\":\"field\",\"field\":\"index\"},\"height\":{\"type\":\"value\",\"value\":0.7},\"left\":{\"type\":\"field\",\"field\":\"top\"},\"right\":{\"type\":\"field\",\"field\":\"bottom\"},\"line_alpha\":{\"type\":\"value\",\"value\":0.2},\"fill_color\":{\"type\":\"value\",\"value\":\"#30a2da\"},\"fill_alpha\":{\"type\":\"value\",\"value\":0.2},\"hatch_alpha\":{\"type\":\"value\",\"value\":0.2}}}}},{\"type\":\"object\",\"name\":\"GlyphRenderer\",\"id\":\"p1258\",\"attributes\":{\"data_source\":{\"type\":\"object\",\"name\":\"ColumnDataSource\",\"id\":\"p1249\",\"attributes\":{\"selected\":{\"type\":\"object\",\"name\":\"Selection\",\"id\":\"p1250\",\"attributes\":{\"indices\":[],\"line_indices\":[]}},\"selection_policy\":{\"type\":\"object\",\"name\":\"UnionRenderers\",\"id\":\"p1251\"},\"data\":{\"type\":\"map\",\"entries\":[[\"x0\",[\"1\"]],[\"y0\",{\"type\":\"ndarray\",\"array\":{\"type\":\"bytes\",\"data\":\"pQEAAA==\"},\"shape\":[1],\"dtype\":\"int32\",\"order\":\"little\"}],[\"x1\",[\"1\"]],[\"y1\",{\"type\":\"ndarray\",\"array\":{\"type\":\"bytes\",\"data\":\"AAAAAAC4cEA=\"},\"shape\":[1],\"dtype\":\"float64\",\"order\":\"little\"}]]}}},\"view\":{\"type\":\"object\",\"name\":\"CDSView\",\"id\":\"p1259\",\"attributes\":{\"filter\":{\"type\":\"object\",\"name\":\"AllIndices\",\"id\":\"p1260\"}}},\"glyph\":{\"type\":\"object\",\"name\":\"Segment\",\"id\":\"p1255\",\"attributes\":{\"x0\":{\"type\":\"field\",\"field\":\"y0\"},\"y0\":{\"type\":\"field\",\"field\":\"x0\"},\"x1\":{\"type\":\"field\",\"field\":\"y1\"},\"y1\":{\"type\":\"field\",\"field\":\"x1\"}}},\"selection_glyph\":{\"type\":\"object\",\"name\":\"Segment\",\"id\":\"p1261\",\"attributes\":{\"x0\":{\"type\":\"field\",\"field\":\"y0\"},\"y0\":{\"type\":\"field\",\"field\":\"x0\"},\"x1\":{\"type\":\"field\",\"field\":\"y1\"},\"y1\":{\"type\":\"field\",\"field\":\"x1\"},\"line_color\":{\"type\":\"value\",\"value\":\"black\"},\"line_alpha\":{\"type\":\"value\",\"value\":1.0},\"line_width\":{\"type\":\"value\",\"value\":1},\"line_join\":{\"type\":\"value\",\"value\":\"bevel\"},\"line_cap\":{\"type\":\"value\",\"value\":\"butt\"},\"line_dash\":{\"type\":\"value\",\"value\":[]},\"line_dash_offset\":{\"type\":\"value\",\"value\":0}}},\"nonselection_glyph\":{\"type\":\"object\",\"name\":\"Segment\",\"id\":\"p1256\",\"attributes\":{\"x0\":{\"type\":\"field\",\"field\":\"y0\"},\"y0\":{\"type\":\"field\",\"field\":\"x0\"},\"x1\":{\"type\":\"field\",\"field\":\"y1\"},\"y1\":{\"type\":\"field\",\"field\":\"x1\"},\"line_alpha\":{\"type\":\"value\",\"value\":0.1}}},\"muted_glyph\":{\"type\":\"object\",\"name\":\"Segment\",\"id\":\"p1257\",\"attributes\":{\"x0\":{\"type\":\"field\",\"field\":\"y0\"},\"y0\":{\"type\":\"field\",\"field\":\"x0\"},\"x1\":{\"type\":\"field\",\"field\":\"y1\"},\"y1\":{\"type\":\"field\",\"field\":\"x1\"},\"line_alpha\":{\"type\":\"value\",\"value\":0.2}}}}},{\"type\":\"object\",\"name\":\"GlyphRenderer\",\"id\":\"p1271\",\"attributes\":{\"data_source\":{\"type\":\"object\",\"name\":\"ColumnDataSource\",\"id\":\"p1262\",\"attributes\":{\"selected\":{\"type\":\"object\",\"name\":\"Selection\",\"id\":\"p1263\",\"attributes\":{\"indices\":[],\"line_indices\":[]}},\"selection_policy\":{\"type\":\"object\",\"name\":\"UnionRenderers\",\"id\":\"p1264\"},\"data\":{\"type\":\"map\",\"entries\":[[\"x0\",[\"1\"]],[\"y0\",{\"type\":\"ndarray\",\"array\":{\"type\":\"bytes\",\"data\":\"ZAAAAA==\"},\"shape\":[1],\"dtype\":\"int32\",\"order\":\"little\"}],[\"x1\",[\"1\"]],[\"y1\",{\"type\":\"ndarray\",\"array\":{\"type\":\"bytes\",\"data\":\"AAAAAABwY0A=\"},\"shape\":[1],\"dtype\":\"float64\",\"order\":\"little\"}]]}}},\"view\":{\"type\":\"object\",\"name\":\"CDSView\",\"id\":\"p1272\",\"attributes\":{\"filter\":{\"type\":\"object\",\"name\":\"AllIndices\",\"id\":\"p1273\"}}},\"glyph\":{\"type\":\"object\",\"name\":\"Segment\",\"id\":\"p1268\",\"attributes\":{\"x0\":{\"type\":\"field\",\"field\":\"y0\"},\"y0\":{\"type\":\"field\",\"field\":\"x0\"},\"x1\":{\"type\":\"field\",\"field\":\"y1\"},\"y1\":{\"type\":\"field\",\"field\":\"x1\"}}},\"selection_glyph\":{\"type\":\"object\",\"name\":\"Segment\",\"id\":\"p1274\",\"attributes\":{\"x0\":{\"type\":\"field\",\"field\":\"y0\"},\"y0\":{\"type\":\"field\",\"field\":\"x0\"},\"x1\":{\"type\":\"field\",\"field\":\"y1\"},\"y1\":{\"type\":\"field\",\"field\":\"x1\"},\"line_color\":{\"type\":\"value\",\"value\":\"black\"},\"line_alpha\":{\"type\":\"value\",\"value\":1.0},\"line_width\":{\"type\":\"value\",\"value\":1},\"line_join\":{\"type\":\"value\",\"value\":\"bevel\"},\"line_cap\":{\"type\":\"value\",\"value\":\"butt\"},\"line_dash\":{\"type\":\"value\",\"value\":[]},\"line_dash_offset\":{\"type\":\"value\",\"value\":0}}},\"nonselection_glyph\":{\"type\":\"object\",\"name\":\"Segment\",\"id\":\"p1269\",\"attributes\":{\"x0\":{\"type\":\"field\",\"field\":\"y0\"},\"y0\":{\"type\":\"field\",\"field\":\"x0\"},\"x1\":{\"type\":\"field\",\"field\":\"y1\"},\"y1\":{\"type\":\"field\",\"field\":\"x1\"},\"line_alpha\":{\"type\":\"value\",\"value\":0.1}}},\"muted_glyph\":{\"type\":\"object\",\"name\":\"Segment\",\"id\":\"p1270\",\"attributes\":{\"x0\":{\"type\":\"field\",\"field\":\"y0\"},\"y0\":{\"type\":\"field\",\"field\":\"x0\"},\"x1\":{\"type\":\"field\",\"field\":\"y1\"},\"y1\":{\"type\":\"field\",\"field\":\"x1\"},\"line_alpha\":{\"type\":\"value\",\"value\":0.2}}}}},{\"type\":\"object\",\"name\":\"GlyphRenderer\",\"id\":\"p1284\",\"attributes\":{\"data_source\":{\"type\":\"object\",\"name\":\"ColumnDataSource\",\"id\":\"p1275\",\"attributes\":{\"selected\":{\"type\":\"object\",\"name\":\"Selection\",\"id\":\"p1276\",\"attributes\":{\"indices\":[],\"line_indices\":[]}},\"selection_policy\":{\"type\":\"object\",\"name\":\"UnionRenderers\",\"id\":\"p1277\"},\"data\":{\"type\":\"map\",\"entries\":[[\"x0\",[[\"1\",-0.2]]],[\"y0\",[100]],[\"x1\",[[\"1\",0.2]]],[\"y1\",[100]]]}}},\"view\":{\"type\":\"object\",\"name\":\"CDSView\",\"id\":\"p1285\",\"attributes\":{\"filter\":{\"type\":\"object\",\"name\":\"AllIndices\",\"id\":\"p1286\"}}},\"glyph\":{\"type\":\"object\",\"name\":\"Segment\",\"id\":\"p1281\",\"attributes\":{\"x0\":{\"type\":\"field\",\"field\":\"y0\"},\"y0\":{\"type\":\"field\",\"field\":\"x0\"},\"x1\":{\"type\":\"field\",\"field\":\"y1\"},\"y1\":{\"type\":\"field\",\"field\":\"x1\"}}},\"selection_glyph\":{\"type\":\"object\",\"name\":\"Segment\",\"id\":\"p1287\",\"attributes\":{\"x0\":{\"type\":\"field\",\"field\":\"y0\"},\"y0\":{\"type\":\"field\",\"field\":\"x0\"},\"x1\":{\"type\":\"field\",\"field\":\"y1\"},\"y1\":{\"type\":\"field\",\"field\":\"x1\"},\"line_color\":{\"type\":\"value\",\"value\":\"black\"},\"line_alpha\":{\"type\":\"value\",\"value\":1.0},\"line_width\":{\"type\":\"value\",\"value\":1},\"line_join\":{\"type\":\"value\",\"value\":\"bevel\"},\"line_cap\":{\"type\":\"value\",\"value\":\"butt\"},\"line_dash\":{\"type\":\"value\",\"value\":[]},\"line_dash_offset\":{\"type\":\"value\",\"value\":0}}},\"nonselection_glyph\":{\"type\":\"object\",\"name\":\"Segment\",\"id\":\"p1282\",\"attributes\":{\"x0\":{\"type\":\"field\",\"field\":\"y0\"},\"y0\":{\"type\":\"field\",\"field\":\"x0\"},\"x1\":{\"type\":\"field\",\"field\":\"y1\"},\"y1\":{\"type\":\"field\",\"field\":\"x1\"},\"line_alpha\":{\"type\":\"value\",\"value\":0.1}}},\"muted_glyph\":{\"type\":\"object\",\"name\":\"Segment\",\"id\":\"p1283\",\"attributes\":{\"x0\":{\"type\":\"field\",\"field\":\"y0\"},\"y0\":{\"type\":\"field\",\"field\":\"x0\"},\"x1\":{\"type\":\"field\",\"field\":\"y1\"},\"y1\":{\"type\":\"field\",\"field\":\"x1\"},\"line_alpha\":{\"type\":\"value\",\"value\":0.2}}}}},{\"type\":\"object\",\"name\":\"GlyphRenderer\",\"id\":\"p1297\",\"attributes\":{\"data_source\":{\"type\":\"object\",\"name\":\"ColumnDataSource\",\"id\":\"p1288\",\"attributes\":{\"selected\":{\"type\":\"object\",\"name\":\"Selection\",\"id\":\"p1289\",\"attributes\":{\"indices\":[],\"line_indices\":[]}},\"selection_policy\":{\"type\":\"object\",\"name\":\"UnionRenderers\",\"id\":\"p1290\"},\"data\":{\"type\":\"map\",\"entries\":[[\"x0\",[[\"1\",-0.2]]],[\"y0\",[421]],[\"x1\",[[\"1\",0.2]]],[\"y1\",[421]]]}}},\"view\":{\"type\":\"object\",\"name\":\"CDSView\",\"id\":\"p1298\",\"attributes\":{\"filter\":{\"type\":\"object\",\"name\":\"AllIndices\",\"id\":\"p1299\"}}},\"glyph\":{\"type\":\"object\",\"name\":\"Segment\",\"id\":\"p1294\",\"attributes\":{\"x0\":{\"type\":\"field\",\"field\":\"y0\"},\"y0\":{\"type\":\"field\",\"field\":\"x0\"},\"x1\":{\"type\":\"field\",\"field\":\"y1\"},\"y1\":{\"type\":\"field\",\"field\":\"x1\"}}},\"selection_glyph\":{\"type\":\"object\",\"name\":\"Segment\",\"id\":\"p1300\",\"attributes\":{\"x0\":{\"type\":\"field\",\"field\":\"y0\"},\"y0\":{\"type\":\"field\",\"field\":\"x0\"},\"x1\":{\"type\":\"field\",\"field\":\"y1\"},\"y1\":{\"type\":\"field\",\"field\":\"x1\"},\"line_color\":{\"type\":\"value\",\"value\":\"black\"},\"line_alpha\":{\"type\":\"value\",\"value\":1.0},\"line_width\":{\"type\":\"value\",\"value\":1},\"line_join\":{\"type\":\"value\",\"value\":\"bevel\"},\"line_cap\":{\"type\":\"value\",\"value\":\"butt\"},\"line_dash\":{\"type\":\"value\",\"value\":[]},\"line_dash_offset\":{\"type\":\"value\",\"value\":0}}},\"nonselection_glyph\":{\"type\":\"object\",\"name\":\"Segment\",\"id\":\"p1295\",\"attributes\":{\"x0\":{\"type\":\"field\",\"field\":\"y0\"},\"y0\":{\"type\":\"field\",\"field\":\"x0\"},\"x1\":{\"type\":\"field\",\"field\":\"y1\"},\"y1\":{\"type\":\"field\",\"field\":\"x1\"},\"line_alpha\":{\"type\":\"value\",\"value\":0.1}}},\"muted_glyph\":{\"type\":\"object\",\"name\":\"Segment\",\"id\":\"p1296\",\"attributes\":{\"x0\":{\"type\":\"field\",\"field\":\"y0\"},\"y0\":{\"type\":\"field\",\"field\":\"x0\"},\"x1\":{\"type\":\"field\",\"field\":\"y1\"},\"y1\":{\"type\":\"field\",\"field\":\"x1\"},\"line_alpha\":{\"type\":\"value\",\"value\":0.2}}}}},{\"type\":\"object\",\"name\":\"GlyphRenderer\",\"id\":\"p1311\",\"attributes\":{\"data_source\":{\"type\":\"object\",\"name\":\"ColumnDataSource\",\"id\":\"p1302\",\"attributes\":{\"selected\":{\"type\":\"object\",\"name\":\"Selection\",\"id\":\"p1303\",\"attributes\":{\"indices\":[],\"line_indices\":[]}},\"selection_policy\":{\"type\":\"object\",\"name\":\"UnionRenderers\",\"id\":\"p1304\"},\"data\":{\"type\":\"map\",\"entries\":[[\"dummy\",[\"1\",\"1\",\"1\",\"1\",\"1\",\"1\",\"1\",\"1\",\"1\",\"1\",\"1\",\"1\",\"1\",\"1\",\"1\",\"1\",\"1\",\"1\",\"1\",\"1\",\"1\",\"1\",\"1\",\"1\",\"1\",\"1\",\"1\",\"1\",\"1\",\"1\",\"1\",\"1\",\"1\",\"1\",\"1\",\"1\",\"1\",\"1\",\"1\",\"1\",\"1\",\"1\",\"1\",\"1\",\"1\",\"1\",\"1\",\"1\",\"1\",\"1\",\"1\",\"1\",\"1\",\"1\",\"1\",\"1\",\"1\",\"1\",\"1\",\"1\",\"1\",\"1\",\"1\"]],[\"elo\",{\"type\":\"ndarray\",\"array\":{\"type\":\"bytes\",\"data\":\"7QEAAEsBAADgAAAArAAAAKUBAAAdAQAAyQEAAJAAAAD0AAAA8wAAAAMBAAAMAQAAmQAAAHsAAABkAAAAsAAAABYBAADvAAAADgEAAHQAAADOAAAAhwAAAJYAAABKAQAAuwEAAEMBAADuAAAAFwEAANkAAADDAAAA0QAAAA8BAAAGAQAAbgAAACcBAADJAAAAnwAAADEBAAB4AAAAjwAAAMsAAAD9AAAAhQAAAL0AAACaAAAAZAAAAI8AAADnAAAArgAAAAcBAAALAQAA7AAAAHAAAADQAAAAvQAAALsAAAACAQAAnQAAAAcBAAC6AAAAqQAAAEYBAAB3AAAA\"},\"shape\":[63],\"dtype\":\"int32\",\"order\":\"little\"}]]}}},\"view\":{\"type\":\"object\",\"name\":\"CDSView\",\"id\":\"p1312\",\"attributes\":{\"filter\":{\"type\":\"object\",\"name\":\"AllIndices\",\"id\":\"p1313\"}}},\"glyph\":{\"type\":\"object\",\"name\":\"Scatter\",\"id\":\"p1308\",\"attributes\":{\"tags\":[\"apply_ranges\"],\"x\":{\"type\":\"field\",\"field\":\"elo\"},\"y\":{\"type\":\"field\",\"field\":\"dummy\",\"transform\":{\"type\":\"object\",\"name\":\"Jitter\",\"id\":\"p1301\",\"attributes\":{\"width\":0.3,\"range\":{\"id\":\"p1171\"}}}},\"size\":{\"type\":\"value\",\"value\":2.23606797749979},\"line_color\":{\"type\":\"value\",\"value\":\"orange\"},\"fill_color\":{\"type\":\"value\",\"value\":\"orange\"},\"hatch_color\":{\"type\":\"value\",\"value\":\"orange\"}}},\"selection_glyph\":{\"type\":\"object\",\"name\":\"Scatter\",\"id\":\"p1314\",\"attributes\":{\"tags\":[\"apply_ranges\"],\"x\":{\"type\":\"field\",\"field\":\"elo\"},\"y\":{\"type\":\"field\",\"field\":\"dummy\",\"transform\":{\"id\":\"p1301\"}},\"size\":{\"type\":\"value\",\"value\":2.23606797749979},\"angle\":{\"type\":\"value\",\"value\":0.0},\"line_color\":{\"type\":\"value\",\"value\":\"orange\"},\"line_alpha\":{\"type\":\"value\",\"value\":1.0},\"line_width\":{\"type\":\"value\",\"value\":1},\"line_join\":{\"type\":\"value\",\"value\":\"bevel\"},\"line_cap\":{\"type\":\"value\",\"value\":\"butt\"},\"line_dash\":{\"type\":\"value\",\"value\":[]},\"line_dash_offset\":{\"type\":\"value\",\"value\":0},\"fill_color\":{\"type\":\"value\",\"value\":\"orange\"},\"fill_alpha\":{\"type\":\"value\",\"value\":1.0},\"hatch_color\":{\"type\":\"value\",\"value\":\"orange\"},\"hatch_alpha\":{\"type\":\"value\",\"value\":1.0},\"hatch_scale\":{\"type\":\"value\",\"value\":12.0},\"hatch_pattern\":{\"type\":\"value\",\"value\":null},\"hatch_weight\":{\"type\":\"value\",\"value\":1.0},\"marker\":{\"type\":\"value\",\"value\":\"circle\"}}},\"nonselection_glyph\":{\"type\":\"object\",\"name\":\"Scatter\",\"id\":\"p1309\",\"attributes\":{\"tags\":[\"apply_ranges\"],\"x\":{\"type\":\"field\",\"field\":\"elo\"},\"y\":{\"type\":\"field\",\"field\":\"dummy\",\"transform\":{\"id\":\"p1301\"}},\"size\":{\"type\":\"value\",\"value\":2.23606797749979},\"line_color\":{\"type\":\"value\",\"value\":\"orange\"},\"line_alpha\":{\"type\":\"value\",\"value\":0.1},\"fill_color\":{\"type\":\"value\",\"value\":\"orange\"},\"fill_alpha\":{\"type\":\"value\",\"value\":0.1},\"hatch_color\":{\"type\":\"value\",\"value\":\"orange\"},\"hatch_alpha\":{\"type\":\"value\",\"value\":0.1}}},\"muted_glyph\":{\"type\":\"object\",\"name\":\"Scatter\",\"id\":\"p1310\",\"attributes\":{\"tags\":[\"apply_ranges\"],\"x\":{\"type\":\"field\",\"field\":\"elo\"},\"y\":{\"type\":\"field\",\"field\":\"dummy\",\"transform\":{\"id\":\"p1301\"}},\"size\":{\"type\":\"value\",\"value\":2.23606797749979},\"line_color\":{\"type\":\"value\",\"value\":\"orange\"},\"line_alpha\":{\"type\":\"value\",\"value\":0.2},\"fill_color\":{\"type\":\"value\",\"value\":\"orange\"},\"fill_alpha\":{\"type\":\"value\",\"value\":0.2},\"hatch_color\":{\"type\":\"value\",\"value\":\"orange\"},\"hatch_alpha\":{\"type\":\"value\",\"value\":0.2}}}}}],\"toolbar\":{\"type\":\"object\",\"name\":\"Toolbar\",\"id\":\"p1188\",\"attributes\":{\"autohide\":true,\"tools\":[{\"type\":\"object\",\"name\":\"WheelZoomTool\",\"id\":\"p1175\",\"attributes\":{\"tags\":[\"hv_created\"],\"renderers\":\"auto\",\"zoom_together\":\"none\"}},{\"type\":\"object\",\"name\":\"HoverTool\",\"id\":\"p1178\",\"attributes\":{\"tags\":[\"hv_created\"],\"renderers\":[{\"id\":\"p1311\"}],\"tooltips\":[[\"dummy\",\"@{dummy}\"],[\"elo\",\"@{elo}\"]]}},{\"type\":\"object\",\"name\":\"SaveTool\",\"id\":\"p1201\"},{\"type\":\"object\",\"name\":\"PanTool\",\"id\":\"p1202\"},{\"type\":\"object\",\"name\":\"BoxZoomTool\",\"id\":\"p1203\",\"attributes\":{\"overlay\":{\"type\":\"object\",\"name\":\"BoxAnnotation\",\"id\":\"p1204\",\"attributes\":{\"syncable\":false,\"level\":\"overlay\",\"visible\":false,\"left\":{\"type\":\"number\",\"value\":\"nan\"},\"right\":{\"type\":\"number\",\"value\":\"nan\"},\"top\":{\"type\":\"number\",\"value\":\"nan\"},\"bottom\":{\"type\":\"number\",\"value\":\"nan\"},\"left_units\":\"canvas\",\"right_units\":\"canvas\",\"top_units\":\"canvas\",\"bottom_units\":\"canvas\",\"line_color\":\"black\",\"line_alpha\":1.0,\"line_width\":2,\"line_dash\":[4,4],\"fill_color\":\"lightgrey\",\"fill_alpha\":0.5}}}},{\"type\":\"object\",\"name\":\"ResetTool\",\"id\":\"p1209\"}],\"active_drag\":{\"id\":\"p1202\"},\"active_scroll\":{\"id\":\"p1175\"}}},\"left\":[{\"type\":\"object\",\"name\":\"CategoricalAxis\",\"id\":\"p1196\",\"attributes\":{\"visible\":false,\"ticker\":{\"type\":\"object\",\"name\":\"CategoricalTicker\",\"id\":\"p1197\"},\"formatter\":{\"type\":\"object\",\"name\":\"CategoricalTickFormatter\",\"id\":\"p1198\"},\"axis_label\":\"\",\"major_label_policy\":{\"type\":\"object\",\"name\":\"AllLabels\",\"id\":\"p1199\"}}}],\"below\":[{\"type\":\"object\",\"name\":\"LinearAxis\",\"id\":\"p1191\",\"attributes\":{\"ticker\":{\"type\":\"object\",\"name\":\"BasicTicker\",\"id\":\"p1192\",\"attributes\":{\"mantissas\":[1,2,5]}},\"formatter\":{\"type\":\"object\",\"name\":\"BasicTickFormatter\",\"id\":\"p1193\"},\"axis_label\":\"\",\"major_label_policy\":{\"type\":\"object\",\"name\":\"AllLabels\",\"id\":\"p1194\"}}}],\"center\":[{\"type\":\"object\",\"name\":\"Grid\",\"id\":\"p1195\",\"attributes\":{\"axis\":{\"id\":\"p1191\"},\"grid_line_color\":null}},{\"type\":\"object\",\"name\":\"Grid\",\"id\":\"p1200\",\"attributes\":{\"dimension\":1,\"axis\":{\"id\":\"p1196\"},\"grid_line_color\":null}}],\"min_border_top\":10,\"min_border_bottom\":10,\"min_border_left\":10,\"min_border_right\":10,\"output_backend\":\"webgl\"}}],\"defs\":[{\"type\":\"model\",\"name\":\"ReactiveHTML1\"},{\"type\":\"model\",\"name\":\"FlexBox1\",\"properties\":[{\"name\":\"align_content\",\"kind\":\"Any\",\"default\":\"flex-start\"},{\"name\":\"align_items\",\"kind\":\"Any\",\"default\":\"flex-start\"},{\"name\":\"flex_direction\",\"kind\":\"Any\",\"default\":\"row\"},{\"name\":\"flex_wrap\",\"kind\":\"Any\",\"default\":\"wrap\"},{\"name\":\"justify_content\",\"kind\":\"Any\",\"default\":\"flex-start\"}]},{\"type\":\"model\",\"name\":\"FloatPanel1\",\"properties\":[{\"name\":\"config\",\"kind\":\"Any\",\"default\":{\"type\":\"map\"}},{\"name\":\"contained\",\"kind\":\"Any\",\"default\":true},{\"name\":\"position\",\"kind\":\"Any\",\"default\":\"right-top\"},{\"name\":\"offsetx\",\"kind\":\"Any\",\"default\":null},{\"name\":\"offsety\",\"kind\":\"Any\",\"default\":null},{\"name\":\"theme\",\"kind\":\"Any\",\"default\":\"primary\"},{\"name\":\"status\",\"kind\":\"Any\",\"default\":\"normalized\"}]},{\"type\":\"model\",\"name\":\"GridStack1\",\"properties\":[{\"name\":\"mode\",\"kind\":\"Any\",\"default\":\"warn\"},{\"name\":\"ncols\",\"kind\":\"Any\",\"default\":null},{\"name\":\"nrows\",\"kind\":\"Any\",\"default\":null},{\"name\":\"allow_resize\",\"kind\":\"Any\",\"default\":true},{\"name\":\"allow_drag\",\"kind\":\"Any\",\"default\":true},{\"name\":\"state\",\"kind\":\"Any\",\"default\":[]}]},{\"type\":\"model\",\"name\":\"drag1\",\"properties\":[{\"name\":\"slider_width\",\"kind\":\"Any\",\"default\":5},{\"name\":\"slider_color\",\"kind\":\"Any\",\"default\":\"black\"},{\"name\":\"value\",\"kind\":\"Any\",\"default\":50}]},{\"type\":\"model\",\"name\":\"click1\",\"properties\":[{\"name\":\"terminal_output\",\"kind\":\"Any\",\"default\":\"\"},{\"name\":\"debug_name\",\"kind\":\"Any\",\"default\":\"\"},{\"name\":\"clears\",\"kind\":\"Any\",\"default\":0}]},{\"type\":\"model\",\"name\":\"copy_to_clipboard1\",\"properties\":[{\"name\":\"fill\",\"kind\":\"Any\",\"default\":\"none\"},{\"name\":\"value\",\"kind\":\"Any\",\"default\":null}]},{\"type\":\"model\",\"name\":\"FastWrapper1\",\"properties\":[{\"name\":\"object\",\"kind\":\"Any\",\"default\":null},{\"name\":\"style\",\"kind\":\"Any\",\"default\":null}]},{\"type\":\"model\",\"name\":\"NotificationAreaBase1\",\"properties\":[{\"name\":\"js_events\",\"kind\":\"Any\",\"default\":{\"type\":\"map\"}},{\"name\":\"position\",\"kind\":\"Any\",\"default\":\"bottom-right\"},{\"name\":\"_clear\",\"kind\":\"Any\",\"default\":0}]},{\"type\":\"model\",\"name\":\"NotificationArea1\",\"properties\":[{\"name\":\"js_events\",\"kind\":\"Any\",\"default\":{\"type\":\"map\"}},{\"name\":\"notifications\",\"kind\":\"Any\",\"default\":[]},{\"name\":\"position\",\"kind\":\"Any\",\"default\":\"bottom-right\"},{\"name\":\"_clear\",\"kind\":\"Any\",\"default\":0},{\"name\":\"types\",\"kind\":\"Any\",\"default\":[{\"type\":\"map\",\"entries\":[[\"type\",\"warning\"],[\"background\",\"#ffc107\"],[\"icon\",{\"type\":\"map\",\"entries\":[[\"className\",\"fas fa-exclamation-triangle\"],[\"tagName\",\"i\"],[\"color\",\"white\"]]}]]},{\"type\":\"map\",\"entries\":[[\"type\",\"info\"],[\"background\",\"#007bff\"],[\"icon\",{\"type\":\"map\",\"entries\":[[\"className\",\"fas fa-info-circle\"],[\"tagName\",\"i\"],[\"color\",\"white\"]]}]]}]}]},{\"type\":\"model\",\"name\":\"Notification\",\"properties\":[{\"name\":\"background\",\"kind\":\"Any\",\"default\":null},{\"name\":\"duration\",\"kind\":\"Any\",\"default\":3000},{\"name\":\"icon\",\"kind\":\"Any\",\"default\":null},{\"name\":\"message\",\"kind\":\"Any\",\"default\":\"\"},{\"name\":\"notification_type\",\"kind\":\"Any\",\"default\":null},{\"name\":\"_destroyed\",\"kind\":\"Any\",\"default\":false}]},{\"type\":\"model\",\"name\":\"TemplateActions1\",\"properties\":[{\"name\":\"open_modal\",\"kind\":\"Any\",\"default\":0},{\"name\":\"close_modal\",\"kind\":\"Any\",\"default\":0}]},{\"type\":\"model\",\"name\":\"BootstrapTemplateActions1\",\"properties\":[{\"name\":\"open_modal\",\"kind\":\"Any\",\"default\":0},{\"name\":\"close_modal\",\"kind\":\"Any\",\"default\":0}]},{\"type\":\"model\",\"name\":\"MaterialTemplateActions1\",\"properties\":[{\"name\":\"open_modal\",\"kind\":\"Any\",\"default\":0},{\"name\":\"close_modal\",\"kind\":\"Any\",\"default\":0}]}]}};\n",
       "  const render_items = [{\"docid\":\"5f01396d-9cd4-4a81-814c-6a536f8680c7\",\"roots\":{\"p1179\":\"bac7d726-c37e-49d2-936b-63d6a83bf8da\"},\"root_ids\":[\"p1179\"]}];\n",
       "  root.Bokeh.embed.embed_items_notebook(docs_json, render_items);\n",
       "  }\n",
       "  if (root.Bokeh !== undefined) {\n",
       "    embed_document(root);\n",
       "  } else {\n",
       "    let attempts = 0;\n",
       "    const timer = setInterval(function(root) {\n",
       "      if (root.Bokeh !== undefined) {\n",
       "        clearInterval(timer);\n",
       "        embed_document(root);\n",
       "      } else {\n",
       "        attempts++;\n",
       "        if (attempts > 100) {\n",
       "          clearInterval(timer);\n",
       "          console.log(\"Bokeh: ERROR: Unable to run BokehJS code because BokehJS library is missing\");\n",
       "        }\n",
       "      }\n",
       "    }, 10, root)\n",
       "  }\n",
       "})(window);"
      ],
      "application/vnd.bokehjs_exec.v0+json": ""
     },
     "metadata": {
      "application/vnd.bokehjs_exec.v0+json": {
       "id": "p1179"
      }
     },
     "output_type": "display_data"
    },
    {
     "name": "stdout",
     "output_type": "stream",
     "text": [
      "output image: ../assets/Ticket to RideWestern Pacific Ocean Cup • Season 1_Elo_20240817081348.png\n",
      "output image: ../assets/t_Ticket to RideWestern Pacific Ocean Cup • Season 1_Elo_20240817081348.png\n"
     ]
    }
   ],
   "source": [
    "# extract needed information\n",
    "countries = []\n",
    "elos = []\n",
    "languages = []\n",
    "reputations = []\n",
    "# read the data\n",
    "for i in player_info:\n",
    "    if i[0] == '':\n",
    "        pass\n",
    "    else:\n",
    "        countries.append(i[1].split(\",\")[0])\n",
    "        elos.append(i[2])\n",
    "        languages.append(i[3])\n",
    "        reputations.append(i[4])\n",
    "# get Q1, Q2,Q3\n",
    "elos = [int(i) for i in elos] # convert string to value  in elos\n",
    "elo_q1 = int(np.quantile(elos, .25))\n",
    "elo_q2 = int(np.quantile(elos, .5))\n",
    "elo_q3 = int(np.quantile(elos, .75))\n",
    "\n",
    "# get top origins of players\n",
    "top_countries = (pd.DataFrame(countries).value_counts() /len(countries) *100).astype('int').astype('str') +'%'\n",
    "\n",
    "# make plot of elo distribution\n",
    "df1 = pd.DataFrame(elos, columns=['elo'])\n",
    "df1['dummy'] = 1\n",
    "plot = hv.BoxWhisker(df1, vdims='elo')  * df1.hvplot.scatter(y='elo' ,x = 'dummy', c='orange', size = 5).opts(jitter=0.3)\n",
    "plot.opts(invert_axes=True, height = 70, width=350, xlabel='',ylabel='', title ='Elo of players',yaxis = None, fontsize={'title': 11})\n",
    "fig = hv.render(plot)\n",
    "fig.outline_line_width = 0\n",
    "fig.toolbar.autohide = True\n",
    "show(fig)\n",
    "# save into png and make transparent background\n",
    "elo_file = '../assets/' + game_name + tournament_name +\"_Elo_\" + time.strftime(\"%Y%m%d%H%M%S\", time.localtime()) + '.png'\n",
    "export_png(fig, filename = elo_file)\n",
    "print('output image:', elo_file)\n",
    "# time.sleep(waiting_time)\n",
    "transformed_elo_file = bga_function.transparent_background(elo_file)\n",
    "# os.remove(elo_file)\n",
    "\n",
    "# list local origins\n",
    "watch_list =['South Korea','North Korea','Japan',\n",
    "             'China','Hong Kong','Macao','Taiwan',\n",
    "             'Singapore','Viet Nam','Thailand','Indonesia','Malaysia','Philippines','Myanmar','Cambodia',\n",
    "             'India','Bangladesh','Pakistan',\n",
    "             'Kazakhstan','Mongolia','Georgia',\n",
    "             'Australia','New Zealand','Palau']\n",
    "index_list = []\n",
    "index = 0\n",
    "for i in countries:\n",
    "    if i in watch_list:\n",
    "        # print(count,i)\n",
    "        index_list.append(index)\n",
    "    else:\n",
    "        pass\n",
    "    index +=1\n",
    "    \n",
    "# list information\n",
    "with open(game_name + ' - ' +tournament_name + '.txt', \"w\", encoding='utf-8') as f:\n",
    "    with redirect_stdout(f):\n",
    "        print(\"---LocalPlayer---\\n\")\n",
    "        for i in index_list:\n",
    "            print(players[i])\n",
    "        print(\"\\n- Reputations:\\n\")\n",
    "        for i in index_list:\n",
    "            print(reputations[i])\n",
    "        print(\"\\n\\n---link of user page---\\n\")\n",
    "        for i in index_list:\n",
    "            print(player_links[i])\n",
    "        print(\"\\n---Origin---\\n\")\n",
    "        for i in index_list:\n",
    "            print(countries[i])\n",
    "            # print(\"\\n\")\n",
    "        print(\"\\n---Language---\\n\")\n",
    "        for i in index_list:\n",
    "            print(', '.join(languages[i]))\n",
    "            # print(\"\\n\")\n",
    "        print(\"\\n\\n- Origins of players:\\n\")\n",
    "        print(top_countries)\n",
    "        print(\"\\n\\n\\n- Q1/Q2/Q3 of player's Elo rating:\\n\")\n",
    "        print(f\"{elo_q1}/{elo_q2}/{elo_q3}\")\n",
    "f.close()\n",
    "# print(\"---LocalPlayer---\\n\")\n",
    "# for i in index_list:\n",
    "#     print(players[i])\n",
    "# print(\"\\n- Reputations:\\n\")\n",
    "# for i in index_list:\n",
    "#     print(reputations[i])\n",
    "# print(\"\\n\\n---link of user page---\\n\")\n",
    "# for i in index_list:\n",
    "#     print(player_links[i])\n",
    "# print(\"\\n---Origin---\\n\")\n",
    "# for i in index_list:\n",
    "#     print(countries[i])\n",
    "#     # print(\"\\n\")\n",
    "# print(\"\\n---Language---\\n\")\n",
    "# for i in index_list:\n",
    "#     print(', '.join(languages[i]))\n",
    "#     # print(\"\\n\")\n",
    "# print(\"\\n\\n- Origins of players:\\n\")\n",
    "# print(top_countries)\n",
    "# print(\"\\n\\n\\n- Q1/Q2/Q3 of player's Elo rating:\\n\")\n",
    "# print(f\"{elo_q1}/{elo_q2}/{elo_q3}\")\n",
    "\n",
    "\n",
    "### finish scraping player data\n",
    "time.sleep(waiting_time)\n",
    "interrupt = -1\n"
   ]
  },
  {
   "cell_type": "code",
   "execution_count": 15,
   "id": "960b50f1-f9a3-4922-aeae-857b33ba669a",
   "metadata": {},
   "outputs": [],
   "source": [
    "# def transparent_background(image_file):\n",
    "#     from PIL import Image\n",
    "#     img = Image.open(image_file)\n",
    "#     rgba = img.convert('RGBA')\n",
    "#     datas = rgba.getdata()\n",
    "\n",
    "#     newData = []\n",
    "\n",
    "#     for item in datas:\n",
    "\n",
    "#        if item[0] == 255 and item[1] == 255 and item[2] == 255:\n",
    "#            newData.append((255, 255, 255, 0))\n",
    "#        else:\n",
    "#           newData.append(item)\n",
    "#     rgba.putdata(newData)\n",
    "    \n",
    "#     # new_image_file = 't_' + image_file  \n",
    "#     # new_image_file = '../assets/t_' + re.findall(\"assets/(.*)\",image_file)[0]\n",
    "#     new_image_file = re.findall(\"(.*assets)/(.*)\",image_file)[0][0] + \\\n",
    "#     '/t_' + \\\n",
    "#     re.findall(\"(.*assets)/(.*)\",elo_file)[0][1]\n",
    "    \n",
    "#     rgba.save(new_image_file, 'PNG')\n",
    "#     print('output image:', new_image_file)\n",
    "#     return new_image_file\n"
   ]
  },
  {
   "cell_type": "code",
   "execution_count": 16,
   "id": "3a0163fe-393a-4ab1-814f-23a69c6fbb38",
   "metadata": {},
   "outputs": [],
   "source": [
    "# transparent_background(elo_file)"
   ]
  },
  {
   "cell_type": "code",
   "execution_count": null,
   "id": "8926b6f3-73b5-4e8c-ae02-281547289a82",
   "metadata": {},
   "outputs": [],
   "source": []
  },
  {
   "cell_type": "markdown",
   "id": "dbed1759-1aa1-4b7c-8794-d276853cd95f",
   "metadata": {
    "tags": []
   },
   "source": [
    "## list of tables, return table duration and slow players:"
   ]
  },
  {
   "cell_type": "code",
   "execution_count": 17,
   "id": "6b2f2cc3-cf96-414c-843e-a32dc5c921c3",
   "metadata": {
    "tags": []
   },
   "outputs": [],
   "source": [
    "### diagnosis code when interrupted\n",
    "interrupt += 1\n",
    "if interrupt == 0: # command to start new task\n",
    "    pass\n",
    "else:\n",
    "    pos = len(table_info) \n",
    "    print(\"number of iteration left: \",len(tables)-pos)\n",
    "    waiting_time += 1\n",
    "\n",
    "# pos +=1\n",
    "# # interrupt = 1\n",
    "# # pos = len(table_info)\n",
    "# # print(pos-1, table_info[-1], \"\\n\")\n",
    "# # print(\"number of iteration left: \",len(tables))\n",
    "# for x in range(pos-2, len(tables)):\n",
    "#   print(x, tables[x])\n",
    "\n"
   ]
  },
  {
   "cell_type": "code",
   "execution_count": 18,
   "id": "3833f9bc-842b-4edb-b96b-69c2430e6386",
   "metadata": {},
   "outputs": [
    {
     "name": "stdout",
     "output_type": "stream",
     "text": [
      "estimate to finish scraping tables at 08:34\n"
     ]
    }
   ],
   "source": [
    "# loop into all tables\n",
    "\n",
    "# estimate time\n",
    "# waiting_time = 15\n",
    "scrip_table_duration = len(tables) * waiting_time * 1.5\n",
    "script_table_time = datetime.datetime.now() + datetime.timedelta(seconds=scrip_table_duration)\n",
    "print(f\"estimate to finish scraping tables at {script_table_time.strftime('%H:%M')}\")\n",
    "\n",
    "# >>>>> when scraping for the first time\n",
    "if interrupt == 0:\n",
    "    table_info = []\n",
    "    for i in range(len(tables)):\n",
    "        table_info.append(bga_function.get_table_info(driver, waiting_time,tables[i]))\n",
    "else: \n",
    "# >>>>> when interrupt\n",
    "    for i in range(pos, len(tables)): \n",
    "        table_info.append(bga_function.get_table_info(driver, waiting_time,tables[i]))\n"
   ]
  },
  {
   "cell_type": "code",
   "execution_count": 19,
   "id": "db19288b-a570-4dcc-8fc7-bc2edabbca9a",
   "metadata": {},
   "outputs": [
    {
     "name": "stdout",
     "output_type": "stream",
     "text": [
      "number of iteration left:  0\n"
     ]
    }
   ],
   "source": [
    "print(\"number of iteration left: \",len(tables)-len(table_info))\n"
   ]
  },
  {
   "cell_type": "code",
   "execution_count": 20,
   "id": "22885413-2749-4e75-8f9d-b4eeabba3551",
   "metadata": {},
   "outputs": [],
   "source": [
    "# list players that is either too slow or leave the game intentionly\n",
    "black_list = []\n",
    "for i in table_info:\n",
    "    if i[3] != '': # leave or kicked\n",
    "        black_list.append(i[3]) \n",
    "    elif i[4] != '':  # didnt finish on time\n",
    "        black_list.append(i[4]) \n",
    "    \n",
    "    \n",
    "# append the black list to the file\n",
    "f = open(game_name + ' - ' +tournament_name + '.txt', \"a\", encoding='utf-8')\n",
    "f.write(\"\\n---BlackList---\\n\\n\") \n",
    "for i in black_list:\n",
    "    f.write(i)\n",
    "    f.write(\"\\n\")\n",
    "f.close()"
   ]
  },
  {
   "cell_type": "code",
   "execution_count": 21,
   "id": "3bbec44d-9e5c-4918-b7c3-9abd134a44ac",
   "metadata": {},
   "outputs": [
    {
     "name": "stdout",
     "output_type": "stream",
     "text": [
      "Q1/Q2/Q3 quantile:  1.525 3.1 5.0\n"
     ]
    }
   ],
   "source": [
    "# statistics\"\"\"'\n",
    "number_tables = len(tables)\n",
    "ratio_cancelled_tables = 0\n",
    "for i in range(len(table_info)):\n",
    "    # print(table_info[i][0])\n",
    "    ratio_cancelled_tables += 1/number_tables if table_info[i][0] == 'cancelled' else 0\n",
    "\n",
    "ratio_abandoned_tables = 0\n",
    "for i in range(len(table_info)):\n",
    "    ratio_abandoned_tables +=1/number_tables if table_info[i][0] == 'abandoned' else 0    \n",
    "    \n",
    "table_times = []\n",
    "for i in range(len(table_info)):\n",
    "    table_times.append(table_info[i][1])\n",
    "\n",
    "# create df with player name and time spent\n",
    "df = pd.DataFrame(columns = ['Player', 'Used_time'])\n",
    "for i in range(len(table_info)):\n",
    "    players_time = table_info[i][2] \n",
    "    for i in players_time:\n",
    "        dict = {'Player':[i[0]], \n",
    "                'Used_time':[i[1]] \n",
    "               } \n",
    "        df_add = pd.DataFrame(dict) \n",
    "        df = pd.concat([df, df_add], ignore_index = True) \n",
    "\n",
    "\n",
    "# convert the unit of duration into days\n",
    "converted_table_times = bga_function.time_converstion(table_times)\n",
    "\n",
    "# spread statistics\n",
    "median_duration = round(statistics.median(converted_table_times),1)\n",
    "duration_q1 = (np.quantile(converted_table_times, .25))\n",
    "duration_q2 = (np.quantile(converted_table_times, .5))\n",
    "duration_q3 = (np.quantile(converted_table_times, .75))\n",
    "print(\"Q1/Q2/Q3 quantile: \", duration_q1,duration_q2,duration_q3)\n"
   ]
  },
  {
   "cell_type": "code",
   "execution_count": 22,
   "id": "4a68f78d-e592-4343-b46e-2b3f5f6cc8fe",
   "metadata": {},
   "outputs": [
    {
     "data": {
      "text/html": [
       "\n",
       "  <div id=\"c887aa77-72ef-4b01-b2d6-bc3857c5da0e\" data-root-id=\"p1345\" style=\"display: contents;\"></div>\n"
      ]
     },
     "metadata": {},
     "output_type": "display_data"
    },
    {
     "data": {
      "application/javascript": [
       "(function(root) {\n",
       "  function embed_document(root) {\n",
       "  const docs_json = {\"e8430996-eb87-4b54-9454-15aec9853d73\":{\"version\":\"3.3.4\",\"title\":\"Bokeh Application\",\"roots\":[{\"type\":\"object\",\"name\":\"Figure\",\"id\":\"p1345\",\"attributes\":{\"width\":350,\"height\":70,\"sizing_mode\":\"fixed\",\"align\":\"start\",\"x_range\":{\"type\":\"object\",\"name\":\"Range1d\",\"id\":\"p1336\",\"attributes\":{\"tags\":[[[\"tt\",\"tt\",null]],[]],\"start\":-0.7000000000000001,\"end\":7.7,\"reset_start\":-0.7000000000000001,\"reset_end\":7.7}},\"y_range\":{\"type\":\"object\",\"name\":\"FactorRange\",\"id\":\"p1337\",\"attributes\":{\"tags\":[[[\"dummy\",\"dummy\",null]],{\"type\":\"map\",\"entries\":[[\"invert_yaxis\",false],[\"autorange\",false]]}],\"factors\":[\"1\"]}},\"x_scale\":{\"type\":\"object\",\"name\":\"LinearScale\",\"id\":\"p1355\"},\"y_scale\":{\"type\":\"object\",\"name\":\"CategoricalScale\",\"id\":\"p1356\"},\"title\":{\"type\":\"object\",\"name\":\"Title\",\"id\":\"p1348\",\"attributes\":{\"text\":\"Table duration (days)\",\"text_font_size\":\"11pt\"}},\"outline_line_width\":0,\"renderers\":[{\"type\":\"object\",\"name\":\"GlyphRenderer\",\"id\":\"p1385\",\"attributes\":{\"data_source\":{\"type\":\"object\",\"name\":\"ColumnDataSource\",\"id\":\"p1376\",\"attributes\":{\"selected\":{\"type\":\"object\",\"name\":\"Selection\",\"id\":\"p1377\",\"attributes\":{\"indices\":[],\"line_indices\":[]}},\"selection_policy\":{\"type\":\"object\",\"name\":\"UnionRenderers\",\"id\":\"p1378\"},\"data\":{\"type\":\"map\",\"entries\":[[\"index\",{\"type\":\"ndarray\",\"array\":{\"type\":\"bytes\",\"data\":\"\"},\"shape\":[0],\"dtype\":\"float64\",\"order\":\"little\"}],[\"tt\",{\"type\":\"ndarray\",\"array\":{\"type\":\"bytes\",\"data\":\"\"},\"shape\":[0],\"dtype\":\"float64\",\"order\":\"little\"}]]}}},\"view\":{\"type\":\"object\",\"name\":\"CDSView\",\"id\":\"p1386\",\"attributes\":{\"filter\":{\"type\":\"object\",\"name\":\"AllIndices\",\"id\":\"p1387\"}}},\"glyph\":{\"type\":\"object\",\"name\":\"Circle\",\"id\":\"p1382\",\"attributes\":{\"x\":{\"type\":\"field\",\"field\":\"tt\"},\"y\":{\"type\":\"field\",\"field\":\"index\"},\"fill_color\":{\"type\":\"value\",\"value\":\"black\"}}},\"selection_glyph\":{\"type\":\"object\",\"name\":\"Circle\",\"id\":\"p1388\",\"attributes\":{\"x\":{\"type\":\"field\",\"field\":\"tt\"},\"y\":{\"type\":\"field\",\"field\":\"index\"},\"size\":{\"type\":\"value\",\"value\":4},\"angle\":{\"type\":\"value\",\"value\":0.0},\"line_color\":{\"type\":\"value\",\"value\":\"black\"},\"line_alpha\":{\"type\":\"value\",\"value\":1.0},\"line_width\":{\"type\":\"value\",\"value\":1},\"line_join\":{\"type\":\"value\",\"value\":\"bevel\"},\"line_cap\":{\"type\":\"value\",\"value\":\"butt\"},\"line_dash\":{\"type\":\"value\",\"value\":[]},\"line_dash_offset\":{\"type\":\"value\",\"value\":0},\"fill_color\":{\"type\":\"value\",\"value\":\"black\"},\"fill_alpha\":{\"type\":\"value\",\"value\":1.0},\"hatch_color\":{\"type\":\"value\",\"value\":\"black\"},\"hatch_alpha\":{\"type\":\"value\",\"value\":1.0},\"hatch_scale\":{\"type\":\"value\",\"value\":12.0},\"hatch_pattern\":{\"type\":\"value\",\"value\":null},\"hatch_weight\":{\"type\":\"value\",\"value\":1.0},\"radius\":{\"type\":\"value\",\"value\":null}}},\"nonselection_glyph\":{\"type\":\"object\",\"name\":\"Circle\",\"id\":\"p1383\",\"attributes\":{\"x\":{\"type\":\"field\",\"field\":\"tt\"},\"y\":{\"type\":\"field\",\"field\":\"index\"},\"line_alpha\":{\"type\":\"value\",\"value\":0.1},\"fill_color\":{\"type\":\"value\",\"value\":\"black\"},\"fill_alpha\":{\"type\":\"value\",\"value\":0.1},\"hatch_alpha\":{\"type\":\"value\",\"value\":0.1}}},\"muted_glyph\":{\"type\":\"object\",\"name\":\"Circle\",\"id\":\"p1384\",\"attributes\":{\"x\":{\"type\":\"field\",\"field\":\"tt\"},\"y\":{\"type\":\"field\",\"field\":\"index\"},\"line_alpha\":{\"type\":\"value\",\"value\":0.2},\"fill_color\":{\"type\":\"value\",\"value\":\"black\"},\"fill_alpha\":{\"type\":\"value\",\"value\":0.2},\"hatch_alpha\":{\"type\":\"value\",\"value\":0.2}}}}},{\"type\":\"object\",\"name\":\"GlyphRenderer\",\"id\":\"p1398\",\"attributes\":{\"data_source\":{\"type\":\"object\",\"name\":\"ColumnDataSource\",\"id\":\"p1389\",\"attributes\":{\"selected\":{\"type\":\"object\",\"name\":\"Selection\",\"id\":\"p1390\",\"attributes\":{\"indices\":[],\"line_indices\":[]}},\"selection_policy\":{\"type\":\"object\",\"name\":\"UnionRenderers\",\"id\":\"p1391\"},\"data\":{\"type\":\"map\",\"entries\":[[\"index\",[\"1\"]],[\"top\",{\"type\":\"ndarray\",\"array\":{\"type\":\"bytes\",\"data\":\"zczMzMzMCEA=\"},\"shape\":[1],\"dtype\":\"float64\",\"order\":\"little\"}],[\"bottom\",{\"type\":\"ndarray\",\"array\":{\"type\":\"bytes\",\"data\":\"AAAAAAAAFEA=\"},\"shape\":[1],\"dtype\":\"float64\",\"order\":\"little\"}]]}}},\"view\":{\"type\":\"object\",\"name\":\"CDSView\",\"id\":\"p1399\",\"attributes\":{\"filter\":{\"type\":\"object\",\"name\":\"AllIndices\",\"id\":\"p1400\"}}},\"glyph\":{\"type\":\"object\",\"name\":\"HBar\",\"id\":\"p1395\",\"attributes\":{\"y\":{\"type\":\"field\",\"field\":\"index\"},\"height\":{\"type\":\"value\",\"value\":0.7},\"left\":{\"type\":\"field\",\"field\":\"top\"},\"right\":{\"type\":\"field\",\"field\":\"bottom\"},\"fill_color\":{\"type\":\"value\",\"value\":\"#30a2da\"}}},\"selection_glyph\":{\"type\":\"object\",\"name\":\"HBar\",\"id\":\"p1401\",\"attributes\":{\"y\":{\"type\":\"field\",\"field\":\"index\"},\"height\":{\"type\":\"value\",\"value\":0.7},\"left\":{\"type\":\"field\",\"field\":\"top\"},\"right\":{\"type\":\"field\",\"field\":\"bottom\"},\"line_color\":{\"type\":\"value\",\"value\":\"black\"},\"line_alpha\":{\"type\":\"value\",\"value\":1.0},\"line_width\":{\"type\":\"value\",\"value\":1},\"line_join\":{\"type\":\"value\",\"value\":\"bevel\"},\"line_cap\":{\"type\":\"value\",\"value\":\"butt\"},\"line_dash\":{\"type\":\"value\",\"value\":[]},\"line_dash_offset\":{\"type\":\"value\",\"value\":0},\"fill_color\":{\"type\":\"value\",\"value\":\"#30a2da\"},\"fill_alpha\":{\"type\":\"value\",\"value\":1.0},\"hatch_color\":{\"type\":\"value\",\"value\":\"black\"},\"hatch_alpha\":{\"type\":\"value\",\"value\":1.0},\"hatch_scale\":{\"type\":\"value\",\"value\":12.0},\"hatch_pattern\":{\"type\":\"value\",\"value\":null},\"hatch_weight\":{\"type\":\"value\",\"value\":1.0}}},\"nonselection_glyph\":{\"type\":\"object\",\"name\":\"HBar\",\"id\":\"p1396\",\"attributes\":{\"y\":{\"type\":\"field\",\"field\":\"index\"},\"height\":{\"type\":\"value\",\"value\":0.7},\"left\":{\"type\":\"field\",\"field\":\"top\"},\"right\":{\"type\":\"field\",\"field\":\"bottom\"},\"line_alpha\":{\"type\":\"value\",\"value\":0.1},\"fill_color\":{\"type\":\"value\",\"value\":\"#30a2da\"},\"fill_alpha\":{\"type\":\"value\",\"value\":0.1},\"hatch_alpha\":{\"type\":\"value\",\"value\":0.1}}},\"muted_glyph\":{\"type\":\"object\",\"name\":\"HBar\",\"id\":\"p1397\",\"attributes\":{\"y\":{\"type\":\"field\",\"field\":\"index\"},\"height\":{\"type\":\"value\",\"value\":0.7},\"left\":{\"type\":\"field\",\"field\":\"top\"},\"right\":{\"type\":\"field\",\"field\":\"bottom\"},\"line_alpha\":{\"type\":\"value\",\"value\":0.2},\"fill_color\":{\"type\":\"value\",\"value\":\"#30a2da\"},\"fill_alpha\":{\"type\":\"value\",\"value\":0.2},\"hatch_alpha\":{\"type\":\"value\",\"value\":0.2}}}}},{\"type\":\"object\",\"name\":\"GlyphRenderer\",\"id\":\"p1411\",\"attributes\":{\"data_source\":{\"type\":\"object\",\"name\":\"ColumnDataSource\",\"id\":\"p1402\",\"attributes\":{\"selected\":{\"type\":\"object\",\"name\":\"Selection\",\"id\":\"p1403\",\"attributes\":{\"indices\":[],\"line_indices\":[]}},\"selection_policy\":{\"type\":\"object\",\"name\":\"UnionRenderers\",\"id\":\"p1404\"},\"data\":{\"type\":\"map\",\"entries\":[[\"index\",[\"1\"]],[\"top\",{\"type\":\"ndarray\",\"array\":{\"type\":\"bytes\",\"data\":\"ZmZmZmZm+D8=\"},\"shape\":[1],\"dtype\":\"float64\",\"order\":\"little\"}],[\"bottom\",{\"type\":\"ndarray\",\"array\":{\"type\":\"bytes\",\"data\":\"zczMzMzMCEA=\"},\"shape\":[1],\"dtype\":\"float64\",\"order\":\"little\"}]]}}},\"view\":{\"type\":\"object\",\"name\":\"CDSView\",\"id\":\"p1412\",\"attributes\":{\"filter\":{\"type\":\"object\",\"name\":\"AllIndices\",\"id\":\"p1413\"}}},\"glyph\":{\"type\":\"object\",\"name\":\"HBar\",\"id\":\"p1408\",\"attributes\":{\"y\":{\"type\":\"field\",\"field\":\"index\"},\"height\":{\"type\":\"value\",\"value\":0.7},\"left\":{\"type\":\"field\",\"field\":\"top\"},\"right\":{\"type\":\"field\",\"field\":\"bottom\"},\"fill_color\":{\"type\":\"value\",\"value\":\"#30a2da\"}}},\"selection_glyph\":{\"type\":\"object\",\"name\":\"HBar\",\"id\":\"p1414\",\"attributes\":{\"y\":{\"type\":\"field\",\"field\":\"index\"},\"height\":{\"type\":\"value\",\"value\":0.7},\"left\":{\"type\":\"field\",\"field\":\"top\"},\"right\":{\"type\":\"field\",\"field\":\"bottom\"},\"line_color\":{\"type\":\"value\",\"value\":\"black\"},\"line_alpha\":{\"type\":\"value\",\"value\":1.0},\"line_width\":{\"type\":\"value\",\"value\":1},\"line_join\":{\"type\":\"value\",\"value\":\"bevel\"},\"line_cap\":{\"type\":\"value\",\"value\":\"butt\"},\"line_dash\":{\"type\":\"value\",\"value\":[]},\"line_dash_offset\":{\"type\":\"value\",\"value\":0},\"fill_color\":{\"type\":\"value\",\"value\":\"#30a2da\"},\"fill_alpha\":{\"type\":\"value\",\"value\":1.0},\"hatch_color\":{\"type\":\"value\",\"value\":\"black\"},\"hatch_alpha\":{\"type\":\"value\",\"value\":1.0},\"hatch_scale\":{\"type\":\"value\",\"value\":12.0},\"hatch_pattern\":{\"type\":\"value\",\"value\":null},\"hatch_weight\":{\"type\":\"value\",\"value\":1.0}}},\"nonselection_glyph\":{\"type\":\"object\",\"name\":\"HBar\",\"id\":\"p1409\",\"attributes\":{\"y\":{\"type\":\"field\",\"field\":\"index\"},\"height\":{\"type\":\"value\",\"value\":0.7},\"left\":{\"type\":\"field\",\"field\":\"top\"},\"right\":{\"type\":\"field\",\"field\":\"bottom\"},\"line_alpha\":{\"type\":\"value\",\"value\":0.1},\"fill_color\":{\"type\":\"value\",\"value\":\"#30a2da\"},\"fill_alpha\":{\"type\":\"value\",\"value\":0.1},\"hatch_alpha\":{\"type\":\"value\",\"value\":0.1}}},\"muted_glyph\":{\"type\":\"object\",\"name\":\"HBar\",\"id\":\"p1410\",\"attributes\":{\"y\":{\"type\":\"field\",\"field\":\"index\"},\"height\":{\"type\":\"value\",\"value\":0.7},\"left\":{\"type\":\"field\",\"field\":\"top\"},\"right\":{\"type\":\"field\",\"field\":\"bottom\"},\"line_alpha\":{\"type\":\"value\",\"value\":0.2},\"fill_color\":{\"type\":\"value\",\"value\":\"#30a2da\"},\"fill_alpha\":{\"type\":\"value\",\"value\":0.2},\"hatch_alpha\":{\"type\":\"value\",\"value\":0.2}}}}},{\"type\":\"object\",\"name\":\"GlyphRenderer\",\"id\":\"p1424\",\"attributes\":{\"data_source\":{\"type\":\"object\",\"name\":\"ColumnDataSource\",\"id\":\"p1415\",\"attributes\":{\"selected\":{\"type\":\"object\",\"name\":\"Selection\",\"id\":\"p1416\",\"attributes\":{\"indices\":[],\"line_indices\":[]}},\"selection_policy\":{\"type\":\"object\",\"name\":\"UnionRenderers\",\"id\":\"p1417\"},\"data\":{\"type\":\"map\",\"entries\":[[\"x0\",[\"1\"]],[\"y0\",{\"type\":\"ndarray\",\"array\":{\"type\":\"bytes\",\"data\":\"AAAAAAAAHEA=\"},\"shape\":[1],\"dtype\":\"float64\",\"order\":\"little\"}],[\"x1\",[\"1\"]],[\"y1\",{\"type\":\"ndarray\",\"array\":{\"type\":\"bytes\",\"data\":\"AAAAAAAAFEA=\"},\"shape\":[1],\"dtype\":\"float64\",\"order\":\"little\"}]]}}},\"view\":{\"type\":\"object\",\"name\":\"CDSView\",\"id\":\"p1425\",\"attributes\":{\"filter\":{\"type\":\"object\",\"name\":\"AllIndices\",\"id\":\"p1426\"}}},\"glyph\":{\"type\":\"object\",\"name\":\"Segment\",\"id\":\"p1421\",\"attributes\":{\"x0\":{\"type\":\"field\",\"field\":\"y0\"},\"y0\":{\"type\":\"field\",\"field\":\"x0\"},\"x1\":{\"type\":\"field\",\"field\":\"y1\"},\"y1\":{\"type\":\"field\",\"field\":\"x1\"}}},\"selection_glyph\":{\"type\":\"object\",\"name\":\"Segment\",\"id\":\"p1427\",\"attributes\":{\"x0\":{\"type\":\"field\",\"field\":\"y0\"},\"y0\":{\"type\":\"field\",\"field\":\"x0\"},\"x1\":{\"type\":\"field\",\"field\":\"y1\"},\"y1\":{\"type\":\"field\",\"field\":\"x1\"},\"line_color\":{\"type\":\"value\",\"value\":\"black\"},\"line_alpha\":{\"type\":\"value\",\"value\":1.0},\"line_width\":{\"type\":\"value\",\"value\":1},\"line_join\":{\"type\":\"value\",\"value\":\"bevel\"},\"line_cap\":{\"type\":\"value\",\"value\":\"butt\"},\"line_dash\":{\"type\":\"value\",\"value\":[]},\"line_dash_offset\":{\"type\":\"value\",\"value\":0}}},\"nonselection_glyph\":{\"type\":\"object\",\"name\":\"Segment\",\"id\":\"p1422\",\"attributes\":{\"x0\":{\"type\":\"field\",\"field\":\"y0\"},\"y0\":{\"type\":\"field\",\"field\":\"x0\"},\"x1\":{\"type\":\"field\",\"field\":\"y1\"},\"y1\":{\"type\":\"field\",\"field\":\"x1\"},\"line_alpha\":{\"type\":\"value\",\"value\":0.1}}},\"muted_glyph\":{\"type\":\"object\",\"name\":\"Segment\",\"id\":\"p1423\",\"attributes\":{\"x0\":{\"type\":\"field\",\"field\":\"y0\"},\"y0\":{\"type\":\"field\",\"field\":\"x0\"},\"x1\":{\"type\":\"field\",\"field\":\"y1\"},\"y1\":{\"type\":\"field\",\"field\":\"x1\"},\"line_alpha\":{\"type\":\"value\",\"value\":0.2}}}}},{\"type\":\"object\",\"name\":\"GlyphRenderer\",\"id\":\"p1437\",\"attributes\":{\"data_source\":{\"type\":\"object\",\"name\":\"ColumnDataSource\",\"id\":\"p1428\",\"attributes\":{\"selected\":{\"type\":\"object\",\"name\":\"Selection\",\"id\":\"p1429\",\"attributes\":{\"indices\":[],\"line_indices\":[]}},\"selection_policy\":{\"type\":\"object\",\"name\":\"UnionRenderers\",\"id\":\"p1430\"},\"data\":{\"type\":\"map\",\"entries\":[[\"x0\",[\"1\"]],[\"y0\",{\"type\":\"ndarray\",\"array\":{\"type\":\"bytes\",\"data\":\"AAAAAAAAAAA=\"},\"shape\":[1],\"dtype\":\"float64\",\"order\":\"little\"}],[\"x1\",[\"1\"]],[\"y1\",{\"type\":\"ndarray\",\"array\":{\"type\":\"bytes\",\"data\":\"ZmZmZmZm+D8=\"},\"shape\":[1],\"dtype\":\"float64\",\"order\":\"little\"}]]}}},\"view\":{\"type\":\"object\",\"name\":\"CDSView\",\"id\":\"p1438\",\"attributes\":{\"filter\":{\"type\":\"object\",\"name\":\"AllIndices\",\"id\":\"p1439\"}}},\"glyph\":{\"type\":\"object\",\"name\":\"Segment\",\"id\":\"p1434\",\"attributes\":{\"x0\":{\"type\":\"field\",\"field\":\"y0\"},\"y0\":{\"type\":\"field\",\"field\":\"x0\"},\"x1\":{\"type\":\"field\",\"field\":\"y1\"},\"y1\":{\"type\":\"field\",\"field\":\"x1\"}}},\"selection_glyph\":{\"type\":\"object\",\"name\":\"Segment\",\"id\":\"p1440\",\"attributes\":{\"x0\":{\"type\":\"field\",\"field\":\"y0\"},\"y0\":{\"type\":\"field\",\"field\":\"x0\"},\"x1\":{\"type\":\"field\",\"field\":\"y1\"},\"y1\":{\"type\":\"field\",\"field\":\"x1\"},\"line_color\":{\"type\":\"value\",\"value\":\"black\"},\"line_alpha\":{\"type\":\"value\",\"value\":1.0},\"line_width\":{\"type\":\"value\",\"value\":1},\"line_join\":{\"type\":\"value\",\"value\":\"bevel\"},\"line_cap\":{\"type\":\"value\",\"value\":\"butt\"},\"line_dash\":{\"type\":\"value\",\"value\":[]},\"line_dash_offset\":{\"type\":\"value\",\"value\":0}}},\"nonselection_glyph\":{\"type\":\"object\",\"name\":\"Segment\",\"id\":\"p1435\",\"attributes\":{\"x0\":{\"type\":\"field\",\"field\":\"y0\"},\"y0\":{\"type\":\"field\",\"field\":\"x0\"},\"x1\":{\"type\":\"field\",\"field\":\"y1\"},\"y1\":{\"type\":\"field\",\"field\":\"x1\"},\"line_alpha\":{\"type\":\"value\",\"value\":0.1}}},\"muted_glyph\":{\"type\":\"object\",\"name\":\"Segment\",\"id\":\"p1436\",\"attributes\":{\"x0\":{\"type\":\"field\",\"field\":\"y0\"},\"y0\":{\"type\":\"field\",\"field\":\"x0\"},\"x1\":{\"type\":\"field\",\"field\":\"y1\"},\"y1\":{\"type\":\"field\",\"field\":\"x1\"},\"line_alpha\":{\"type\":\"value\",\"value\":0.2}}}}},{\"type\":\"object\",\"name\":\"GlyphRenderer\",\"id\":\"p1450\",\"attributes\":{\"data_source\":{\"type\":\"object\",\"name\":\"ColumnDataSource\",\"id\":\"p1441\",\"attributes\":{\"selected\":{\"type\":\"object\",\"name\":\"Selection\",\"id\":\"p1442\",\"attributes\":{\"indices\":[],\"line_indices\":[]}},\"selection_policy\":{\"type\":\"object\",\"name\":\"UnionRenderers\",\"id\":\"p1443\"},\"data\":{\"type\":\"map\",\"entries\":[[\"x0\",[[\"1\",-0.2]]],[\"y0\",[0.0]],[\"x1\",[[\"1\",0.2]]],[\"y1\",[0.0]]]}}},\"view\":{\"type\":\"object\",\"name\":\"CDSView\",\"id\":\"p1451\",\"attributes\":{\"filter\":{\"type\":\"object\",\"name\":\"AllIndices\",\"id\":\"p1452\"}}},\"glyph\":{\"type\":\"object\",\"name\":\"Segment\",\"id\":\"p1447\",\"attributes\":{\"x0\":{\"type\":\"field\",\"field\":\"y0\"},\"y0\":{\"type\":\"field\",\"field\":\"x0\"},\"x1\":{\"type\":\"field\",\"field\":\"y1\"},\"y1\":{\"type\":\"field\",\"field\":\"x1\"}}},\"selection_glyph\":{\"type\":\"object\",\"name\":\"Segment\",\"id\":\"p1453\",\"attributes\":{\"x0\":{\"type\":\"field\",\"field\":\"y0\"},\"y0\":{\"type\":\"field\",\"field\":\"x0\"},\"x1\":{\"type\":\"field\",\"field\":\"y1\"},\"y1\":{\"type\":\"field\",\"field\":\"x1\"},\"line_color\":{\"type\":\"value\",\"value\":\"black\"},\"line_alpha\":{\"type\":\"value\",\"value\":1.0},\"line_width\":{\"type\":\"value\",\"value\":1},\"line_join\":{\"type\":\"value\",\"value\":\"bevel\"},\"line_cap\":{\"type\":\"value\",\"value\":\"butt\"},\"line_dash\":{\"type\":\"value\",\"value\":[]},\"line_dash_offset\":{\"type\":\"value\",\"value\":0}}},\"nonselection_glyph\":{\"type\":\"object\",\"name\":\"Segment\",\"id\":\"p1448\",\"attributes\":{\"x0\":{\"type\":\"field\",\"field\":\"y0\"},\"y0\":{\"type\":\"field\",\"field\":\"x0\"},\"x1\":{\"type\":\"field\",\"field\":\"y1\"},\"y1\":{\"type\":\"field\",\"field\":\"x1\"},\"line_alpha\":{\"type\":\"value\",\"value\":0.1}}},\"muted_glyph\":{\"type\":\"object\",\"name\":\"Segment\",\"id\":\"p1449\",\"attributes\":{\"x0\":{\"type\":\"field\",\"field\":\"y0\"},\"y0\":{\"type\":\"field\",\"field\":\"x0\"},\"x1\":{\"type\":\"field\",\"field\":\"y1\"},\"y1\":{\"type\":\"field\",\"field\":\"x1\"},\"line_alpha\":{\"type\":\"value\",\"value\":0.2}}}}},{\"type\":\"object\",\"name\":\"GlyphRenderer\",\"id\":\"p1463\",\"attributes\":{\"data_source\":{\"type\":\"object\",\"name\":\"ColumnDataSource\",\"id\":\"p1454\",\"attributes\":{\"selected\":{\"type\":\"object\",\"name\":\"Selection\",\"id\":\"p1455\",\"attributes\":{\"indices\":[],\"line_indices\":[]}},\"selection_policy\":{\"type\":\"object\",\"name\":\"UnionRenderers\",\"id\":\"p1456\"},\"data\":{\"type\":\"map\",\"entries\":[[\"x0\",[[\"1\",-0.2]]],[\"y0\",[7.0]],[\"x1\",[[\"1\",0.2]]],[\"y1\",[7.0]]]}}},\"view\":{\"type\":\"object\",\"name\":\"CDSView\",\"id\":\"p1464\",\"attributes\":{\"filter\":{\"type\":\"object\",\"name\":\"AllIndices\",\"id\":\"p1465\"}}},\"glyph\":{\"type\":\"object\",\"name\":\"Segment\",\"id\":\"p1460\",\"attributes\":{\"x0\":{\"type\":\"field\",\"field\":\"y0\"},\"y0\":{\"type\":\"field\",\"field\":\"x0\"},\"x1\":{\"type\":\"field\",\"field\":\"y1\"},\"y1\":{\"type\":\"field\",\"field\":\"x1\"}}},\"selection_glyph\":{\"type\":\"object\",\"name\":\"Segment\",\"id\":\"p1466\",\"attributes\":{\"x0\":{\"type\":\"field\",\"field\":\"y0\"},\"y0\":{\"type\":\"field\",\"field\":\"x0\"},\"x1\":{\"type\":\"field\",\"field\":\"y1\"},\"y1\":{\"type\":\"field\",\"field\":\"x1\"},\"line_color\":{\"type\":\"value\",\"value\":\"black\"},\"line_alpha\":{\"type\":\"value\",\"value\":1.0},\"line_width\":{\"type\":\"value\",\"value\":1},\"line_join\":{\"type\":\"value\",\"value\":\"bevel\"},\"line_cap\":{\"type\":\"value\",\"value\":\"butt\"},\"line_dash\":{\"type\":\"value\",\"value\":[]},\"line_dash_offset\":{\"type\":\"value\",\"value\":0}}},\"nonselection_glyph\":{\"type\":\"object\",\"name\":\"Segment\",\"id\":\"p1461\",\"attributes\":{\"x0\":{\"type\":\"field\",\"field\":\"y0\"},\"y0\":{\"type\":\"field\",\"field\":\"x0\"},\"x1\":{\"type\":\"field\",\"field\":\"y1\"},\"y1\":{\"type\":\"field\",\"field\":\"x1\"},\"line_alpha\":{\"type\":\"value\",\"value\":0.1}}},\"muted_glyph\":{\"type\":\"object\",\"name\":\"Segment\",\"id\":\"p1462\",\"attributes\":{\"x0\":{\"type\":\"field\",\"field\":\"y0\"},\"y0\":{\"type\":\"field\",\"field\":\"x0\"},\"x1\":{\"type\":\"field\",\"field\":\"y1\"},\"y1\":{\"type\":\"field\",\"field\":\"x1\"},\"line_alpha\":{\"type\":\"value\",\"value\":0.2}}}}},{\"type\":\"object\",\"name\":\"GlyphRenderer\",\"id\":\"p1477\",\"attributes\":{\"data_source\":{\"type\":\"object\",\"name\":\"ColumnDataSource\",\"id\":\"p1468\",\"attributes\":{\"selected\":{\"type\":\"object\",\"name\":\"Selection\",\"id\":\"p1469\",\"attributes\":{\"indices\":[],\"line_indices\":[]}},\"selection_policy\":{\"type\":\"object\",\"name\":\"UnionRenderers\",\"id\":\"p1470\"},\"data\":{\"type\":\"map\",\"entries\":[[\"dummy\",[\"1\",\"1\",\"1\",\"1\",\"1\",\"1\",\"1\",\"1\",\"1\",\"1\",\"1\",\"1\",\"1\",\"1\",\"1\",\"1\",\"1\",\"1\",\"1\",\"1\",\"1\",\"1\",\"1\",\"1\",\"1\",\"1\",\"1\",\"1\",\"1\",\"1\",\"1\",\"1\",\"1\",\"1\",\"1\",\"1\",\"1\",\"1\",\"1\",\"1\",\"1\",\"1\",\"1\",\"1\",\"1\",\"1\",\"1\",\"1\",\"1\",\"1\",\"1\",\"1\",\"1\",\"1\",\"1\",\"1\",\"1\",\"1\",\"1\",\"1\",\"1\",\"1\",\"1\",\"1\",\"1\",\"1\",\"1\",\"1\",\"1\",\"1\",\"1\",\"1\",\"1\",\"1\",\"1\",\"1\",\"1\",\"1\",\"1\",\"1\",\"1\",\"1\",\"1\",\"1\",\"1\",\"1\",\"1\",\"1\",\"1\",\"1\",\"1\",\"1\",\"1\",\"1\",\"1\",\"1\",\"1\",\"1\",\"1\",\"1\",\"1\",\"1\",\"1\",\"1\",\"1\",\"1\",\"1\",\"1\",\"1\",\"1\",\"1\",\"1\",\"1\",\"1\",\"1\",\"1\",\"1\",\"1\",\"1\",\"1\",\"1\",\"1\",\"1\",\"1\",\"1\",\"1\",\"1\",\"1\",\"1\",\"1\",\"1\",\"1\",\"1\",\"1\",\"1\",\"1\",\"1\",\"1\",\"1\",\"1\",\"1\",\"1\",\"1\",\"1\",\"1\",\"1\",\"1\",\"1\",\"1\",\"1\",\"1\",\"1\",\"1\",\"1\"]],[\"tt\",{\"type\":\"ndarray\",\"array\":{\"type\":\"bytes\",\"data\":\"mpmZmZmZ+T/NzMzMzMz0PzMzMzMzM9M/AAAAAAAAGEAAAAAAAADgP83MzMzMzARAAAAAAAAABEAAAAAAAAAQQDMzMzMzMw9AAAAAAAAA8D8AAAAAAAAQQM3MzMzMzARAmpmZmZmZ+T+amZmZmZkJQJqZmZmZmQ1AZmZmZmZmCkAzMzMzMzMLQAAAAAAAABhAAAAAAAAAFEAAAAAAAAAUQAAAAAAAAAAAAAAAAAAAGECamZmZmZn5PwAAAAAAABRAZmZmZmZm5j8AAAAAAAAcQDMzMzMzM/s/ZmZmZmZm5j+amZmZmZn5P83MzMzMzARAMzMzMzMzC0CamZmZmZkFQAAAAAAAABxAAAAAAAAAGEBmZmZmZmYCQJqZmZmZmQ1AZmZmZmZm9j8AAAAAAAAUQGZmZmZmZv4/mpmZmZmZyT8zMzMzMzPTP83MzMzMzAhAAAAAAAAAFEBmZmZmZmbmPwAAAAAAABhAzczMzMzM/D8AAAAAAAAMQM3MzMzMzARAAAAAAAAAGEAzMzMzMzMHQAAAAAAAAPg/AAAAAAAAFEAAAAAAAAAQQGZmZmZmZg5AMzMzMzMz0z/NzMzMzMz0PwAAAAAAABhAAAAAAAAABEAAAAAAAAD4PwAAAAAAABBAmpmZmZmZ6T8AAAAAAAAQQAAAAAAAAAxAAAAAAAAAHEAAAAAAAAAQQJqZmZmZmdk/MzMzMzMzB0AAAAAAAAAUQAAAAAAAAABAAAAAAAAA+D/NzMzMzMwIQAAAAAAAAPg/ZmZmZmZm/j/NzMzMzMwMQAAAAAAAABxAMzMzMzMz+z8zMzMzMzMHQDMzMzMzM+M/AAAAAAAAHEAzMzMzMzPjPzMzMzMzM9M/AAAAAAAAEEDNzMzMzMz0P5qZmZmZmfk/zczMzMzM9D9mZmZmZmYCQAAAAAAAABRAzczMzMzMBEAAAAAAAAAAAGZmZmZmZuY/AAAAAAAAHEAAAAAAAAAQQAAAAAAAABRAAAAAAAAAHEBmZmZmZmYKQDMzMzMzMwtAAAAAAAAAHEBmZmZmZmYKQJqZmZmZmdk/AAAAAAAA8D8zMzMzMzPjPwAAAAAAABxAZmZmZmZmCkAAAAAAAAAYQM3MzMzMzARAZmZmZmZmCkAAAAAAAAAYQGZmZmZmZuY/zczMzMzMCEBmZmZmZmb2PwAAAAAAABhAAAAAAAAAGECamZmZmZnJPzMzMzMzM9M/AAAAAAAAHEAAAAAAAAAAQAAAAAAAABhAAAAAAAAAGEAAAAAAAAAQQAAAAAAAABRAAAAAAAAAEEAAAAAAAAAYQGZmZmZmZgpAAAAAAAAAHEDNzMzMzMz0P5qZmZmZmck/zczMzMzMBEAAAAAAAAAEQAAAAAAAABRAAAAAAAAAFEAAAAAAAAAQQAAAAAAAABxAzczMzMzM9D8AAAAAAAAYQAAAAAAAABxAmpmZmZmZ+T8AAAAAAAAcQM3MzMzMzPQ/AAAAAAAAHECamZmZmZnpPwAAAAAAABRAAAAAAAAABEAAAAAAAAAcQDMzMzMzMwdAAAAAAAAA+D8AAAAAAAAUQAAAAAAAABxAzczMzMzMDEAAAAAAAAAcQGZmZmZmZgJAMzMzMzMz+z9mZmZmZmb+PzMzMzMzMwdAmpmZmZmZBUA=\"},\"shape\":[154],\"dtype\":\"float64\",\"order\":\"little\"}]]}}},\"view\":{\"type\":\"object\",\"name\":\"CDSView\",\"id\":\"p1478\",\"attributes\":{\"filter\":{\"type\":\"object\",\"name\":\"AllIndices\",\"id\":\"p1479\"}}},\"glyph\":{\"type\":\"object\",\"name\":\"Scatter\",\"id\":\"p1474\",\"attributes\":{\"tags\":[\"apply_ranges\"],\"x\":{\"type\":\"field\",\"field\":\"tt\"},\"y\":{\"type\":\"field\",\"field\":\"dummy\",\"transform\":{\"type\":\"object\",\"name\":\"Jitter\",\"id\":\"p1467\",\"attributes\":{\"width\":0.3,\"range\":{\"id\":\"p1337\"}}}},\"size\":{\"type\":\"value\",\"value\":2.23606797749979},\"line_color\":{\"type\":\"value\",\"value\":\"orange\"},\"fill_color\":{\"type\":\"value\",\"value\":\"orange\"},\"hatch_color\":{\"type\":\"value\",\"value\":\"orange\"}}},\"selection_glyph\":{\"type\":\"object\",\"name\":\"Scatter\",\"id\":\"p1480\",\"attributes\":{\"tags\":[\"apply_ranges\"],\"x\":{\"type\":\"field\",\"field\":\"tt\"},\"y\":{\"type\":\"field\",\"field\":\"dummy\",\"transform\":{\"id\":\"p1467\"}},\"size\":{\"type\":\"value\",\"value\":2.23606797749979},\"angle\":{\"type\":\"value\",\"value\":0.0},\"line_color\":{\"type\":\"value\",\"value\":\"orange\"},\"line_alpha\":{\"type\":\"value\",\"value\":1.0},\"line_width\":{\"type\":\"value\",\"value\":1},\"line_join\":{\"type\":\"value\",\"value\":\"bevel\"},\"line_cap\":{\"type\":\"value\",\"value\":\"butt\"},\"line_dash\":{\"type\":\"value\",\"value\":[]},\"line_dash_offset\":{\"type\":\"value\",\"value\":0},\"fill_color\":{\"type\":\"value\",\"value\":\"orange\"},\"fill_alpha\":{\"type\":\"value\",\"value\":1.0},\"hatch_color\":{\"type\":\"value\",\"value\":\"orange\"},\"hatch_alpha\":{\"type\":\"value\",\"value\":1.0},\"hatch_scale\":{\"type\":\"value\",\"value\":12.0},\"hatch_pattern\":{\"type\":\"value\",\"value\":null},\"hatch_weight\":{\"type\":\"value\",\"value\":1.0},\"marker\":{\"type\":\"value\",\"value\":\"circle\"}}},\"nonselection_glyph\":{\"type\":\"object\",\"name\":\"Scatter\",\"id\":\"p1475\",\"attributes\":{\"tags\":[\"apply_ranges\"],\"x\":{\"type\":\"field\",\"field\":\"tt\"},\"y\":{\"type\":\"field\",\"field\":\"dummy\",\"transform\":{\"id\":\"p1467\"}},\"size\":{\"type\":\"value\",\"value\":2.23606797749979},\"line_color\":{\"type\":\"value\",\"value\":\"orange\"},\"line_alpha\":{\"type\":\"value\",\"value\":0.1},\"fill_color\":{\"type\":\"value\",\"value\":\"orange\"},\"fill_alpha\":{\"type\":\"value\",\"value\":0.1},\"hatch_color\":{\"type\":\"value\",\"value\":\"orange\"},\"hatch_alpha\":{\"type\":\"value\",\"value\":0.1}}},\"muted_glyph\":{\"type\":\"object\",\"name\":\"Scatter\",\"id\":\"p1476\",\"attributes\":{\"tags\":[\"apply_ranges\"],\"x\":{\"type\":\"field\",\"field\":\"tt\"},\"y\":{\"type\":\"field\",\"field\":\"dummy\",\"transform\":{\"id\":\"p1467\"}},\"size\":{\"type\":\"value\",\"value\":2.23606797749979},\"line_color\":{\"type\":\"value\",\"value\":\"orange\"},\"line_alpha\":{\"type\":\"value\",\"value\":0.2},\"fill_color\":{\"type\":\"value\",\"value\":\"orange\"},\"fill_alpha\":{\"type\":\"value\",\"value\":0.2},\"hatch_color\":{\"type\":\"value\",\"value\":\"orange\"},\"hatch_alpha\":{\"type\":\"value\",\"value\":0.2}}}}}],\"toolbar\":{\"type\":\"object\",\"name\":\"Toolbar\",\"id\":\"p1354\",\"attributes\":{\"autohide\":true,\"tools\":[{\"type\":\"object\",\"name\":\"WheelZoomTool\",\"id\":\"p1341\",\"attributes\":{\"tags\":[\"hv_created\"],\"renderers\":\"auto\",\"zoom_together\":\"none\"}},{\"type\":\"object\",\"name\":\"HoverTool\",\"id\":\"p1344\",\"attributes\":{\"tags\":[\"hv_created\"],\"renderers\":[{\"id\":\"p1477\"}],\"tooltips\":[[\"dummy\",\"@{dummy}\"],[\"tt\",\"@{tt}\"]]}},{\"type\":\"object\",\"name\":\"SaveTool\",\"id\":\"p1367\"},{\"type\":\"object\",\"name\":\"PanTool\",\"id\":\"p1368\"},{\"type\":\"object\",\"name\":\"BoxZoomTool\",\"id\":\"p1369\",\"attributes\":{\"overlay\":{\"type\":\"object\",\"name\":\"BoxAnnotation\",\"id\":\"p1370\",\"attributes\":{\"syncable\":false,\"level\":\"overlay\",\"visible\":false,\"left\":{\"type\":\"number\",\"value\":\"nan\"},\"right\":{\"type\":\"number\",\"value\":\"nan\"},\"top\":{\"type\":\"number\",\"value\":\"nan\"},\"bottom\":{\"type\":\"number\",\"value\":\"nan\"},\"left_units\":\"canvas\",\"right_units\":\"canvas\",\"top_units\":\"canvas\",\"bottom_units\":\"canvas\",\"line_color\":\"black\",\"line_alpha\":1.0,\"line_width\":2,\"line_dash\":[4,4],\"fill_color\":\"lightgrey\",\"fill_alpha\":0.5}}}},{\"type\":\"object\",\"name\":\"ResetTool\",\"id\":\"p1375\"}],\"active_drag\":{\"id\":\"p1368\"},\"active_scroll\":{\"id\":\"p1341\"}}},\"left\":[{\"type\":\"object\",\"name\":\"CategoricalAxis\",\"id\":\"p1362\",\"attributes\":{\"visible\":false,\"ticker\":{\"type\":\"object\",\"name\":\"CategoricalTicker\",\"id\":\"p1363\"},\"formatter\":{\"type\":\"object\",\"name\":\"CategoricalTickFormatter\",\"id\":\"p1364\"},\"axis_label\":\"\",\"major_label_policy\":{\"type\":\"object\",\"name\":\"AllLabels\",\"id\":\"p1365\"}}}],\"below\":[{\"type\":\"object\",\"name\":\"LinearAxis\",\"id\":\"p1357\",\"attributes\":{\"ticker\":{\"type\":\"object\",\"name\":\"BasicTicker\",\"id\":\"p1358\",\"attributes\":{\"mantissas\":[1,2,5]}},\"formatter\":{\"type\":\"object\",\"name\":\"BasicTickFormatter\",\"id\":\"p1359\"},\"axis_label\":\"\",\"major_label_policy\":{\"type\":\"object\",\"name\":\"AllLabels\",\"id\":\"p1360\"}}}],\"center\":[{\"type\":\"object\",\"name\":\"Grid\",\"id\":\"p1361\",\"attributes\":{\"axis\":{\"id\":\"p1357\"},\"grid_line_color\":null}},{\"type\":\"object\",\"name\":\"Grid\",\"id\":\"p1366\",\"attributes\":{\"dimension\":1,\"axis\":{\"id\":\"p1362\"},\"grid_line_color\":null}}],\"min_border_top\":10,\"min_border_bottom\":10,\"min_border_left\":10,\"min_border_right\":10,\"output_backend\":\"webgl\"}}],\"defs\":[{\"type\":\"model\",\"name\":\"ReactiveHTML1\"},{\"type\":\"model\",\"name\":\"FlexBox1\",\"properties\":[{\"name\":\"align_content\",\"kind\":\"Any\",\"default\":\"flex-start\"},{\"name\":\"align_items\",\"kind\":\"Any\",\"default\":\"flex-start\"},{\"name\":\"flex_direction\",\"kind\":\"Any\",\"default\":\"row\"},{\"name\":\"flex_wrap\",\"kind\":\"Any\",\"default\":\"wrap\"},{\"name\":\"justify_content\",\"kind\":\"Any\",\"default\":\"flex-start\"}]},{\"type\":\"model\",\"name\":\"FloatPanel1\",\"properties\":[{\"name\":\"config\",\"kind\":\"Any\",\"default\":{\"type\":\"map\"}},{\"name\":\"contained\",\"kind\":\"Any\",\"default\":true},{\"name\":\"position\",\"kind\":\"Any\",\"default\":\"right-top\"},{\"name\":\"offsetx\",\"kind\":\"Any\",\"default\":null},{\"name\":\"offsety\",\"kind\":\"Any\",\"default\":null},{\"name\":\"theme\",\"kind\":\"Any\",\"default\":\"primary\"},{\"name\":\"status\",\"kind\":\"Any\",\"default\":\"normalized\"}]},{\"type\":\"model\",\"name\":\"GridStack1\",\"properties\":[{\"name\":\"mode\",\"kind\":\"Any\",\"default\":\"warn\"},{\"name\":\"ncols\",\"kind\":\"Any\",\"default\":null},{\"name\":\"nrows\",\"kind\":\"Any\",\"default\":null},{\"name\":\"allow_resize\",\"kind\":\"Any\",\"default\":true},{\"name\":\"allow_drag\",\"kind\":\"Any\",\"default\":true},{\"name\":\"state\",\"kind\":\"Any\",\"default\":[]}]},{\"type\":\"model\",\"name\":\"drag1\",\"properties\":[{\"name\":\"slider_width\",\"kind\":\"Any\",\"default\":5},{\"name\":\"slider_color\",\"kind\":\"Any\",\"default\":\"black\"},{\"name\":\"value\",\"kind\":\"Any\",\"default\":50}]},{\"type\":\"model\",\"name\":\"click1\",\"properties\":[{\"name\":\"terminal_output\",\"kind\":\"Any\",\"default\":\"\"},{\"name\":\"debug_name\",\"kind\":\"Any\",\"default\":\"\"},{\"name\":\"clears\",\"kind\":\"Any\",\"default\":0}]},{\"type\":\"model\",\"name\":\"copy_to_clipboard1\",\"properties\":[{\"name\":\"fill\",\"kind\":\"Any\",\"default\":\"none\"},{\"name\":\"value\",\"kind\":\"Any\",\"default\":null}]},{\"type\":\"model\",\"name\":\"FastWrapper1\",\"properties\":[{\"name\":\"object\",\"kind\":\"Any\",\"default\":null},{\"name\":\"style\",\"kind\":\"Any\",\"default\":null}]},{\"type\":\"model\",\"name\":\"NotificationAreaBase1\",\"properties\":[{\"name\":\"js_events\",\"kind\":\"Any\",\"default\":{\"type\":\"map\"}},{\"name\":\"position\",\"kind\":\"Any\",\"default\":\"bottom-right\"},{\"name\":\"_clear\",\"kind\":\"Any\",\"default\":0}]},{\"type\":\"model\",\"name\":\"NotificationArea1\",\"properties\":[{\"name\":\"js_events\",\"kind\":\"Any\",\"default\":{\"type\":\"map\"}},{\"name\":\"notifications\",\"kind\":\"Any\",\"default\":[]},{\"name\":\"position\",\"kind\":\"Any\",\"default\":\"bottom-right\"},{\"name\":\"_clear\",\"kind\":\"Any\",\"default\":0},{\"name\":\"types\",\"kind\":\"Any\",\"default\":[{\"type\":\"map\",\"entries\":[[\"type\",\"warning\"],[\"background\",\"#ffc107\"],[\"icon\",{\"type\":\"map\",\"entries\":[[\"className\",\"fas fa-exclamation-triangle\"],[\"tagName\",\"i\"],[\"color\",\"white\"]]}]]},{\"type\":\"map\",\"entries\":[[\"type\",\"info\"],[\"background\",\"#007bff\"],[\"icon\",{\"type\":\"map\",\"entries\":[[\"className\",\"fas fa-info-circle\"],[\"tagName\",\"i\"],[\"color\",\"white\"]]}]]}]}]},{\"type\":\"model\",\"name\":\"Notification\",\"properties\":[{\"name\":\"background\",\"kind\":\"Any\",\"default\":null},{\"name\":\"duration\",\"kind\":\"Any\",\"default\":3000},{\"name\":\"icon\",\"kind\":\"Any\",\"default\":null},{\"name\":\"message\",\"kind\":\"Any\",\"default\":\"\"},{\"name\":\"notification_type\",\"kind\":\"Any\",\"default\":null},{\"name\":\"_destroyed\",\"kind\":\"Any\",\"default\":false}]},{\"type\":\"model\",\"name\":\"TemplateActions1\",\"properties\":[{\"name\":\"open_modal\",\"kind\":\"Any\",\"default\":0},{\"name\":\"close_modal\",\"kind\":\"Any\",\"default\":0}]},{\"type\":\"model\",\"name\":\"BootstrapTemplateActions1\",\"properties\":[{\"name\":\"open_modal\",\"kind\":\"Any\",\"default\":0},{\"name\":\"close_modal\",\"kind\":\"Any\",\"default\":0}]},{\"type\":\"model\",\"name\":\"MaterialTemplateActions1\",\"properties\":[{\"name\":\"open_modal\",\"kind\":\"Any\",\"default\":0},{\"name\":\"close_modal\",\"kind\":\"Any\",\"default\":0}]}]}};\n",
       "  const render_items = [{\"docid\":\"e8430996-eb87-4b54-9454-15aec9853d73\",\"roots\":{\"p1345\":\"c887aa77-72ef-4b01-b2d6-bc3857c5da0e\"},\"root_ids\":[\"p1345\"]}];\n",
       "  root.Bokeh.embed.embed_items_notebook(docs_json, render_items);\n",
       "  }\n",
       "  if (root.Bokeh !== undefined) {\n",
       "    embed_document(root);\n",
       "  } else {\n",
       "    let attempts = 0;\n",
       "    const timer = setInterval(function(root) {\n",
       "      if (root.Bokeh !== undefined) {\n",
       "        clearInterval(timer);\n",
       "        embed_document(root);\n",
       "      } else {\n",
       "        attempts++;\n",
       "        if (attempts > 100) {\n",
       "          clearInterval(timer);\n",
       "          console.log(\"Bokeh: ERROR: Unable to run BokehJS code because BokehJS library is missing\");\n",
       "        }\n",
       "      }\n",
       "    }, 10, root)\n",
       "  }\n",
       "})(window);"
      ],
      "application/vnd.bokehjs_exec.v0+json": ""
     },
     "metadata": {
      "application/vnd.bokehjs_exec.v0+json": {
       "id": "p1345"
      }
     },
     "output_type": "display_data"
    },
    {
     "name": "stdout",
     "output_type": "stream",
     "text": [
      "output image: ../assets/Ticket to RideWestern Pacific Ocean Cup • Season 1_Duration_20240817084411.png\n",
      "output image: ../assets/t_Ticket to RideWestern Pacific Ocean Cup • Season 1_Duration_20240817084411.png\n"
     ]
    }
   ],
   "source": [
    "# plot\n",
    "from bokeh.plotting import show\n",
    "from bokeh.io import export_png\n",
    "\n",
    "df2 = pd.DataFrame(converted_table_times, columns=['tt'])\n",
    "df2['dummy'] = 1\n",
    "plot = hv.BoxWhisker(df2, vdims='tt')  * df2.hvplot.scatter(y='tt' ,x = 'dummy', c='orange', size=5).opts(jitter=0.3)\n",
    "plot.opts(invert_axes=True, height = 70, width=350, xlabel='',ylabel='', yaxis=None, title='Table duration (days)',fontsize={'title': 11})\n",
    "fig = hv.render(plot)\n",
    "fig.outline_line_width =0\n",
    "fig.toolbar.autohide = True\n",
    "show(fig)\n",
    "\n",
    "# save into png and make transparent background\n",
    "duration_file = '../assets/'+ game_name + tournament_name + \"_Duration_\" +time.strftime(\"%Y%m%d%H%M%S\", time.localtime()) + '.png'\n",
    "export_png(fig, filename=duration_file)\n",
    "print('output image:', duration_file)\n",
    "transformed_duration_file = bga_function.transparent_background(duration_file)\n",
    "os.remove(duration_file)\n",
    "\n"
   ]
  },
  {
   "cell_type": "code",
   "execution_count": 23,
   "id": "a20d81d8-c7b9-4795-a654-9125d0794d08",
   "metadata": {},
   "outputs": [
    {
     "name": "stdout",
     "output_type": "stream",
     "text": [
      "- Abandoned tables (reached duration limit): 9%\n",
      "- Cancelled tables (player left or got kicked): 5%\n"
     ]
    }
   ],
   "source": [
    "### finish table part\n",
    "print(f\"- Abandoned tables (reached duration limit): {ratio_abandoned_tables:.0%}\")\n",
    "print(f\"- Cancelled tables (player left or got kicked): {ratio_cancelled_tables:.0%}\")\n",
    "time.sleep(waiting_time)"
   ]
  },
  {
   "cell_type": "markdown",
   "id": "46f24eea-879d-4e79-bf12-3b5083f22db6",
   "metadata": {},
   "source": [
    "## summary"
   ]
  },
  {
   "cell_type": "code",
   "execution_count": 24,
   "id": "7905e82a-bb88-40d2-89b9-a6ed9045cc90",
   "metadata": {},
   "outputs": [
    {
     "name": "stdout",
     "output_type": "stream",
     "text": [
      "- [Season 1](https://boardgamearena.com/tournament?id=303099)\n",
      "- Date: 07/01/2024 - __/__/2024\n",
      "- Number of players: 63\n",
      "- Top origins of players: Australia 12% Hong Kong 9% United States of America 7% Thailand 6% France 6%\n",
      "- Abandoned tables (reached duration limit): 9%\n",
      "- Cancelled tables (player left or got kicked): 5%\n",
      "- Q1/Q2/Q3 of player's Elo rating: 155/209/267\n",
      "- Q1/Q2/Q3 of table duration (days): 1.5/3.1/5.0\n",
      "- Winners(meta event points): Jeroenpenguina(100); Castz(75); Vladimir101(50); loyolas(50); Deadly_Rat(10); doctor1215(10); duchil(10); Natx12(10)\n",
      "\n",
      "<div>\n",
      " <img src=\"/wpoc/assets/images/tournament/t_Ticket to RideWestern Pacific Ocean Cup • Season 1_Elo_20240817081348.png\" width=\"300\" style=\"display: block; margin-left: 30px; margin-bottom: 5px; margin-top:-15px\"/>\n",
      "</div>\n",
      "<div>\n",
      " <img src=\"/wpoc/assets/images/tournament/t_Ticket to RideWestern Pacific Ocean Cup • Season 1_Duration_20240817084411.png\" width=\"300\" style=\"display: block; margin-left: 30px; margin-bottom: 5px;\"/>\n",
      "</div>\n",
      "<p>&nbsp;</p>\n",
      "\n",
      "\n",
      "1. check last day of tournament from the tournament page\n",
      "2. change the 4th player point to 25\n"
     ]
    }
   ],
   "source": [
    "# summary message\n",
    "print(f\"- [{tournament_name.replace(\"Western Pacific Ocean Cup • \",\"\")}]({tournament_link})\")\n",
    "print(\"- Date:\",start_date, \"- __/__/2024\") #put this manually \n",
    "print('- Number of players:', len(players))\n",
    "print(\"- Top origins of players:\",top_countries.index[0][0], f\"{top_countries.iloc[0]}\", top_countries.index[1][0], f\"{top_countries.iloc[1]}\", top_countries.index[2][0], f\"{top_countries.iloc[2]}\", top_countries.index[3][0], f\"{top_countries.iloc[3]}\", top_countries.index[4][0], f\"{top_countries.iloc[4]}\") \n",
    "print(f\"- Abandoned tables (reached duration limit): {ratio_abandoned_tables:.0%}\")\n",
    "print(f\"- Cancelled tables (player left or got kicked): {ratio_cancelled_tables:.0%}\")\n",
    "print(\"- Q1/Q2/Q3 of player's Elo rating:\", f\"{elo_q1}/{elo_q2}/{elo_q3}\")\n",
    "print(\"- Q1/Q2/Q3 of table duration (days):\", f\"{round(duration_q1,1)}/{round(duration_q2,1)}/{round(duration_q3,1)}\") #put this later \n",
    "# print('- Winners:', f\"\\U0001F947{players[0]}\", f\"\\U0001F948{players[1]}\", f\"\\U0001F949{players[2]}\")\n",
    "print(\"- Winners(meta event points):\", \n",
    "    f'{ranked_player[0][0][0][0]}(100);', \n",
    "    f'{ranked_player[1][0][0][0]}(75);',\n",
    "    f'{ranked_player[2][0][0][0]}(50);',\n",
    "    f'{ranked_player[3][0][0][0]}(50);',\n",
    "    f'{ranked_player[4][0][0][0]}(10);',    \n",
    "    f'{ranked_player[5][0][0][0]}(10);',\n",
    "    f'{ranked_player[6][0][0][0]}(10);',\n",
    "    f'{ranked_player[7][0][0][0]}(10)',)\n",
    "\n",
    "# image links\n",
    "print(\"\")\n",
    "print('<div>')\n",
    "print(' <img src=\"/wpoc/assets/images/tournament/', re.findall('assets/(.*)',transformed_elo_file)[0],'\" width=\"300\" style=\"display: block; margin-left: 30px; margin-bottom: 5px; margin-top:-15px\"/>', sep='')\n",
    "print('</div>')\n",
    "print('<div>')\n",
    "print(' <img src=\"/wpoc/assets/images/tournament/', re.findall('assets/(.*)',transformed_duration_file)[0],'\" width=\"300\" style=\"display: block; margin-left: 30px; margin-bottom: 5px;\"/>', sep='')\n",
    "print('</div>')\n",
    "# print(\"\")\n",
    "print('<p>&nbsp;</p>')\n",
    "\n",
    "\n",
    "# Things to check manually\n",
    "print(\"\\n\\n1. check last day of tournament from the tournament page\")\n",
    "print(\"2. change the 4th player point to 25\")\n",
    "\n",
    "\n"
   ]
  },
  {
   "cell_type": "markdown",
   "id": "24a136c6-06ef-4857-b99d-3359584209d5",
   "metadata": {},
   "source": [
    "# Player_ranking"
   ]
  },
  {
   "cell_type": "code",
   "execution_count": 25,
   "id": "598a2ea3-2dd7-4ce2-b7f6-1306c0530dd1",
   "metadata": {},
   "outputs": [],
   "source": [
    "# add region information to ranked players\n",
    "for item in ranked_player:\n",
    "    player_region = bga_function.get_player_info(driver, waiting_time, item[1], game_name)[1]\n",
    "    item.append(player_region)\n",
    "    "
   ]
  },
  {
   "cell_type": "code",
   "execution_count": 33,
   "id": "ff327b88-2150-4164-933d-b12e15b96cb7",
   "metadata": {},
   "outputs": [
    {
     "name": "stdout",
     "output_type": "stream",
     "text": [
      "2. paste information below to csv:\n",
      ">>\n",
      "\n",
      "1st\n",
      "Ticket to Ride,Season 1,Jeroenpenguina,Netherlands,1st\n",
      "2nd\n",
      "Ticket to Ride,Season 1,Castz,Hong Kong,2nd\n",
      "3rd\n",
      "Ticket to Ride,Season 1,Vladimir101,Spain,3rd\n",
      "3rd\n",
      "Ticket to Ride,Season 1,loyolas,France,3rd\n",
      "5th\n",
      "Ticket to Ride,Season 1,Deadly_Rat,Hong Kong,5th\n",
      "5th\n",
      "Ticket to Ride,Season 1,doctor1215,China,5th\n",
      "5th\n",
      "Ticket to Ride,Season 1,duchil,Spain,5th\n",
      "5th\n",
      "Ticket to Ride,Season 1,Natx12,Hong Kong,5th\n"
     ]
    }
   ],
   "source": [
    "print(\"2. paste information below to csv:\")\n",
    "print(\">>\\n\")\n",
    "        # countries.append(i[1].split(\",\")[0])\n",
    "\n",
    "for item in ranked_player:\n",
    "    print(item[0][0][1])\n",
    "    # print(game_name,\",\", tournament_name.replace(\"Western Pacific Ocean Cup • \",\"\"),\",\" ,item[0][0][0], \",\", item[2],\",\",item[0][0][1], sep='')    \n",
    "    print(game_name,\",\", tournament_name.replace(\"Western Pacific Ocean Cup • \",\"\"),\",\" ,item[0][0][0], \",\", item[2].split(\",\")[0],\",\",item[0][0][1], sep='')    \n",
    "\n",
    "# for item in ranked_player:\n",
    "#     print(\"All Games\",\",\", tournament_name.replace(\"Western Pacific Ocean Cup • \",\"\"),\",\" ,item[0][0][0], \",\", item[2],\",\", item[0][0][1], sep='')\n"
   ]
  },
  {
   "cell_type": "code",
   "execution_count": 28,
   "id": "d2393382-1129-42ce-b7b1-c8cb7deb282e",
   "metadata": {
    "tags": []
   },
   "outputs": [
    {
     "name": "stderr",
     "output_type": "stream",
     "text": [
      "C:\\Users\\Simon\\Documents\\GitHub\\wpoc\\code\\bga_function.py:254: UserWarning: set_ticklabels() should only be used with a fixed number of ticks, i.e. after set_ticks() or using a FixedLocator.\n",
      "  ax.set_yticklabels(selected_data['PlayerName'],      # Set labels again\n"
     ]
    },
    {
     "name": "stdout",
     "output_type": "stream",
     "text": [
      "../assets/images/ranking/TickettoRideRanking.png\n",
      "Ticket to Ride\n",
      "🥇Netherlands(100) 🥈Hong Kong(95) 🥉Spain(60)\n",
      "Region\n",
      "Netherlands    100\n",
      "Hong Kong       95\n",
      "Spain           60\n",
      "France          50\n",
      "China           10\n",
      "Name: MetaPoint, dtype: int64\n"
     ]
    },
    {
     "name": "stderr",
     "output_type": "stream",
     "text": [
      "C:\\Users\\Simon\\Documents\\GitHub\\wpoc\\code\\bga_function.py:254: UserWarning: set_ticklabels() should only be used with a fixed number of ticks, i.e. after set_ticks() or using a FixedLocator.\n",
      "  ax.set_yticklabels(selected_data['PlayerName'],      # Set labels again\n"
     ]
    },
    {
     "name": "stdout",
     "output_type": "stream",
     "text": [
      "../assets/images/ranking/7WondersRanking.png\n",
      "7 Wonders\n",
      "🥇Belgium(150) 🥈Hungary(75) 🥉Philippines(25)\n",
      "Region\n",
      "Belgium        150\n",
      "Hungary         75\n",
      "Philippines     25\n",
      "Australia       10\n",
      "Germany         10\n",
      "Name: MetaPoint, dtype: int64\n"
     ]
    },
    {
     "name": "stderr",
     "output_type": "stream",
     "text": [
      "C:\\Users\\Simon\\Documents\\GitHub\\wpoc\\code\\bga_function.py:254: UserWarning: set_ticklabels() should only be used with a fixed number of ticks, i.e. after set_ticks() or using a FixedLocator.\n",
      "  ax.set_yticklabels(selected_data['PlayerName'],      # Set labels again\n"
     ]
    },
    {
     "name": "stdout",
     "output_type": "stream",
     "text": [
      "../assets/images/ranking/SplendorRanking.png\n",
      "Splendor\n",
      "🥇Japan(175) 🥈China(70) 🥉Hong Kong(50)\n",
      "Region\n",
      "Japan          175\n",
      "China           70\n",
      "Hong Kong       50\n",
      "Canada          10\n",
      "Netherlands     10\n",
      "Name: MetaPoint, dtype: int64\n"
     ]
    },
    {
     "name": "stderr",
     "output_type": "stream",
     "text": [
      "C:\\Users\\Simon\\Documents\\GitHub\\wpoc\\code\\bga_function.py:254: UserWarning: set_ticklabels() should only be used with a fixed number of ticks, i.e. after set_ticks() or using a FixedLocator.\n",
      "  ax.set_yticklabels(selected_data['PlayerName'],      # Set labels again\n"
     ]
    },
    {
     "name": "stdout",
     "output_type": "stream",
     "text": [
      "../assets/images/ranking/WingspanRanking.png\n",
      "Wingspan\n",
      "🥇United States of America(160) 🥈Australia(100) 🥉Hong Kong(100)\n",
      "Region\n",
      "United States of America    160\n",
      "Australia                   100\n",
      "Hong Kong                   100\n",
      "Peru                         60\n",
      "France                       50\n",
      "Name: MetaPoint, dtype: int64\n"
     ]
    },
    {
     "name": "stderr",
     "output_type": "stream",
     "text": [
      "C:\\Users\\Simon\\Documents\\GitHub\\wpoc\\code\\bga_function.py:254: UserWarning: set_ticklabels() should only be used with a fixed number of ticks, i.e. after set_ticks() or using a FixedLocator.\n",
      "  ax.set_yticklabels(selected_data['PlayerName'],      # Set labels again\n"
     ]
    },
    {
     "name": "stdout",
     "output_type": "stream",
     "text": [
      "../assets/images/ranking/KingdominoRanking.png\n",
      "Kingdomino\n",
      "🥇Poland(200) 🥈Spain(100) 🥉Canada(85)\n",
      "Region\n",
      "Poland                      200\n",
      "Spain                       100\n",
      "Canada                       85\n",
      "United States of America     75\n",
      "France                       60\n",
      "Name: MetaPoint, dtype: int64\n"
     ]
    },
    {
     "name": "stderr",
     "output_type": "stream",
     "text": [
      "C:\\Users\\Simon\\Documents\\GitHub\\wpoc\\code\\bga_function.py:254: UserWarning: set_ticklabels() should only be used with a fixed number of ticks, i.e. after set_ticks() or using a FixedLocator.\n",
      "  ax.set_yticklabels(selected_data['PlayerName'],      # Set labels again\n"
     ]
    },
    {
     "name": "stdout",
     "output_type": "stream",
     "text": [
      "../assets/images/ranking/CarcassonneRanking.png\n",
      "Carcassonne\n",
      "🥇Philippines(150) 🥈Mexico(100) 🥉Taiwan(100)\n",
      "Region\n",
      "Philippines    150\n",
      "Mexico         100\n",
      "Taiwan         100\n",
      "Japan           85\n",
      "Thailand        75\n",
      "Name: MetaPoint, dtype: int64\n"
     ]
    },
    {
     "name": "stderr",
     "output_type": "stream",
     "text": [
      "C:\\Users\\Simon\\Documents\\GitHub\\wpoc\\code\\bga_function.py:254: UserWarning: set_ticklabels() should only be used with a fixed number of ticks, i.e. after set_ticks() or using a FixedLocator.\n",
      "  ax.set_yticklabels(selected_data['PlayerName'],      # Set labels again\n"
     ]
    },
    {
     "name": "stdout",
     "output_type": "stream",
     "text": [
      "../assets/images/ranking/AzulRanking.png\n",
      "Azul\n",
      "🥇China(245) 🥈France(110) 🥉Philippines(100)\n",
      "Region\n",
      "China          245\n",
      "France         110\n",
      "Philippines    100\n",
      "Japan           85\n",
      "Australia       70\n",
      "Name: MetaPoint, dtype: int64\n"
     ]
    },
    {
     "name": "stderr",
     "output_type": "stream",
     "text": [
      "C:\\Users\\Simon\\Documents\\GitHub\\wpoc\\code\\bga_function.py:254: UserWarning: set_ticklabels() should only be used with a fixed number of ticks, i.e. after set_ticks() or using a FixedLocator.\n",
      "  ax.set_yticklabels(selected_data['PlayerName'],      # Set labels again\n"
     ]
    },
    {
     "name": "stdout",
     "output_type": "stream",
     "text": [
      "../assets/images/ranking/AllGamesRanking.png\n",
      "All Games\n",
      "🥇Japan(355) 🥈China(335) 🥉Philippines(275)\n",
      "Region\n",
      "Japan          355\n",
      "China          335\n",
      "Philippines    275\n",
      "France         270\n",
      "Hong Kong      245\n",
      "Name: MetaPoint, dtype: int64\n"
     ]
    },
    {
     "data": {
      "image/png": "[encoded data removed]",
      "text/plain": [
       "<Figure size 500x228.571 with 1 Axes>"
      ]
     },
     "metadata": {},
     "output_type": "display_data"
    },
    {
     "data": {
      "image/png": "[encoded data removed]",
      "text/plain": [
       "<Figure size 500x228.571 with 1 Axes>"
      ]
     },
     "metadata": {},
     "output_type": "display_data"
    },
    {
     "data": {
      "image/png": "[encoded data removed]",
      "text/plain": [
       "<Figure size 500x228.571 with 1 Axes>"
      ]
     },
     "metadata": {},
     "output_type": "display_data"
    },
    {
     "data": {
      "image/png": "[encoded data removed]",
      "text/plain": [
       "<Figure size 500x428.571 with 1 Axes>"
      ]
     },
     "metadata": {},
     "output_type": "display_data"
    },
    {
     "data": {
      "image/png": "[encoded data removed]",
      "text/plain": [
       "<Figure size 500x400 with 1 Axes>"
      ]
     },
     "metadata": {},
     "output_type": "display_data"
    },
    {
     "data": {
      "image/png": "[encoded data removed]",
      "text/plain": [
       "<Figure size 500x400 with 1 Axes>"
      ]
     },
     "metadata": {},
     "output_type": "display_data"
    },
    {
     "data": {
      "image/png": "[encoded data removed]",
      "text/plain": [
       "<Figure size 500x342.857 with 1 Axes>"
      ]
     },
     "metadata": {},
     "output_type": "display_data"
    },
    {
     "data": {
      "image/png": "[encoded data removed]",
      "text/plain": [
       "<Figure size 500x2228.57 with 1 Axes>"
      ]
     },
     "metadata": {},
     "output_type": "display_data"
    }
   ],
   "source": [
    "# after update the csv file, output the graph\n",
    "import bga_function  #(self-made functions)\n",
    "import time\n",
    "\n",
    "for GameName in ['Ticket to Ride', '7 Wonders','Splendor', 'Wingspan', 'Kingdomino','Carcassonne', 'Azul','All Games']:\n",
    "    # bga_function.PlayerRankingChart(GameName)\n",
    "    bga_function.PlayerRankingChart(GameName)\n",
    "\n",
    "    time.sleep(5)"
   ]
  },
  {
   "cell_type": "code",
   "execution_count": 297,
   "id": "afa003a9-57cf-481c-be06-498b29dd4043",
   "metadata": {},
   "outputs": [],
   "source": []
  },
  {
   "cell_type": "markdown",
   "id": "ed582a0d-bb67-4fc5-8f8e-251da695e318",
   "metadata": {
    "tags": []
   },
   "source": [
    "### possible new features\n"
   ]
  },
  {
   "cell_type": "code",
   "execution_count": 49,
   "id": "fdb58dd8-1355-4e2d-8c8b-51ae1bab8f63",
   "metadata": {},
   "outputs": [],
   "source": [
    "    game_data = data[data['game'] == GameName].sort_values(by='point', ascending=True)\n",
    "    acc_game_data = game_data.groupby('player')['point'].sum().sort_values(ascending=False)"
   ]
  },
  {
   "cell_type": "raw",
   "id": "1780bb03-0c34-4913-a7cb-b4199cb8085f",
   "metadata": {},
   "source": []
  },
  {
   "cell_type": "code",
   "execution_count": 51,
   "id": "8aed3a91-e030-41f1-8cd2-5ba1dd6e45ea",
   "metadata": {},
   "outputs": [
    {
     "data": {
      "text/html": [
       "<div>\n",
       "<style scoped>\n",
       "    .dataframe tbody tr th:only-of-type {\n",
       "        vertical-align: middle;\n",
       "    }\n",
       "\n",
       "    .dataframe tbody tr th {\n",
       "        vertical-align: top;\n",
       "    }\n",
       "\n",
       "    .dataframe thead th {\n",
       "        text-align: right;\n",
       "    }\n",
       "</style>\n",
       "<table border=\"1\" class=\"dataframe\">\n",
       "  <thead>\n",
       "    <tr style=\"text-align: right;\">\n",
       "      <th></th>\n",
       "      <th>game</th>\n",
       "      <th>edition</th>\n",
       "      <th>player</th>\n",
       "      <th>country</th>\n",
       "      <th>point</th>\n",
       "    </tr>\n",
       "  </thead>\n",
       "  <tbody>\n",
       "    <tr>\n",
       "      <th>143</th>\n",
       "      <td>All Games</td>\n",
       "      <td>Season 2</td>\n",
       "      <td>Didzou</td>\n",
       "      <td>France</td>\n",
       "      <td>10</td>\n",
       "    </tr>\n",
       "    <tr>\n",
       "      <th>46</th>\n",
       "      <td>All Games</td>\n",
       "      <td>Season 1</td>\n",
       "      <td>scarxo</td>\n",
       "      <td>Australia</td>\n",
       "      <td>10</td>\n",
       "    </tr>\n",
       "    <tr>\n",
       "      <th>47</th>\n",
       "      <td>All Games</td>\n",
       "      <td>Season 1</td>\n",
       "      <td>nya11</td>\n",
       "      <td>Japan</td>\n",
       "      <td>10</td>\n",
       "    </tr>\n",
       "    <tr>\n",
       "      <th>110</th>\n",
       "      <td>All Games</td>\n",
       "      <td>Season 2</td>\n",
       "      <td>craig_shoji</td>\n",
       "      <td>Japan</td>\n",
       "      <td>10</td>\n",
       "    </tr>\n",
       "    <tr>\n",
       "      <th>109</th>\n",
       "      <td>All Games</td>\n",
       "      <td>Season 2</td>\n",
       "      <td>Random_23</td>\n",
       "      <td>Ukraine</td>\n",
       "      <td>10</td>\n",
       "    </tr>\n",
       "    <tr>\n",
       "      <th>...</th>\n",
       "      <td>...</td>\n",
       "      <td>...</td>\n",
       "      <td>...</td>\n",
       "      <td>...</td>\n",
       "      <td>...</td>\n",
       "    </tr>\n",
       "    <tr>\n",
       "      <th>24</th>\n",
       "      <td>All Games</td>\n",
       "      <td>Season 1</td>\n",
       "      <td>cieciel</td>\n",
       "      <td>Poland</td>\n",
       "      <td>100</td>\n",
       "    </tr>\n",
       "    <tr>\n",
       "      <th>104</th>\n",
       "      <td>All Games</td>\n",
       "      <td>Season 2</td>\n",
       "      <td>Lichidakiller</td>\n",
       "      <td>Mexico</td>\n",
       "      <td>100</td>\n",
       "    </tr>\n",
       "    <tr>\n",
       "      <th>88</th>\n",
       "      <td>All Games</td>\n",
       "      <td>Season 1</td>\n",
       "      <td>Zenphy</td>\n",
       "      <td>Belgium</td>\n",
       "      <td>100</td>\n",
       "    </tr>\n",
       "    <tr>\n",
       "      <th>120</th>\n",
       "      <td>All Games</td>\n",
       "      <td>Season 2</td>\n",
       "      <td>kiki1234555</td>\n",
       "      <td>Hong Kong</td>\n",
       "      <td>100</td>\n",
       "    </tr>\n",
       "    <tr>\n",
       "      <th>16</th>\n",
       "      <td>All Games</td>\n",
       "      <td>Season 1</td>\n",
       "      <td>Kuya Boards</td>\n",
       "      <td>Philippines</td>\n",
       "      <td>100</td>\n",
       "    </tr>\n",
       "  </tbody>\n",
       "</table>\n",
       "<p>72 rows × 5 columns</p>\n",
       "</div>"
      ],
      "text/plain": [
       "          game   edition         player      country  point\n",
       "143  All Games  Season 2         Didzou       France     10\n",
       "46   All Games  Season 1         scarxo    Australia     10\n",
       "47   All Games  Season 1          nya11        Japan     10\n",
       "110  All Games  Season 2    craig_shoji        Japan     10\n",
       "109  All Games  Season 2      Random_23      Ukraine     10\n",
       "..         ...       ...            ...          ...    ...\n",
       "24   All Games  Season 1        cieciel       Poland    100\n",
       "104  All Games  Season 2  Lichidakiller       Mexico    100\n",
       "88   All Games  Season 1         Zenphy      Belgium    100\n",
       "120  All Games  Season 2    kiki1234555    Hong Kong    100\n",
       "16   All Games  Season 1    Kuya Boards  Philippines    100\n",
       "\n",
       "[72 rows x 5 columns]"
      ]
     },
     "execution_count": 51,
     "metadata": {},
     "output_type": "execute_result"
    }
   ],
   "source": [
    "game_data"
   ]
  },
  {
   "cell_type": "code",
   "execution_count": 3,
   "id": "3cdd30c8-3580-41e8-a2cf-224b7924fc76",
   "metadata": {},
   "outputs": [],
   "source": [
    "def PlayerRankingChart(GameName):\n",
    "    import pandas as pd\n",
    "    import numpy as np\n",
    "    import matplotlib.pyplot as plt\n",
    "\n",
    "    # Setup data\n",
    "    data = pd.read_csv('../assets/csv/result.csv')     \n",
    "    game_data = data[data['game'] == GameName].sort_values(by='point', ascending=True)\n",
    "    acc_game_data = game_data.groupby('player')['point'].sum().sort_values(ascending=False)\n",
    "    selected_data = pd.DataFrame({'player':acc_game_data.index, 'point':acc_game_data.values})    \n",
    "    selected_data[\"player.Upper\"] = selected_data[\"player\"].str.upper()\n",
    "    selected_data = selected_data.sort_values(['point', 'player.Upper'], ascending=[True,False])\n",
    "    \n",
    "    \n",
    "    \n",
    "    # Setup plot size.\n",
    "    # fig, ax = plt.subplots()\n",
    "    vertical_size = len(selected_data) / 3.5\n",
    "    fig, ax = plt.subplots(figsize=(5,vertical_size))\n",
    "    \n",
    "\n",
    "    # Create grid\n",
    "    # Zorder tells it which layer to put it on. We are setting this to 1 and our data to 2 so the grid is behind the data.\n",
    "    ax.grid(which=\"major\", axis='x', color='#758D99', alpha=0.6, zorder=1)\n",
    "\n",
    "    # Remove splines. Can be done one at a time or can slice with a list.\n",
    "    ax.spines[['top','right','bottom']].set_visible(False)\n",
    "\n",
    "    # Make left spine slightly thicker\n",
    "    ax.spines['left'].set_linewidth(1.1)\n",
    "    ax.margins(y=0)\n",
    "\n",
    "\n",
    "    # Plot data\n",
    "    ax.barh(selected_data['player'], selected_data['point'], color='#006BA2', zorder=2)\n",
    "\n",
    "    # Reformat x-axis tick labels\n",
    "    ax.xaxis.set_tick_params(labeltop=True,      # Put x-axis labels on top\n",
    "                             labelbottom=False,  # Set no x-axis labels on bottom\n",
    "                             bottom=False,       # Set no ticks on bottom\n",
    "                             labelsize=11,       # Set tick label size\n",
    "                             pad=-1)             # Lower tick labels a bit\n",
    "\n",
    "    # Reformat y-axis tick labels\n",
    "    ax.set_yticklabels(selected_data['player'],      # Set labels again\n",
    "                       ha = 'left')              # Set horizontal alignment to left\n",
    "    ax.yaxis.set_tick_params(pad=100,            # Pad tick labels so they don't go over y-axis\n",
    "                             labelsize=9,       # Set label size\n",
    "                             bottom=False)       # Set no ticks on bottom/left\n",
    "\n",
    "    # Add in title and subtitle\n",
    "    FigName = GameName.replace(\" \",\"\") + 'Ranking.png'\n",
    "    plt.savefig(FigName, transparent=True, bbox_inches='tight')\n",
    "    \n",
    "    top_country = game_data.groupby('country')['point'].sum().sort_values(ascending=False)\n",
    "    print(GameName,\" Region ranking: \", end='')\n",
    "    print(f'🥇{top_country.index[0]}({top_country.iloc[0]}) 🥈{top_country.index[1]}({top_country.iloc[1]}) 🥉{top_country.index[2]}({top_country.iloc[2]})')\n",
    "    print(top_country.head())\n",
    "\n",
    "    return None"
   ]
  },
  {
   "cell_type": "code",
   "execution_count": 71,
   "id": "bb24e17f-de33-4752-8cb4-29c47a13cee6",
   "metadata": {},
   "outputs": [
    {
     "name": "stderr",
     "output_type": "stream",
     "text": [
      "C:\\Users\\Simon\\AppData\\Local\\Temp\\ipykernel_10832\\4043380068.py:45: UserWarning: set_ticklabels() should only be used with a fixed number of ticks, i.e. after set_ticks() or using a FixedLocator.\n",
      "  ax.set_yticklabels(selected_data['player'],      # Set labels again\n"
     ]
    },
    {
     "name": "stdout",
     "output_type": "stream",
     "text": [
      "Wingspan  Region ranking: 🥇United States of America(160) 🥈Australia(100) 🥉Hong Kong(100)\n",
      "country\n",
      "United States of America    160\n",
      "Australia                   100\n",
      "Hong Kong                   100\n",
      "Peru                         60\n",
      "France                       50\n",
      "Name: point, dtype: int64\n"
     ]
    },
    {
     "data": {
      "image/png": "[encoded data removed]",
      "text/plain": [
       "<Figure size 500x428.571 with 1 Axes>"
      ]
     },
     "metadata": {},
     "output_type": "display_data"
    }
   ],
   "source": [
    "PlayerRankingChart('Wingspan')"
   ]
  },
  {
   "cell_type": "code",
   "execution_count": 43,
   "id": "95bc123f-be10-4546-8bad-a0a1b92700ee",
   "metadata": {},
   "outputs": [
    {
     "ename": "NameError",
     "evalue": "name 'PlayerRankingChart' is not defined",
     "output_type": "error",
     "traceback": [
      "\u001b[1;31m---------------------------------------------------------------------------\u001b[0m",
      "\u001b[1;31mNameError\u001b[0m                                 Traceback (most recent call last)",
      "Cell \u001b[1;32mIn[43], line 1\u001b[0m\n\u001b[1;32m----> 1\u001b[0m PlayerRankingChart(\u001b[38;5;124m'\u001b[39m\u001b[38;5;124mAll Games\u001b[39m\u001b[38;5;124m'\u001b[39m)\n",
      "\u001b[1;31mNameError\u001b[0m: name 'PlayerRankingChart' is not defined"
     ]
    }
   ],
   "source": [
    "PlayerRankingChart('All Games')"
   ]
  },
  {
   "cell_type": "code",
   "execution_count": 24,
   "id": "b9f03d79-ac06-4729-9b4c-06bc99743ae1",
   "metadata": {},
   "outputs": [
    {
     "data": {
      "text/plain": [
       "'../assets/t_CarcassonneWestern Pacific Ocean Cup • 3 players 1 winner - alpha_Elo_20240812130434.png'"
      ]
     },
     "execution_count": 24,
     "metadata": {},
     "output_type": "execute_result"
    }
   ],
   "source": [
    "new_image_file = '../assets/t_' + re.findall(\"assets/(.*)\",elo_file)[0]\n",
    "'../assets/t_' + re.findall(\"assets/(.*)\",elo_file)[0]"
   ]
  },
  {
   "cell_type": "code",
   "execution_count": 22,
   "id": "ddf5ab01-2d42-46e6-822a-f375ffa9c1e6",
   "metadata": {},
   "outputs": [
    {
     "data": {
      "text/plain": [
       "'../assets/CarcassonneWestern Pacific Ocean Cup • 3 players 1 winner - alpha_Elo_20240812130434.png'"
      ]
     },
     "execution_count": 22,
     "metadata": {},
     "output_type": "execute_result"
    }
   ],
   "source": [
    "elo_file"
   ]
  },
  {
   "cell_type": "code",
   "execution_count": 26,
   "id": "8a8ad871-c38e-400c-be2a-ddfc998f4f9c",
   "metadata": {},
   "outputs": [
    {
     "data": {
      "text/plain": [
       "[('../',\n",
       "  'CarcassonneWestern Pacific Ocean Cup • 3 players 1 winner - alpha_Elo_20240812130434.png')]"
      ]
     },
     "execution_count": 26,
     "metadata": {},
     "output_type": "execute_result"
    }
   ],
   "source": [
    "re.findall(\"(.*)assets/(.*)\",elo_file)"
   ]
  },
  {
   "cell_type": "code",
   "execution_count": 31,
   "id": "3db8effa-c6bd-4dbd-a758-db5a8b22bdce",
   "metadata": {},
   "outputs": [
    {
     "data": {
      "text/plain": [
       "'../assets'"
      ]
     },
     "execution_count": 31,
     "metadata": {},
     "output_type": "execute_result"
    }
   ],
   "source": [
    "re.findall(\"(.*assets)/(.*)\",elo_file)[0][0]"
   ]
  },
  {
   "cell_type": "code",
   "execution_count": 30,
   "id": "9b00920b-7392-4ba3-8db9-a9748ef73d75",
   "metadata": {},
   "outputs": [
    {
     "data": {
      "text/plain": [
       "'CarcassonneWestern Pacific Ocean Cup • 3 players 1 winner - alpha_Elo_20240812130434.png'"
      ]
     },
     "execution_count": 30,
     "metadata": {},
     "output_type": "execute_result"
    }
   ],
   "source": [
    "re.findall(\"(.*assets)/(.*)\",elo_file)[0][1]"
   ]
  },
  {
   "cell_type": "code",
   "execution_count": 35,
   "id": "a0df686c-6b38-4af8-8b66-95c949601c3b",
   "metadata": {},
   "outputs": [
    {
     "data": {
      "text/plain": [
       "'../assets/t_CarcassonneWestern Pacific Ocean Cup • 3 players 1 winner - alpha_Elo_20240812130434.png'"
      ]
     },
     "execution_count": 35,
     "metadata": {},
     "output_type": "execute_result"
    }
   ],
   "source": [
    "re.findall(\"(.*assets)/(.*)\",elo_file)[0][0] + \\\n",
    "'/t_' + \\\n",
    "re.findall(\"(.*assets)/(.*)\",elo_file)[0][1]"
   ]
  },
  {
   "cell_type": "code",
   "execution_count": 36,
   "id": "e2a66925-86b2-4fcb-b908-ab535619dd9b",
   "metadata": {},
   "outputs": [
    {
     "data": {
      "text/plain": [
       "'../assets/t_CarcassonneWestern Pacific Ocean Cup • 3 players 1 winner - alpha_Elo_20240812130434.png'"
      ]
     },
     "execution_count": 36,
     "metadata": {},
     "output_type": "execute_result"
    }
   ],
   "source": [
    "'../assets/t_CarcassonneWestern Pacific Ocean Cup • 3 players 1 winner - alpha_Elo_20240812130434.png'"
   ]
  },
  {
   "cell_type": "code",
   "execution_count": 37,
   "id": "1260bddc-90af-43f4-a05a-ec610f594ad9",
   "metadata": {},
   "outputs": [],
   "source": [
    "def transparent_background(image_file):\n",
    "    from PIL import Image\n",
    "    img = Image.open(image_file)\n",
    "    rgba = img.convert('RGBA')\n",
    "    datas = rgba.getdata()\n",
    "\n",
    "    newData = []\n",
    "\n",
    "    for item in datas:\n",
    "\n",
    "       if item[0] == 255 and item[1] == 255 and item[2] == 255:\n",
    "           newData.append((255, 255, 255, 0))\n",
    "       else:\n",
    "          newData.append(item)\n",
    "    rgba.putdata(newData)\n",
    "    \n",
    "    # new_image_file = 't_' + image_file  \n",
    "    # new_image_file = '../assets/t_' + re.findall(\"assets/(.*)\",image_file)[0]\n",
    "    new_image_file = re.findall(\"(.*assets)/(.*)\",elo_file)[0][0] + \\\n",
    "    '/t_' + \\\n",
    "    re.findall(\"(.*assets)/(.*)\",elo_file)[0][1]\n",
    "    \n",
    "    rgba.save(new_image_file, 'PNG')\n",
    "    print('output image:', new_image_file)\n",
    "    return new_image_file\n",
    "\n"
   ]
  },
  {
   "cell_type": "code",
   "execution_count": 42,
   "id": "a0b64b71-817c-48d0-9917-e1d8cdfcdfcc",
   "metadata": {},
   "outputs": [
    {
     "name": "stdout",
     "output_type": "stream",
     "text": [
      "output image: ../assets/t_CarcassonneWestern Pacific Ocean Cup • 3 players 1 winner - alpha_Elo_20240812131004.png\n"
     ]
    },
    {
     "data": {
      "text/plain": [
       "'../assets/t_CarcassonneWestern Pacific Ocean Cup • 3 players 1 winner - alpha_Elo_20240812131004.png'"
      ]
     },
     "execution_count": 42,
     "metadata": {},
     "output_type": "execute_result"
    }
   ],
   "source": [
    "transparent_background(elo_file)"
   ]
  },
  {
   "cell_type": "code",
   "execution_count": null,
   "id": "9a0ac5a0-883b-4336-b3a0-e70ab8812697",
   "metadata": {},
   "outputs": [],
   "source": []
  }
 ],
 "metadata": {
  "kernelspec": {
   "display_name": "Python 3 (ipykernel)",
   "language": "python",
   "name": "python3"
  },
  "language_info": {
   "codemirror_mode": {
    "name": "ipython",
    "version": 3
   },
   "file_extension": ".py",
   "mimetype": "text/x-python",
   "name": "python",
   "nbconvert_exporter": "python",
   "pygments_lexer": "ipython3",
   "version": "3.12.0"
  }
 },
 "nbformat": 4,
 "nbformat_minor": 5
}
