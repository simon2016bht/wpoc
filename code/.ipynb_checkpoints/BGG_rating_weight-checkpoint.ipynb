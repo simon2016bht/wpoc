{
 "cells": [
  {
   "cell_type": "code",
   "execution_count": 16,
   "id": "d01c1f4f-8cdb-42ae-9c6a-9375f50c61de",
   "metadata": {},
   "outputs": [],
   "source": [
    "import bga_function #self-made functions\n",
    "from bs4 import BeautifulSoup\n",
    "import requests\n",
    "from selenium import webdriver\n",
    "from selenium.webdriver.common.by import By\n",
    "import time\n",
    "import statistics\n",
    "import datetime\n",
    "import re\n",
    "import pandas as pd\n",
    "import numpy as np\n",
    "# import holoviews as hv\n",
    "# import hvplot.pandas # adds hvplot method to pandas objects\n",
    "from selenium.webdriver.common.action_chains import ActionChains\n",
    "from contextlib import redirect_stdout\n",
    "# from bokeh.plotting import show\n",
    "# from bokeh.io import export_png\n",
    "import os\n",
    "\n",
    "# from selenium.webdriver.chrome.options import Options\n",
    "\n"
   ]
  },
  {
   "cell_type": "code",
   "execution_count": 17,
   "id": "f494d841-973d-4e00-9f3a-a31d50e97319",
   "metadata": {},
   "outputs": [],
   "source": [
    "service = webdriver.ChromeService(executable_path = r'C:\\Users\\Simon\\Documents\\GitHub\\wpoc\\code\\chromedriver.exe')\n",
    "# service = webdriver.ChromeService(executable_path = r'C:\\Users\\chia-jung.s\\Documents\\GitHub\\wpoc\\code\\chromedriver.exe')\n",
    "driver = webdriver.Chrome(service=service)"
   ]
  },
  {
   "cell_type": "code",
   "execution_count": 18,
   "id": "b609b6e5-eb6a-452f-a449-fc69f595bcd1",
   "metadata": {},
   "outputs": [],
   "source": [
    "waiting_time = 5\n",
    "# a file which comtains rows of links of BGA games\n",
    "data = pd.read_csv('bgg.csv')     \n",
    "links = data['BGG']"
   ]
  },
  {
   "cell_type": "code",
   "execution_count": 31,
   "id": "3ba5c5a3-0cf5-47af-a767-a454833301d8",
   "metadata": {},
   "outputs": [
    {
     "data": {
      "text/plain": [
       "989    https://boardgamegeek.com/boardgame/21804/trad...\n",
       "990    https://boardgamegeek.com/boardgame/293348/fle...\n",
       "991    https://boardgamegeek.com/boardgameexpansion/2...\n",
       "992    https://boardgamegeek.com/boardgame/2392/maste...\n",
       "993    https://boardgamegeek.com/boardgame/382035/cursed\n",
       "994    https://boardgamegeek.com/boardgame/434146/gun...\n",
       "995    https://boardgamegeek.com/boardgame/273910/sta...\n",
       "996    https://boardgamegeek.com/boardgame/421233/cav...\n",
       "997    https://boardgamegeek.com/boardgame/164127/car...\n",
       "998     https://boardgamegeek.com/boardgame/71836/onirim\n",
       "Name: BGG, dtype: object"
      ]
     },
     "execution_count": 31,
     "metadata": {},
     "output_type": "execute_result"
    }
   ],
   "source": [
    "links[989:]"
   ]
  },
  {
   "cell_type": "code",
   "execution_count": 61,
   "id": "5ea7f3a9-7507-4b42-8fcc-c5d7154d24e5",
   "metadata": {},
   "outputs": [
    {
     "name": "stdout",
     "output_type": "stream",
     "text": [
      "index year url rating rating_std own weight plr best_#plr\n",
      "1 | https://boardgamegeek.com/boardgame/21804/traditional-card-games | 6.9 | 1.80 | 3,104 | 1.91 | 1+ — Best: 1+ | NA\n",
      "2 | https://boardgamegeek.com/boardgame/293348/flesh-and-blood | 7.9 | 1.77 | 1,653 | 3.53 | 2+ — Best: 2 | 2019\n"
     ]
    }
   ],
   "source": [
    "print(\"index year url rating rating_std own weight plr best_#plr\")\n",
    "\n",
    "for index, i in enumerate(links[989:991]):\n",
    "\n",
    "# for i in links[1:]:\n",
    "    # GamePage = i\n",
    "    driver.get(i+'/stats')\n",
    "    weight = driver.find_element(By.XPATH,'//*[@id=\"mainbody\"]/div[2]/div/div[2]/div[2]/ng-include/div/ng-include/div/div[2]/div[2]/div[2]/gameplay-module/div/div/ul/li[4]/p/span[2]/span[1]').text\n",
    "    rating = driver.find_element(By.XPATH,'//*[@id=\"mainbody\"]/div[2]/div/div[2]/div[2]/ng-include/div/ng-include/div/div[2]/div[2]/div[1]/div/div[1]/overall-rating/div/div/a/span[1]').text\n",
    "    players = driver.find_element(By.XPATH,'//*[@id=\"mainbody\"]/div[2]/div/div[2]/div[2]/ng-include/div/ng-include/div/div[2]/div[2]/div[2]/gameplay-module/div/div/ul/li[1]/div').text[11:]\n",
    "    rating_std = driver.find_element(By.XPATH,'//*[@id=\"mainbody\"]/div[2]/div/div[2]/div[2]/ng-include/div/div/ui-view/ui-view/div/div/div[2]/div/div[2]/div[1]/div[2]/ul/li[3]/div[2]').text\n",
    "    own = driver.find_element(By.XPATH,'//*[@id=\"mainbody\"]/div[2]/div/div[2]/div[2]/ng-include/div/div/ui-view/ui-view/div/div/div[2]/div/div[3]/div[2]/div[2]/ul/li[1]/div[2]/a').text\n",
    "    \n",
    "    try:\n",
    "        year = driver.find_element(By.XPATH,'//*[@id=\"mainbody\"]/div[2]/div/div[2]/div[2]/ng-include/div/ng-include/div/div[2]/div[2]/div[1]/div/div[2]/hgroup/h1/span').text.strip('()')\n",
    "    except:\n",
    "        year = 'NA'\n",
    "    \n",
    "    print(index+1,\"|\", i, \"|\",rating, \"|\",rating_std,\"|\",own, \"|\",weight,\"|\",players, \"|\",year)\n",
    "    time.sleep(waiting_time)\n",
    "    \n",
    "    "
   ]
  },
  {
   "cell_type": "code",
   "execution_count": 54,
   "id": "ba21d669-eb73-4427-8d64-c56c1f39eecc",
   "metadata": {},
   "outputs": [
    {
     "data": {
      "text/plain": [
       "'-3000'"
      ]
     },
     "execution_count": 54,
     "metadata": {},
     "output_type": "execute_result"
    }
   ],
   "source": [
    "driver.find_element(By.XPATH,'//*[@id=\"mainbody\"]/div[2]/div/div[2]/div[2]/ng-include/div/ng-include/div/div[2]/div[2]/div[1]/div/div[2]/hgroup/h1/span').text"
   ]
  },
  {
   "cell_type": "code",
   "execution_count": 60,
   "id": "89a2722c-fcc1-4131-ab5a-65a88afba646",
   "metadata": {},
   "outputs": [
    {
     "data": {
      "text/plain": [
       "'2+ — Best: 2'"
      ]
     },
     "execution_count": 60,
     "metadata": {},
     "output_type": "execute_result"
    }
   ],
   "source": [
    "driver.find_element(By.XPATH,'//*[@id=\"mainbody\"]/div[2]/div/div[2]/div[2]/ng-include/div/ng-include/div/div[2]/div[2]/div[2]/gameplay-module/div/div/ul/li[1]/div').text[11:]"
   ]
  },
  {
   "cell_type": "code",
   "execution_count": null,
   "id": "3c8489a7-47c8-4740-8f06-4beaa21666b5",
   "metadata": {},
   "outputs": [],
   "source": []
  }
 ],
 "metadata": {
  "kernelspec": {
   "display_name": "Python 3 (ipykernel)",
   "language": "python",
   "name": "python3"
  },
  "language_info": {
   "codemirror_mode": {
    "name": "ipython",
    "version": 3
   },
   "file_extension": ".py",
   "mimetype": "text/x-python",
   "name": "python",
   "nbconvert_exporter": "python",
   "pygments_lexer": "ipython3",
   "version": "3.12.0"
  }
 },
 "nbformat": 4,
 "nbformat_minor": 5
}
