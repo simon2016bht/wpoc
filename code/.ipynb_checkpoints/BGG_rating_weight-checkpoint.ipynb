{
 "cells": [
  {
   "cell_type": "code",
   "execution_count": 1,
   "id": "d01c1f4f-8cdb-42ae-9c6a-9375f50c61de",
   "metadata": {},
   "outputs": [],
   "source": [
    "import bga_function #self-made functions\n",
    "from bs4 import BeautifulSoup\n",
    "import requests\n",
    "from selenium import webdriver\n",
    "from selenium.webdriver.common.by import By\n",
    "import time\n",
    "import statistics\n",
    "import datetime\n",
    "import re\n",
    "import pandas as pd\n",
    "import numpy as np\n",
    "# import holoviews as hv\n",
    "# import hvplot.pandas # adds hvplot method to pandas objects\n",
    "from selenium.webdriver.common.action_chains import ActionChains\n",
    "from contextlib import redirect_stdout\n",
    "# from bokeh.plotting import show\n",
    "# from bokeh.io import export_png\n",
    "import os\n",
    "\n",
    "# from selenium.webdriver.chrome.options import Options\n",
    "\n"
   ]
  },
  {
   "cell_type": "code",
   "execution_count": 2,
   "id": "f494d841-973d-4e00-9f3a-a31d50e97319",
   "metadata": {},
   "outputs": [],
   "source": [
    "service = webdriver.ChromeService(executable_path = r'C:\\Users\\Simon\\Documents\\GitHub\\wpoc\\code\\chromedriver.exe')\n",
    "# service = webdriver.ChromeService(executable_path = r'C:\\Users\\chia-jung.s\\Documents\\GitHub\\wpoc\\code\\chromedriver.exe')\n",
    "driver = webdriver.Chrome(service=service)"
   ]
  },
  {
   "cell_type": "code",
   "execution_count": 3,
   "id": "b609b6e5-eb6a-452f-a449-fc69f595bcd1",
   "metadata": {},
   "outputs": [],
   "source": [
    "waiting_time = 5\n",
    "# a file which comtains rows of links of BGA games\n",
    "data = pd.read_csv('bgg.csv')     \n",
    "links = data['link']"
   ]
  },
  {
   "cell_type": "code",
   "execution_count": 9,
   "id": "5ea7f3a9-7507-4b42-8fcc-c5d7154d24e5",
   "metadata": {},
   "outputs": [
    {
     "name": "stdout",
     "output_type": "stream",
     "text": [
      "index year url rating rating_std own weight plr best_#plr\n",
      "1 (2024) https://boardgamegeek.com/boardgame/414317/harmonies \t 8.0 1.19 25,168 2.00 Community: 1–4 — Best: 2–3\n",
      "2 (2021) https://boardgamegeek.com/boardgame/342942/ark-nova \t 8.5 1.39 75,673 3.78 Community: 1–3 — Best: 2\n",
      "3 (2019) https://boardgamegeek.com/boardgame/266192/wingspan \t 8.0 1.37 161,861 2.47 Community: 1–4 — Best: 3\n",
      "4 (2017) https://boardgamegeek.com/boardgame/230802/azul \t 7.7 1.16 163,441 1.77 Community: 2–4 — Best: 2\n",
      "5 (2023) https://boardgamegeek.com/boardgame/391163/forest-shuffle \t 7.7 1.26 23,458 2.20 Community: 2–4 — Best: 2\n",
      "6 (2016) https://boardgamegeek.com/boardgame/167791/terraforming-mars \t 8.4 1.43 147,928 3.27 Community: 1–4 — Best: 3\n",
      "7 (2023) https://boardgamegeek.com/boardgame/373106/sky-team \t 8.2 1.13 40,497 2.05 Community: 2 — Best: 2\n",
      "8 (2024) https://boardgamegeek.com/boardgame/418059/seti-search-for-extraterrestrial-intelligence \t 8.4 1.26 13,188 3.77 Community: 1–4 — Best: 3\n",
      "9 (2023) https://boardgamegeek.com/boardgame/385761/faraway \t 7.6 1.16 19,182 1.88 Community: 2–5 — Best: 2–3\n",
      "10 (2022) https://boardgamegeek.com/boardgame/366013/heat-pedal-to-the-metal \t 8.0 1.33 46,212 2.19 Community: 1–6 — Best: 5–6\n"
     ]
    }
   ],
   "source": [
    "print(\"index year url rating rating_std own weight plr best_#plr\")\n",
    "\n",
    "for index, i in enumerate(links[0:10]):\n",
    "\n",
    "# for i in links[1:]:\n",
    "    # GamePage = i\n",
    "    driver.get(i+'/stats')\n",
    "    weight = driver.find_element(By.XPATH,'//*[@id=\"mainbody\"]/div[2]/div/div[2]/div[2]/ng-include/div/ng-include/div/div[2]/div[2]/div[2]/gameplay-module/div/div/ul/li[4]/p/span[2]/span[1]').text\n",
    "    rating = driver.find_element(By.XPATH,'//*[@id=\"mainbody\"]/div[2]/div/div[2]/div[2]/ng-include/div/ng-include/div/div[2]/div[2]/div[1]/div/div[1]/overall-rating/div/div/a/span[1]').text\n",
    "    players = driver.find_element(By.XPATH,'//*[@id=\"mainbody\"]/div[2]/div/div[2]/div[2]/ng-include/div/ng-include/div/div[2]/div[2]/div[2]/gameplay-module/div/div/ul/li[1]/div').text\n",
    "    rating_std = driver.find_element(By.XPATH,'//*[@id=\"mainbody\"]/div[2]/div/div[2]/div[2]/ng-include/div/div/ui-view/ui-view/div/div/div[2]/div/div[2]/div[1]/div[2]/ul/li[3]/div[2]').text\n",
    "    own = driver.find_element(By.XPATH,'//*[@id=\"mainbody\"]/div[2]/div/div[2]/div[2]/ng-include/div/div/ui-view/ui-view/div/div/div[2]/div/div[3]/div[2]/div[2]/ul/li[1]/div[2]/a').text\n",
    "    year = driver.find_element(By.XPATH,'//*[@id=\"mainbody\"]/div[2]/div/div[2]/div[2]/ng-include/div/ng-include/div/div[2]/div[2]/div[1]/div/div[2]/hgroup/h1/span').text\n",
    "    \n",
    "    \n",
    "    print(index+1, i,\"\\t\", rating, rating_std,own, weight,players, year)\n",
    "    time.sleep(waiting_time)\n",
    "    \n",
    "    "
   ]
  },
  {
   "cell_type": "code",
   "execution_count": 7,
   "id": "7e99c9bb-e203-4810-8368-bab7a8a8b902",
   "metadata": {},
   "outputs": [],
   "source": [
    "# /html/body/div[2]/main/div[2]/div/div[2]/div[2]/ng-include/div/ng-include/div/div[2]/div[2]/div[1]/div/div[2]/hgroup/h1/span\n",
    "\n",
    "\n"
   ]
  },
  {
   "cell_type": "code",
   "execution_count": null,
   "id": "f88a1e03-b937-48d6-b9cd-3997338a363a",
   "metadata": {},
   "outputs": [],
   "source": []
  }
 ],
 "metadata": {
  "kernelspec": {
   "display_name": "Python 3 (ipykernel)",
   "language": "python",
   "name": "python3"
  },
  "language_info": {
   "codemirror_mode": {
    "name": "ipython",
    "version": 3
   },
   "file_extension": ".py",
   "mimetype": "text/x-python",
   "name": "python",
   "nbconvert_exporter": "python",
   "pygments_lexer": "ipython3",
   "version": "3.12.0"
  }
 },
 "nbformat": 4,
 "nbformat_minor": 5
}
