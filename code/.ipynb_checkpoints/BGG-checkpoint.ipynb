{
 "cells": [
  {
   "cell_type": "code",
   "execution_count": 1,
   "id": "d01c1f4f-8cdb-42ae-9c6a-9375f50c61de",
   "metadata": {},
   "outputs": [],
   "source": [
    "import bga_function  #self-made functions\n",
    "from bs4 import BeautifulSoup\n",
    "import requests\n",
    "from selenium import webdriver\n",
    "from selenium.webdriver.common.by import By\n",
    "import time\n",
    "import statistics\n",
    "import datetime\n",
    "import re\n",
    "import pandas as pd\n",
    "import numpy as np\n",
    "# import holoviews as hv\n",
    "# import hvplot.pandas # adds hvplot method to pandas objects\n",
    "from selenium.webdriver.common.action_chains import ActionChains\n",
    "from contextlib import redirect_stdout\n",
    "# from bokeh.plotting import show\n",
    "# from bokeh.io import export_png\n",
    "import os\n",
    "\n",
    "# from selenium.webdriver.chrome.options import Options\n",
    "\n"
   ]
  },
  {
   "cell_type": "code",
   "execution_count": 3,
   "id": "f494d841-973d-4e00-9f3a-a31d50e97319",
   "metadata": {},
   "outputs": [],
   "source": [
    "service = webdriver.ChromeService(executable_path = r'C:\\Users\\Simon\\Documents\\GitHub\\wpoc\\code\\chromedriver.exe')\n",
    "# service = webdriver.ChromeService(executable_path = r'C:\\Users\\chia-jung.s\\Documents\\GitHub\\wpoc\\code\\chromedriver.exe')\n",
    "driver = webdriver.Chrome(service=service)"
   ]
  },
  {
   "cell_type": "code",
   "execution_count": 4,
   "id": "b609b6e5-eb6a-452f-a449-fc69f595bcd1",
   "metadata": {},
   "outputs": [],
   "source": [
    "waiting_time = 5\n",
    "# a file which comtains rows of links of BGA games\n",
    "data = pd.read_csv('bgg.csv')     \n",
    "links = data['link']"
   ]
  },
  {
   "cell_type": "code",
   "execution_count": 11,
   "id": "5ea7f3a9-7507-4b42-8fcc-c5d7154d24e5",
   "metadata": {},
   "outputs": [
    {
     "name": "stdout",
     "output_type": "stream",
     "text": [
      "https://boardgamegeek.com/boardgame/373106/sky-team\n"
     ]
    }
   ],
   "source": [
    "for i in links[:1]:\n",
    "    # GamePage = i\n",
    "    print(i)\n",
    "    driver.get(i)\n",
    "    time.sleep(waiting_time)\n",
    "    # driver.get(i)\n",
    "    # time.sleep(waiting_time)"
   ]
  },
  {
   "cell_type": "code",
   "execution_count": null,
   "id": "2cc2a418-6ef7-44fe-bb1d-8da775183a6f",
   "metadata": {},
   "outputs": [],
   "source": [
    "//*[@id=\"mainbody\"]/div[2]/div/div[2]/div[2]/ng-include/div/ng-include/div/div[2]/div[2]/div[2]/gameplay-module/div/div/ul/li[4]/p/span[2]/span[1]\n",
    "/html/body/div[2]/main/div[2]/div/div[2]/div[2]/ng-include/div/ng-include/div/div[2]/div[2]/div[2]/gameplay-module/div/div/ul/li[4]/p/span[2]/span[1]"
   ]
  }
 ],
 "metadata": {
  "kernelspec": {
   "display_name": "Python 3 (ipykernel)",
   "language": "python",
   "name": "python3"
  },
  "language_info": {
   "codemirror_mode": {
    "name": "ipython",
    "version": 3
   },
   "file_extension": ".py",
   "mimetype": "text/x-python",
   "name": "python",
   "nbconvert_exporter": "python",
   "pygments_lexer": "ipython3",
   "version": "3.12.0"
  }
 },
 "nbformat": 4,
 "nbformat_minor": 5
}
