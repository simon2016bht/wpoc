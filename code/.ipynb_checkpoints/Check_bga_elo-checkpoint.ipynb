{
 "cells": [
  {
   "cell_type": "code",
   "execution_count": 1,
   "id": "d9232a1e-9607-4b22-8089-79993c6b41eb",
   "metadata": {},
   "outputs": [],
   "source": [
    "import bga_function  #(self-made functions)\n",
    "from bs4 import BeautifulSoup\n",
    "import requests\n",
    "from selenium import webdriver\n",
    "from selenium.webdriver.common.by import By\n",
    "import time\n",
    "import statistics\n",
    "import datetime\n",
    "import re\n",
    "import pandas as pd\n",
    "import numpy as np\n",
    "# import holoviews as hv\n",
    "# import hvplot.pandas # adds hvplot method to pandas objects\n",
    "from selenium.webdriver.common.action_chains import ActionChains\n",
    "from contextlib import redirect_stdout\n",
    "from bokeh.plotting import show\n",
    "from bokeh.io import export_png\n",
    "import os\n",
    "\n",
    "# from selenium.webdriver.chrome.options import Options\n",
    "\n"
   ]
  },
  {
   "cell_type": "code",
   "execution_count": 2,
   "id": "77c6a156-4aae-4d9f-87b1-735d5ea7a049",
   "metadata": {},
   "outputs": [],
   "source": [
    "# service = webdriver.ChromeService(executable_path = r'C:\\Users\\chia-jung.s\\Documents\\GitHub\\wpoc\\code\\chromedriver.exe')\n",
    "# driver = webdriver.Chrome(service=service)\n",
    "# service = webdriver.ChromeService(executable_path = r'C:\\Users\\Simon\\Documents\\GitHub\\wpoc\\code\\chromedriver.exe')\n",
    "\n",
    "service = webdriver.ChromeService(executable_path = r'C:\\Users\\chia-jung.s\\Documents\\GitHub\\wpoc\\code\\chromedriver.exe')\n",
    "driver = webdriver.Chrome(service=service)\n"
   ]
  },
  {
   "cell_type": "code",
   "execution_count": null,
   "id": "8e6712f8-226e-4481-95b3-850d6e908e0a",
   "metadata": {},
   "outputs": [
    {
     "name": "stdout",
     "output_type": "stream",
     "text": [
      "542 https://boardgamearena.com/gamepanel?game=valeofeternity\n",
      "564 https://boardgamearena.com/gamepanel?game=sevenwonders\n",
      "604 https://boardgamearena.com/gamepanel?game=earth\n",
      "639 https://boardgamearena.com/gamepanel?game=raceforthegalaxy\n",
      "650 https://boardgamearena.com/gamepanel?game=theisleofcats\n"
     ]
    }
   ],
   "source": [
    "waiting_time = 5\n",
    "# a file which comtains rows of links of BGA games\n",
    "data = pd.read_csv('bga.csv')     \n",
    "links = data['link']\n",
    "\n",
    "for i in links:\n",
    "    # GamePage = i\n",
    "    driver.get(i)\n",
    "    time.sleep(waiting_time)\n",
    "\n",
    "    if driver.find_elements(By.XPATH, \"//*[contains(text(), 'rankings have been disabled')]\"):\n",
    "        print(\"other\", i)\n",
    "    else:\n",
    "        driver.find_elements(By.CLASS_NAME, 'bga-collapse-icon--reversed')[0].click()\n",
    "        driver.find_elements(By.CLASS_NAME, 'bga-button-dropdown-item')[1].click()\n",
    "        time.sleep(waiting_time)\n",
    "        NumberRank = 3\n",
    "        TopElo = driver.find_elements(By.CLASS_NAME, 'bga-ranking-entry')[NumberRank-1].find_elements(By.CLASS_NAME, 'bga-elo-label')[0].text\n",
    "        print(TopElo, i)\n",
    "print(\"finished\")    "
   ]
  },
  {
   "cell_type": "code",
   "execution_count": null,
   "id": "8568c148-00af-4ecc-bf24-b59f49de0edd",
   "metadata": {},
   "outputs": [],
   "source": []
  },
  {
   "cell_type": "code",
   "execution_count": null,
   "id": "244ead7c-b1b5-4bb7-96b0-cfdde08a91e4",
   "metadata": {},
   "outputs": [],
   "source": []
  },
  {
   "cell_type": "code",
   "execution_count": null,
   "id": "6861f0e9-c418-4bbb-a4ae-1b0304ced556",
   "metadata": {},
   "outputs": [],
   "source": []
  }
 ],
 "metadata": {
  "kernelspec": {
   "display_name": "Python 3 (ipykernel)",
   "language": "python",
   "name": "python3"
  },
  "language_info": {
   "codemirror_mode": {
    "name": "ipython",
    "version": 3
   },
   "file_extension": ".py",
   "mimetype": "text/x-python",
   "name": "python",
   "nbconvert_exporter": "python",
   "pygments_lexer": "ipython3",
   "version": "3.12.7"
  }
 },
 "nbformat": 4,
 "nbformat_minor": 5
}
