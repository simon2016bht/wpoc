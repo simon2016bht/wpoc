{
 "cells": [
  {
   "cell_type": "code",
   "execution_count": 33,
   "id": "d9232a1e-9607-4b22-8089-79993c6b41eb",
   "metadata": {},
   "outputs": [],
   "source": [
    "import bga_function  #(self-made functions)\n",
    "from bs4 import BeautifulSoup\n",
    "import requests\n",
    "from selenium import webdriver\n",
    "from selenium.webdriver.common.by import By\n",
    "import time\n",
    "import statistics\n",
    "import datetime\n",
    "import re\n",
    "import pandas as pd\n",
    "import numpy as np\n",
    "# import holoviews as hv\n",
    "# import hvplot.pandas # adds hvplot method to pandas objects\n",
    "from selenium.webdriver.common.action_chains import ActionChains\n",
    "from contextlib import redirect_stdout\n",
    "from bokeh.plotting import show\n",
    "from bokeh.io import export_png\n",
    "import os\n",
    "\n",
    "# from selenium.webdriver.chrome.options import Options\n",
    "\n"
   ]
  },
  {
   "cell_type": "code",
   "execution_count": 36,
   "id": "77c6a156-4aae-4d9f-87b1-735d5ea7a049",
   "metadata": {},
   "outputs": [],
   "source": [
    "service = webdriver.ChromeService(executable_path = r'C:\\Users\\chia-jung.s\\Documents\\GitHub\\wpoc\\code\\chromedriver.exe')\n",
    "driver = webdriver.Chrome(service=service)\n"
   ]
  },
  {
   "cell_type": "code",
   "execution_count": 128,
   "id": "307972ee-9fdf-4ae7-8fae-275e5a352127",
   "metadata": {},
   "outputs": [],
   "source": [
    "waiting_time = 4\n",
    "data = pd.read_csv('bga.csv')     \n",
    "links = data['link']"
   ]
  },
  {
   "cell_type": "code",
   "execution_count": null,
   "id": "8e6712f8-226e-4481-95b3-850d6e908e0a",
   "metadata": {},
   "outputs": [
    {
     "name": "stdout",
     "output_type": "stream",
     "text": [
      "389 https://boardgamearena.com/gamepanel?game=dudo\n",
      "366 https://boardgamearena.com/gamepanel?game=zooloretto\n"
     ]
    }
   ],
   "source": [
    "for i in links[109:]:\n",
    "    # GamePage = i\n",
    "    driver.get(i)\n",
    "    time.sleep(waiting_time)\n",
    "\n",
    "    if driver.find_elements(By.XPATH, \"//*[contains(text(), 'rankings have been disabled')]\"):\n",
    "        print(\"n/a\", i)\n",
    "    else:\n",
    "        driver.find_elements(By.CLASS_NAME, 'bga-collapse-icon--reversed')[0].click()\n",
    "        driver.find_elements(By.CLASS_NAME, 'bga-button-dropdown-item')[1].click()\n",
    "        time.sleep(waiting_time)\n",
    "        NumberRank = 3\n",
    "        TopElo = driver.find_elements(By.CLASS_NAME, 'bga-ranking-entry')[NumberRank-1].find_elements(By.CLASS_NAME, 'bga-elo-label')[0].text\n",
    "        print(TopElo, i)\n",
    "print(\"finished\")    "
   ]
  },
  {
   "cell_type": "code",
   "execution_count": null,
   "id": "8568c148-00af-4ecc-bf24-b59f49de0edd",
   "metadata": {},
   "outputs": [],
   "source": []
  }
 ],
 "metadata": {
  "kernelspec": {
   "display_name": "Python 3 (ipykernel)",
   "language": "python",
   "name": "python3"
  },
  "language_info": {
   "codemirror_mode": {
    "name": "ipython",
    "version": 3
   },
   "file_extension": ".py",
   "mimetype": "text/x-python",
   "name": "python",
   "nbconvert_exporter": "python",
   "pygments_lexer": "ipython3",
   "version": "3.12.7"
  }
 },
 "nbformat": 4,
 "nbformat_minor": 5
}
