{
 "cells": [
  {
   "cell_type": "code",
   "execution_count": 1,
   "id": "9189e42c-fa1a-4112-b25a-9cd5ecf20c78",
   "metadata": {},
   "outputs": [],
   "source": [
    "import bga_function  #(self-made functions)\n",
    "from bs4 import BeautifulSoup\n",
    "import requests\n",
    "from selenium import webdriver\n",
    "from selenium.webdriver.common.by import By\n",
    "import time\n",
    "import statistics\n",
    "import datetime\n",
    "import re\n",
    "import pandas as pd\n",
    "import numpy as np\n",
    "# import holoviews as hv\n",
    "# import hvplot.pandas # adds hvplot method to pandas objects\n",
    "from selenium.webdriver.common.action_chains import ActionChains\n",
    "from contextlib import redirect_stdout\n",
    "from bokeh.plotting import show\n",
    "from bokeh.io import export_png\n",
    "import os\n",
    "\n",
    "# from selenium.webdriver.chrome.options import Options\n",
    "\n"
   ]
  },
  {
   "cell_type": "code",
   "execution_count": 2,
   "id": "08b23166-e737-40e7-9848-ade4bf8eecfc",
   "metadata": {},
   "outputs": [],
   "source": [
    "# service = webdriver.FirefoxService(executable_path = r'C:\\Users\\Simon\\app\\bin\\geckodriver.exe')\n",
    "# driver = webdriver.Firefox(service=service)\n",
    "# \"C:\\Users\\Simon\\Documents\\GitHub\\wpoc\\code\\chromedriver.exe\"\n",
    "service = webdriver.ChromeService(executable_path = r'C:\\Users\\Simon\\Documents\\GitHub\\wpoc\\code\\chromedriver.exe')\n",
    "# service = webdriver.ChromeService(executable_path = r'C:\\Users\\chia-jung.s\\Documents\\GitHub\\wpoc\\code\\chromedriver.exe')\n",
    "driver = webdriver.Chrome(service=service)\n",
    "# # log-in  qxxxaxxx 1xxx1xxx \n"
   ]
  },
  {
   "cell_type": "code",
   "execution_count": 57,
   "id": "8be7519c-2906-4385-a740-41faab99059e",
   "metadata": {},
   "outputs": [],
   "source": [
    "driver.get(\"https://www.boardgamers.org/yearbook24/\")\n",
    "time.sleep(5)\n",
    "cells = driver.find_elements(By.TAG_NAME, \"td\")"
   ]
  },
  {
   "cell_type": "code",
   "execution_count": 58,
   "id": "bd87f5d4-49f2-421d-a7e4-10b05b402aa2",
   "metadata": {},
   "outputs": [],
   "source": [
    "\n",
    "links = []\n",
    "attendance = []\n",
    "for _ in cells:\n",
    "    try:\n",
    "        link = _.find_element(By.TAG_NAME, \"a\").get_attribute(\"href\")\n",
    "        # print(link)\n",
    "        links.append(link)\n",
    "    except:\n",
    "        None\n",
    "        # print(\"not found\")"
   ]
  },
  {
   "cell_type": "code",
   "execution_count": 59,
   "id": "289c856b-ad49-4c04-b5c7-37d2aad161e2",
   "metadata": {},
   "outputs": [],
   "source": [
    "links = links [11:]"
   ]
  },
  {
   "cell_type": "code",
   "execution_count": 60,
   "id": "bb238920-a9bc-4fac-8291-5c57b326ee66",
   "metadata": {},
   "outputs": [
    {
     "data": {
      "text/plain": [
       "['http://www.boardgamers.org/yearbook24/7WS.html',\n",
       " 'http://www.boardgamers.org/yearbook24/7WD.html',\n",
       " 'http://www.boardgamers.org/yearbook24/878.html',\n",
       " 'http://www.boardgamers.org/yearbook24/775.html',\n",
       " 'http://www.boardgamers.org/yearbook24/8XX.html',\n",
       " 'http://www.boardgamers.org/yearbook24/930.html',\n",
       " 'http://www.boardgamers.org/yearbook24/WAW.html',\n",
       " 'http://www.boardgamers.org/yearbook24/AoA.html',\n",
       " 'http://www.boardgamers.org/yearbook24/ACQ.html',\n",
       " 'http://www.boardgamers.org/yearbook24/ASZ.html',\n",
       " 'http://www.boardgamers.org/yearbook24/ADV.html',\n",
       " 'http://www.boardgamers.org/yearbook24/ACV.html',\n",
       " 'http://www.boardgamers.org/yearbook24/AFK.html',\n",
       " 'http://www.boardgamers.org/yearbook24/AOR.html',\n",
       " 'http://www.boardgamers.org/yearbook24/AGR.html',\n",
       " 'http://www.boardgamers.org/yearbook24/ABN.html',\n",
       " 'http://www.boardgamers.org/yearbook24/ALH.html',\n",
       " 'http://www.boardgamers.org/yearbook24/AMR.html',\n",
       " 'http://www.boardgamers.org/yearbook24/AKN.html',\n",
       " 'http://www.boardgamers.org/yearbook24/ASK.html',\n",
       " 'http://www.boardgamers.org/yearbook24/ACS.html',\n",
       " 'http://www.boardgamers.org/yearbook24/ATS.html',\n",
       " 'http://www.boardgamers.org/yearbook24/AUC.html',\n",
       " 'http://www.boardgamers.org/yearbook24/AUT.html',\n",
       " 'http://www.boardgamers.org/yearbook24/AZL.html',\n",
       " 'http://www.boardgamers.org/yearbook24/B17.html',\n",
       " 'http://www.boardgamers.org/yearbook24/BCY.html',\n",
       " 'http://www.boardgamers.org/yearbook24/BFG.html',\n",
       " 'http://www.boardgamers.org/yearbook24/BAT.html',\n",
       " 'http://www.boardgamers.org/yearbook24/BAR.html',\n",
       " 'http://www.boardgamers.org/yearbook24/BSN.html',\n",
       " 'http://www.boardgamers.org/yearbook24/BWD.html',\n",
       " 'http://www.boardgamers.org/yearbook24/BKS.html',\n",
       " 'http://www.boardgamers.org/yearbook24/BRV.html',\n",
       " 'http://www.boardgamers.org/yearbook24/BXC.html',\n",
       " 'http://www.boardgamers.org/yearbook24/BRS.html',\n",
       " 'http://www.boardgamers.org/yearbook24/BKN.html',\n",
       " 'http://www.boardgamers.org/yearbook24/BRI.html',\n",
       " 'http://www.boardgamers.org/yearbook24/CNS.html',\n",
       " 'http://www.boardgamers.org/yearbook24/CAR.html',\n",
       " 'http://www.boardgamers.org/yearbook24/CAS.html',\n",
       " 'http://www.boardgamers.org/yearbook24/COB.html',\n",
       " 'http://www.boardgamers.org/yearbook24/CMK.html',\n",
       " 'http://www.boardgamers.org/yearbook24/CTN.html',\n",
       " 'http://www.boardgamers.org/yearbook24/C&K.html',\n",
       " 'http://www.boardgamers.org/yearbook24/CFR.html',\n",
       " 'http://www.boardgamers.org/yearbook24/CTR.html',\n",
       " 'http://www.boardgamers.org/yearbook24/CMS.html',\n",
       " 'http://www.boardgamers.org/yearbook24/CBC.html',\n",
       " 'http://www.boardgamers.org/yearbook24/CCN.html',\n",
       " 'http://www.boardgamers.org/yearbook24/CCS.html',\n",
       " 'http://www.boardgamers.org/yearbook24/CNC.html',\n",
       " 'http://www.boardgamers.org/yearbook24/CQP.html',\n",
       " 'http://www.boardgamers.org/yearbook24/CRK.html',\n",
       " 'http://www.boardgamers.org/yearbook24/DIP.html',\n",
       " 'http://www.boardgamers.org/yearbook24/DOM.html',\n",
       " 'http://www.boardgamers.org/yearbook24/DUN.html',\n",
       " 'http://www.boardgamers.org/yearbook24/DNI.html',\n",
       " 'http://www.boardgamers.org/yearbook24/EGZ.html',\n",
       " 'http://www.boardgamers.org/yearbook24/ELG.html',\n",
       " 'http://www.boardgamers.org/yearbook24/EPB.html',\n",
       " 'http://www.boardgamers.org/yearbook24/EIS.html',\n",
       " 'http://www.boardgamers.org/yearbook24/E&T.html',\n",
       " 'http://www.boardgamers.org/yearbook24/EVD.html',\n",
       " 'http://www.boardgamers.org/yearbook24/EVL.html',\n",
       " 'http://www.boardgamers.org/yearbook24/FI5.html',\n",
       " 'http://www.boardgamers.org/yearbook24/FIL.html',\n",
       " 'http://www.boardgamers.org/yearbook24/5TR.html',\n",
       " 'http://www.boardgamers.org/yearbook24/FBS.html',\n",
       " 'http://www.boardgamers.org/yearbook24/FTP.html',\n",
       " 'http://www.boardgamers.org/yearbook24/FDE.html',\n",
       " 'http://www.boardgamers.org/yearbook24/GXT.html',\n",
       " 'http://www.boardgamers.org/yearbook24/GSR.html',\n",
       " 'http://www.boardgamers.org/yearbook24/GCA.html',\n",
       " 'http://www.boardgamers.org/yearbook24/GWT.html',\n",
       " 'http://www.boardgamers.org/yearbook24/HRC.html',\n",
       " 'http://www.boardgamers.org/yearbook24/HET.html',\n",
       " 'http://www.boardgamers.org/yearbook24/HIS.html',\n",
       " 'http://www.boardgamers.org/yearbook24/HWD.html',\n",
       " 'http://www.boardgamers.org/yearbook24/IMS.html',\n",
       " 'http://www.boardgamers.org/yearbook24/ING.html',\n",
       " 'http://www.boardgamers.org/yearbook24/IOV.html',\n",
       " 'http://www.boardgamers.org/yearbook24/IVH.html',\n",
       " 'http://www.boardgamers.org/yearbook24/JAM.html',\n",
       " 'http://www.boardgamers.org/yearbook24/JCY.html',\n",
       " 'http://www.boardgamers.org/yearbook24/KOT.html',\n",
       " 'http://www.boardgamers.org/yearbook24/KRM.html',\n",
       " 'http://www.boardgamers.org/yearbook24/LAS.html',\n",
       " 'http://www.boardgamers.org/yearbook24/LLM.html',\n",
       " 'http://www.boardgamers.org/yearbook24/LID.html',\n",
       " 'http://www.boardgamers.org/yearbook24/LWD.html',\n",
       " 'http://www.boardgamers.org/yearbook24/LST.html',\n",
       " 'http://www.boardgamers.org/yearbook24/LRA.html',\n",
       " 'http://www.boardgamers.org/yearbook24/MMS.html',\n",
       " 'http://www.boardgamers.org/yearbook24/MBT.html',\n",
       " 'http://www.boardgamers.org/yearbook24/MED.html',\n",
       " 'http://www.boardgamers.org/yearbook24/M44.html',\n",
       " 'http://www.boardgamers.org/yearbook24/MOV.html',\n",
       " 'http://www.boardgamers.org/yearbook24/MMA.html',\n",
       " 'http://www.boardgamers.org/yearbook24/NAW.html',\n",
       " 'http://www.boardgamers.org/yearbook24/NVW.html',\n",
       " 'http://www.boardgamers.org/yearbook24/NVG.html',\n",
       " 'http://www.boardgamers.org/yearbook24/ORL.html',\n",
       " 'http://www.boardgamers.org/yearbook24/PZB.html',\n",
       " 'http://www.boardgamers.org/yearbook24/POG.html',\n",
       " 'http://www.boardgamers.org/yearbook24/PDT.html',\n",
       " 'http://www.boardgamers.org/yearbook24/PRC.html',\n",
       " 'http://www.boardgamers.org/yearbook24/PGD.html',\n",
       " 'http://www.boardgamers.org/yearbook24/PGF.html',\n",
       " 'http://www.boardgamers.org/yearbook24/PRO.html',\n",
       " 'http://www.boardgamers.org/yearbook24/QQK.html',\n",
       " 'http://www.boardgamers.org/yearbook24/RA!.html',\n",
       " 'http://www.boardgamers.org/yearbook24/RDG.html',\n",
       " 'http://www.boardgamers.org/yearbook24/RFG.html',\n",
       " 'http://www.boardgamers.org/yearbook24/ROW.html',\n",
       " 'http://www.boardgamers.org/yearbook24/ROR.html',\n",
       " 'http://www.boardgamers.org/yearbook24/RRY.html',\n",
       " 'http://www.boardgamers.org/yearbook24/ROT.html',\n",
       " 'http://www.boardgamers.org/yearbook24/RRR.html',\n",
       " 'http://www.boardgamers.org/yearbook24/SAG.html',\n",
       " 'http://www.boardgamers.org/yearbook24/SPG.html',\n",
       " 'http://www.boardgamers.org/yearbook24/SJN.html',\n",
       " 'http://www.boardgamers.org/yearbook24/SFR.html',\n",
       " 'http://www.boardgamers.org/yearbook24/SCY.html',\n",
       " 'http://www.boardgamers.org/yearbook24/SKG.html',\n",
       " 'http://www.boardgamers.org/yearbook24/SMW.html',\n",
       " 'http://www.boardgamers.org/yearbook24/SBS.html',\n",
       " 'http://www.boardgamers.org/yearbook24/SSP.html',\n",
       " 'http://www.boardgamers.org/yearbook24/SPD.html',\n",
       " 'http://www.boardgamers.org/yearbook24/SQL.html',\n",
       " 'http://www.boardgamers.org/yearbook24/SRM.html',\n",
       " 'http://www.boardgamers.org/yearbook24/QGB.html',\n",
       " 'http://www.boardgamers.org/yearbook24/SWR.html',\n",
       " 'http://www.boardgamers.org/yearbook24/SCC.html',\n",
       " 'http://www.boardgamers.org/yearbook24/STA.html',\n",
       " 'http://www.boardgamers.org/yearbook24/SOJ.html',\n",
       " 'http://www.boardgamers.org/yearbook24/SSB.html',\n",
       " 'http://www.boardgamers.org/yearbook24/TFM.html',\n",
       " 'http://www.boardgamers.org/yearbook24/TBE.html',\n",
       " 'http://www.boardgamers.org/yearbook24/TNW.html',\n",
       " 'http://www.boardgamers.org/yearbook24/TRC.html',\n",
       " 'http://www.boardgamers.org/yearbook24/AGE.html',\n",
       " 'http://www.boardgamers.org/yearbook24/THA.html',\n",
       " 'http://www.boardgamers.org/yearbook24/T&T.html',\n",
       " 'http://www.boardgamers.org/yearbook24/TTR.html',\n",
       " 'http://www.boardgamers.org/yearbook24/TTN.html',\n",
       " 'http://www.boardgamers.org/yearbook24/TT2.html',\n",
       " 'http://www.boardgamers.org/yearbook24/TTA.html',\n",
       " 'http://www.boardgamers.org/yearbook24/TAM.html',\n",
       " 'http://www.boardgamers.org/yearbook24/TWS.html',\n",
       " 'http://www.boardgamers.org/yearbook24/TWR.html',\n",
       " 'http://www.boardgamers.org/yearbook24/UNP.html',\n",
       " 'http://www.boardgamers.org/yearbook24/UPF.html',\n",
       " 'http://www.boardgamers.org/yearbook24/VSD.html',\n",
       " 'http://www.boardgamers.org/yearbook24/V19.html',\n",
       " 'http://www.boardgamers.org/yearbook24/VIP.html',\n",
       " 'http://www.boardgamers.org/yearbook24/VGQ.html',\n",
       " 'http://www.boardgamers.org/yearbook24/WCB.html',\n",
       " 'http://www.boardgamers.org/yearbook24/WAS.html',\n",
       " 'http://www.boardgamers.org/yearbook24/WOR.html',\n",
       " 'http://www.boardgamers.org/yearbook24/WWR.html',\n",
       " 'http://www.boardgamers.org/yearbook24/WAT.html',\n",
       " 'http://www.boardgamers.org/yearbook24/WNW.html',\n",
       " 'http://www.boardgamers.org/yearbook24/WPS.html',\n",
       " 'http://www.boardgamers.org/yearbook24/WSN.html',\n",
       " 'http://www.boardgamers.org/yearbook24/WSM.html']"
      ]
     },
     "execution_count": 60,
     "metadata": {},
     "output_type": "execute_result"
    }
   ],
   "source": [
    "links"
   ]
  },
  {
   "cell_type": "code",
   "execution_count": 61,
   "id": "97f812a2-1bc6-4a4a-b038-d6539d073855",
   "metadata": {},
   "outputs": [],
   "source": [
    "driver.get(links[0])\n"
   ]
  },
  {
   "cell_type": "code",
   "execution_count": 62,
   "id": "ec8f6cbc-3a06-4a58-a39c-6ea65785769b",
   "metadata": {},
   "outputs": [],
   "source": [
    "text = driver.find_elements(By.CLASS_NAME, \"winnerblack\")[0].find_elements(By.TAG_NAME, \"td\")[0].text\n"
   ]
  },
  {
   "cell_type": "code",
   "execution_count": 63,
   "id": "2af7e281-637e-4cca-b7d3-1276aef17852",
   "metadata": {},
   "outputs": [
    {
     "data": {
      "text/plain": [
       "'141'"
      ]
     },
     "execution_count": 63,
     "metadata": {},
     "output_type": "execute_result"
    }
   ],
   "source": [
    "attandance.append(text.split()[0])"
   ]
  },
  {
   "cell_type": "code",
   "execution_count": 90,
   "id": "1f9c340a-73b0-46f5-9009-8a5dfa63cee9",
   "metadata": {},
   "outputs": [],
   "source": [
    "attendance = []\n"
   ]
  },
  {
   "cell_type": "code",
   "execution_count": 91,
   "id": "f5a3a307-5a8f-4a56-aeae-1e733db6b80c",
   "metadata": {},
   "outputs": [
    {
     "data": {
      "text/plain": [
       "['http://www.boardgamers.org/yearbook24/7WS.html',\n",
       " 'http://www.boardgamers.org/yearbook24/7WD.html',\n",
       " 'http://www.boardgamers.org/yearbook24/878.html',\n",
       " 'http://www.boardgamers.org/yearbook24/775.html',\n",
       " 'http://www.boardgamers.org/yearbook24/8XX.html',\n",
       " 'http://www.boardgamers.org/yearbook24/930.html',\n",
       " 'http://www.boardgamers.org/yearbook24/WAW.html',\n",
       " 'http://www.boardgamers.org/yearbook24/AoA.html']"
      ]
     },
     "execution_count": 91,
     "metadata": {},
     "output_type": "execute_result"
    }
   ],
   "source": [
    "links[:8]"
   ]
  },
  {
   "cell_type": "code",
   "execution_count": null,
   "id": "04002ea0-8df8-4140-8b8b-27ca8a575caf",
   "metadata": {},
   "outputs": [],
   "source": [
    "\n",
    "for _ in links:\n",
    "    driver.get(_)\n",
    "    try:\n",
    "        text = driver.find_elements(By.CLASS_NAME, \"winnerblack\")[0].find_elements(By.TAG_NAME, \"td\")[0].text\n",
    "        attendance.append(text.split()[0])\n",
    "    except:\n",
    "        attendance.append(_)\n",
    "    \n",
    "    time.sleep(5)"
   ]
  },
  {
   "cell_type": "code",
   "execution_count": 84,
   "id": "b2e70777-4cdc-4d12-a95b-014863c5563e",
   "metadata": {},
   "outputs": [
    {
     "data": {
      "text/plain": [
       "16"
      ]
     },
     "execution_count": 84,
     "metadata": {},
     "output_type": "execute_result"
    }
   ],
   "source": [
    "len(attendance)"
   ]
  },
  {
   "cell_type": "code",
   "execution_count": 89,
   "id": "6e972d4b-b556-40f4-946b-ceb608c32ae1",
   "metadata": {},
   "outputs": [
    {
     "data": {
      "text/plain": [
       "['141', '141', '86', '19']"
      ]
     },
     "execution_count": 89,
     "metadata": {},
     "output_type": "execute_result"
    }
   ],
   "source": [
    "attandance"
   ]
  },
  {
   "cell_type": "code",
   "execution_count": 87,
   "id": "2f419641-3aff-476c-a6fe-966f79eb04b3",
   "metadata": {},
   "outputs": [
    {
     "data": {
      "text/plain": [
       "['15',\n",
       " '21',\n",
       " '44',\n",
       " '81',\n",
       " '1',\n",
       " '53',\n",
       " '28',\n",
       " '18',\n",
       " '18',\n",
       " '53',\n",
       " '43',\n",
       " '104',\n",
       " '37',\n",
       " '119',\n",
       " '12',\n",
       " '66']"
      ]
     },
     "execution_count": 87,
     "metadata": {},
     "output_type": "execute_result"
    }
   ],
   "source": [
    "attendance"
   ]
  },
  {
   "cell_type": "code",
   "execution_count": 74,
   "id": "5b1d3ee3-50e4-4293-b446-411b3701fb99",
   "metadata": {},
   "outputs": [
    {
     "data": {
      "text/plain": [
       "'15 Players'"
      ]
     },
     "execution_count": 74,
     "metadata": {},
     "output_type": "execute_result"
    }
   ],
   "source": [
    "driver.find_elements(By.CLASS_NAME, \"center.laurelists\")[0].find_elements(By.TAG_NAME, \"td\")[0].text"
   ]
  },
  {
   "cell_type": "code",
   "execution_count": null,
   "id": "58e76c87-00da-4a02-88b2-8c9e45911953",
   "metadata": {},
   "outputs": [],
   "source": []
  }
 ],
 "metadata": {
  "kernelspec": {
   "display_name": "Python 3 (ipykernel)",
   "language": "python",
   "name": "python3"
  },
  "language_info": {
   "codemirror_mode": {
    "name": "ipython",
    "version": 3
   },
   "file_extension": ".py",
   "mimetype": "text/x-python",
   "name": "python",
   "nbconvert_exporter": "python",
   "pygments_lexer": "ipython3",
   "version": "3.12.0"
  }
 },
 "nbformat": 4,
 "nbformat_minor": 5
}
