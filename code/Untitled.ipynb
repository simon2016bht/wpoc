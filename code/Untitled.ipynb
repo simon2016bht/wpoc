{
 "cells": [
  {
   "cell_type": "code",
   "execution_count": 1,
   "id": "9189e42c-fa1a-4112-b25a-9cd5ecf20c78",
   "metadata": {},
   "outputs": [],
   "source": [
    "import bga_function  #(self-made functions)\n",
    "from bs4 import BeautifulSoup\n",
    "import requests\n",
    "from selenium import webdriver\n",
    "from selenium.webdriver.common.by import By\n",
    "import time\n",
    "import statistics\n",
    "import datetime\n",
    "import re\n",
    "import pandas as pd\n",
    "import numpy as np\n",
    "# import holoviews as hv\n",
    "# import hvplot.pandas # adds hvplot method to pandas objects\n",
    "from selenium.webdriver.common.action_chains import ActionChains\n",
    "from contextlib import redirect_stdout\n",
    "from bokeh.plotting import show\n",
    "from bokeh.io import export_png\n",
    "import os\n",
    "\n",
    "# from selenium.webdriver.chrome.options import Options\n",
    "\n"
   ]
  },
  {
   "cell_type": "code",
   "execution_count": 2,
   "id": "08b23166-e737-40e7-9848-ade4bf8eecfc",
   "metadata": {},
   "outputs": [],
   "source": [
    "# service = webdriver.FirefoxService(executable_path = r'C:\\Users\\Simon\\app\\bin\\geckodriver.exe')\n",
    "# driver = webdriver.Firefox(service=service)\n",
    "# \"C:\\Users\\Simon\\Documents\\GitHub\\wpoc\\code\\chromedriver.exe\"\n",
    "service = webdriver.ChromeService(executable_path = r'C:\\Users\\Simon\\Documents\\GitHub\\wpoc\\code\\chromedriver.exe')\n",
    "# service = webdriver.ChromeService(executable_path = r'C:\\Users\\chia-jung.s\\Documents\\GitHub\\wpoc\\code\\chromedriver.exe')\n",
    "driver = webdriver.Chrome(service=service)\n",
    "# # log-in  qxxxaxxx 1xxx1xxx \n"
   ]
  },
  {
   "cell_type": "code",
   "execution_count": 57,
   "id": "8be7519c-2906-4385-a740-41faab99059e",
   "metadata": {},
   "outputs": [],
   "source": [
    "driver.get(\"https://www.boardgamers.org/yearbook24/\")\n",
    "time.sleep(5)\n",
    "cells = driver.find_elements(By.TAG_NAME, \"td\")"
   ]
  },
  {
   "cell_type": "code",
   "execution_count": 58,
   "id": "bd87f5d4-49f2-421d-a7e4-10b05b402aa2",
   "metadata": {},
   "outputs": [],
   "source": [
    "links = []\n",
    "for _ in cells:\n",
    "    try:\n",
    "        link = _.find_element(By.TAG_NAME, \"a\").get_attribute(\"href\")\n",
    "        # print(link)\n",
    "        links.append(link)\n",
    "    except:\n",
    "        None\n",
    "        # print(\"not found\")"
   ]
  },
  {
   "cell_type": "code",
   "execution_count": 59,
   "id": "289c856b-ad49-4c04-b5c7-37d2aad161e2",
   "metadata": {},
   "outputs": [],
   "source": [
    "links = links [11:]\n",
    "links"
   ]
  },
  {
   "cell_type": "code",
   "execution_count": null,
   "id": "bb238920-a9bc-4fac-8291-5c57b326ee66",
   "metadata": {},
   "outputs": [],
   "source": []
  },
  {
   "cell_type": "code",
   "execution_count": null,
   "id": "992d4368-6842-40da-a164-34c376f65bda",
   "metadata": {},
   "outputs": [],
   "source": []
  },
  {
   "cell_type": "code",
   "execution_count": 108,
   "id": "1f9c340a-73b0-46f5-9009-8a5dfa63cee9",
   "metadata": {},
   "outputs": [],
   "source": [
    "att1 = []\n",
    "att2 = []"
   ]
  },
  {
   "cell_type": "code",
   "execution_count": 109,
   "id": "e21e1032-2608-47ed-8bc6-8b3aa2bc58d3",
   "metadata": {},
   "outputs": [],
   "source": [
    "# len(attendance)"
   ]
  },
  {
   "cell_type": "code",
   "execution_count": 110,
   "id": "f5a3a307-5a8f-4a56-aeae-1e733db6b80c",
   "metadata": {},
   "outputs": [
    {
     "data": {
      "text/plain": [
       "['http://www.boardgamers.org/yearbook24/WPS.html',\n",
       " 'http://www.boardgamers.org/yearbook24/WSN.html',\n",
       " 'http://www.boardgamers.org/yearbook24/WSM.html']"
      ]
     },
     "execution_count": 110,
     "metadata": {},
     "output_type": "execute_result"
    }
   ],
   "source": [
    "links[-3:]"
   ]
  },
  {
   "cell_type": "code",
   "execution_count": 111,
   "id": "04002ea0-8df8-4140-8b8b-27ca8a575caf",
   "metadata": {},
   "outputs": [],
   "source": [
    "\n",
    "for _ in links[-3:]:\n",
    "    driver.get(_)\n",
    "    try:\n",
    "        text = driver.find_elements(By.CLASS_NAME, \"winnerblack\")[0].find_elements(By.TAG_NAME, \"td\")[0].text\n",
    "        att1.append(text.split()[0])\n",
    "    except:\n",
    "        att1.append(\"\")\n",
    "\n",
    "    try:\n",
    "        text = driver.find_elements(By.CLASS_NAME, \"center.laurelists\")[0].find_elements(By.TAG_NAME, \"td\")[0].text\n",
    "        att2.append(text.split()[0])\n",
    "    except:\n",
    "        att2.append(\"\")   \n",
    "        \n",
    "        \n",
    "    \n",
    "    time.sleep(3)"
   ]
  },
  {
   "cell_type": "code",
   "execution_count": null,
   "id": "b2e70777-4cdc-4d12-a95b-014863c5563e",
   "metadata": {},
   "outputs": [],
   "source": []
  },
  {
   "cell_type": "code",
   "execution_count": 118,
   "id": "58e76c87-00da-4a02-88b2-8c9e45911953",
   "metadata": {},
   "outputs": [
    {
     "name": "stdout",
     "output_type": "stream",
     "text": [
      "http://www.boardgamers.org/yearbook24/7WS.html,,29\n",
      "http://www.boardgamers.org/yearbook24/7WD.html,175,\n",
      "http://www.boardgamers.org/yearbook24/878.html,,33\n"
     ]
    }
   ],
   "source": [
    "for i in range(len(att1)):\n",
    "    print(f'{links[i]},{att1[i]},{att2[i]}')"
   ]
  },
  {
   "cell_type": "code",
   "execution_count": null,
   "id": "01e42701-76fa-4ed3-bdf0-391b772f78c8",
   "metadata": {},
   "outputs": [],
   "source": []
  }
 ],
 "metadata": {
  "kernelspec": {
   "display_name": "Python 3 (ipykernel)",
   "language": "python",
   "name": "python3"
  },
  "language_info": {
   "codemirror_mode": {
    "name": "ipython",
    "version": 3
   },
   "file_extension": ".py",
   "mimetype": "text/x-python",
   "name": "python",
   "nbconvert_exporter": "python",
   "pygments_lexer": "ipython3",
   "version": "3.12.0"
  }
 },
 "nbformat": 4,
 "nbformat_minor": 5
}
