{
 "cells": [
  {
   "cell_type": "code",
   "execution_count": 1,
   "id": "0c8f934d-e934-4764-8591-9e88c05a22c1",
   "metadata": {},
   "outputs": [],
   "source": [
    "from selenium import webdriver\n",
    "from selenium.webdriver.common.by import By\n",
    "from selenium.webdriver.common.action_chains import ActionChains\n",
    "import time\n",
    "import statistics\n",
    "import datetime\n",
    "import re\n",
    "import pandas as pd\n",
    "import numpy as np\n",
    "from contextlib import redirect_stdout\n",
    "# from bokeh.plotting import show\n",
    "# from bokeh.io import export_png\n",
    "import os\n",
    "from IPython.display import Image, display\n",
    "from IPython.display import HTML\n",
    "\n",
    "waiting_time = 2"
   ]
  },
  {
   "cell_type": "code",
   "execution_count": 2,
   "id": "b8276eaa-4119-4c1a-b34c-b0aaa2caa4e5",
   "metadata": {},
   "outputs": [],
   "source": [
    "# service = webdriver.ChromeService(executable_path = r'C:\\Users\\chia-jung.s\\Documents\\GitHub\\wpoc\\code\\chromedriver.exe')\n",
    "service = webdriver.ChromeService(executable_path = r'C:\\Users\\Simon\\Documents\\GitHub\\wpoc\\code\\chromedriver.exe')\n",
    "\n",
    "driver = webdriver.Chrome(service=service)\n",
    "\n",
    "\n",
    "# service = webdriver.FirefoxService(executable_path = r'C:\\Users\\Simon\\app\\bin\\geckodriver.exe')\n",
    "# driver = webdriver.Firefox(service=service)\n",
    "driver.get(\"https://lolm.qq.com/act/a20220818raider/index.html\")\n",
    "time.sleep(waiting_time)\n",
    "positions = [\n",
    "'/html/body/div[1]/div[2]/div[3]/div[2]/a[5]',\n",
    "'/html/body/div[1]/div[2]/div[3]/div[2]/a[3]',\n",
    "'/html/body/div[1]/div[2]/div[3]/div[2]/a[2]', \n",
    "'/html/body/div[1]/div[2]/div[3]/div[2]/a[1]',\n",
    "'/html/body/div[1]/div[2]/div[3]/div[2]/a[4]'\n",
    "]"
   ]
  },
  {
   "cell_type": "code",
   "execution_count": null,
   "id": "866ccddc-148d-4ca5-8525-64f23d63a09b",
   "metadata": {},
   "outputs": [],
   "source": []
  },
  {
   "cell_type": "code",
   "execution_count": null,
   "id": "17c35be2-8aab-4cb6-a848-2d049ec7338f",
   "metadata": {},
   "outputs": [],
   "source": []
  },
  {
   "cell_type": "code",
   "execution_count": 3,
   "id": "d45f5335-e039-4137-93d7-3dc12d2b7590",
   "metadata": {},
   "outputs": [
    {
     "data": {
      "text/html": [
       "<img src=\"https://game.gtimg.cn/images/lgamem/act/lrlib/img/HeadIcon/H_S_10080.png\" width=\"25\" style=\"display:inline;\"> \"['1', '时光守护者', '53.32%', '5.17%', '40.81%']\""
      ],
      "text/plain": [
       "<IPython.core.display.HTML object>"
      ]
     },
     "metadata": {},
     "output_type": "display_data"
    },
    {
     "data": {
      "text/html": [
       "<img src=\"https://game.gtimg.cn/images/lgamem/act/lrlib/img/HeadIcon/H_S_10033.png\" width=\"25\" style=\"display:inline;\"> \"['2', '蒸汽机器人', '53.19%', '11.56%', '3.52%']\""
      ],
      "text/plain": [
       "<IPython.core.display.HTML object>"
      ]
     },
     "metadata": {},
     "output_type": "display_data"
    },
    {
     "data": {
      "text/html": [
       "<img src=\"https://game.gtimg.cn/images/lgamem/act/lrlib/img/HeadIcon/H_S_10007.png\" width=\"25\" style=\"display:inline;\"> \"['3', '天启者', '52.22%', '6.16%', '0.39%']\""
      ],
      "text/plain": [
       "<IPython.core.display.HTML object>"
      ]
     },
     "metadata": {},
     "output_type": "display_data"
    },
    {
     "data": {
      "text/html": [
       "<img src=\"https://game.gtimg.cn/images/lgamem/act/lrlib/img/HeadIcon/H_S_10034.png\" width=\"25\" style=\"display:inline;\"> \"['4', '星籁歌姬', '51.79%', '12.22%', '2.11%']\""
      ],
      "text/plain": [
       "<IPython.core.display.HTML object>"
      ]
     },
     "metadata": {},
     "output_type": "display_data"
    },
    {
     "data": {
      "text/html": [
       "<img src=\"https://game.gtimg.cn/images/lgamem/act/lrlib/img/HeadIcon/H_S_10091.png\" width=\"25\" style=\"display:inline;\"> \"['5', '唤潮鲛姬', '51.62%', '5.64%', '0.10%']\""
      ],
      "text/plain": [
       "<IPython.core.display.HTML object>"
      ]
     },
     "metadata": {},
     "output_type": "display_data"
    },
    {
     "data": {
      "text/html": [
       "<img src=\"https://game.gtimg.cn/images/lgamem/act/lrlib/img/HeadIcon/H_S_10097.png\" width=\"25\" style=\"display:inline;\"> \"['8', '众星之子', '51.37%', '5.15%', '1.49%']\""
      ],
      "text/plain": [
       "<IPython.core.display.HTML object>"
      ]
     },
     "metadata": {},
     "output_type": "display_data"
    },
    {
     "data": {
      "text/html": [
       "<img src=\"https://game.gtimg.cn/images/lgamem/act/lrlib/img/HeadIcon/H_S_10063.png\" width=\"25\" style=\"display:inline;\"> \"['10', '荆棘之兴', '50.90%', '7.88%', '38.20%']\""
      ],
      "text/plain": [
       "<IPython.core.display.HTML object>"
      ]
     },
     "metadata": {},
     "output_type": "display_data"
    },
    {
     "data": {
      "text/html": [
       "<img src=\"https://game.gtimg.cn/images/lgamem/act/lrlib/img/HeadIcon/H_S_10081.png\" width=\"25\" style=\"display:inline;\"> \"['11', '牛头酋长', '50.63%', '5.77%', '0.60%']\""
      ],
      "text/plain": [
       "<IPython.core.display.HTML object>"
      ]
     },
     "metadata": {},
     "output_type": "display_data"
    },
    {
     "data": {
      "text/html": [
       "<img src=\"https://game.gtimg.cn/images/lgamem/act/lrlib/img/HeadIcon/H_S_10044.png\" width=\"25\" style=\"display:inline;\"> \"['12', '曙光女神', '50.40%', '10.52%', '4.57%']\""
      ],
      "text/plain": [
       "<IPython.core.display.HTML object>"
      ]
     },
     "metadata": {},
     "output_type": "display_data"
    },
    {
     "name": "stdout",
     "output_type": "stream",
     "text": [
      "--------------------------------------------------\n"
     ]
    },
    {
     "data": {
      "text/html": [
       "<img src=\"https://game.gtimg.cn/images/lgamem/act/lrlib/img/HeadIcon/H_S_10028.png\" width=\"25\" style=\"display:inline;\"> \"['2', '堕落天使', '53.26%', '7.03%', '19.46%']\""
      ],
      "text/plain": [
       "<IPython.core.display.HTML object>"
      ]
     },
     "metadata": {},
     "output_type": "display_data"
    },
    {
     "data": {
      "text/html": [
       "<img src=\"https://game.gtimg.cn/images/lgamem/act/lrlib/img/HeadIcon/H_S_10038.png\" width=\"25\" style=\"display:inline;\"> \"['6', '九尾妖狐', '52.21%', '6.24%', '0.15%']\""
      ],
      "text/plain": [
       "<IPython.core.display.HTML object>"
      ]
     },
     "metadata": {},
     "output_type": "display_data"
    },
    {
     "data": {
      "text/html": [
       "<img src=\"https://game.gtimg.cn/images/lgamem/act/lrlib/img/HeadIcon/H_S_10122.png\" width=\"25\" style=\"display:inline;\"> \"['7', '邪恶小法师', '51.60%', '11.77%', '7.09%']\""
      ],
      "text/plain": [
       "<IPython.core.display.HTML object>"
      ]
     },
     "metadata": {},
     "output_type": "display_data"
    },
    {
     "data": {
      "text/html": [
       "<img src=\"https://game.gtimg.cn/images/lgamem/act/lrlib/img/HeadIcon/H_S_10119.png\" width=\"25\" style=\"display:inline;\"> \"['8', '复仇焰魂', '51.27%', '8.56%', '2.53%']\""
      ],
      "text/plain": [
       "<IPython.core.display.HTML object>"
      ]
     },
     "metadata": {},
     "output_type": "display_data"
    },
    {
     "data": {
      "text/html": [
       "<img src=\"https://game.gtimg.cn/images/lgamem/act/lrlib/img/HeadIcon/H_S_10109.png\" width=\"25\" style=\"display:inline;\"> \"['9', '冰霜女巫', '51.22%', '6.44%', '3.69%']\""
      ],
      "text/plain": [
       "<IPython.core.display.HTML object>"
      ]
     },
     "metadata": {},
     "output_type": "display_data"
    },
    {
     "data": {
      "text/html": [
       "<img src=\"https://game.gtimg.cn/images/lgamem/act/lrlib/img/HeadIcon/H_S_10144.png\" width=\"25\" style=\"display:inline;\"> \"['10', '奥术先驱', '51.20%', '6.61%', '1.66%']\""
      ],
      "text/plain": [
       "<IPython.core.display.HTML object>"
      ]
     },
     "metadata": {},
     "output_type": "display_data"
    },
    {
     "data": {
      "text/html": [
       "<img src=\"https://game.gtimg.cn/images/lgamem/act/lrlib/img/HeadIcon/H_S_10003.png\" width=\"25\" style=\"display:inline;\"> \"['12', '光辉女郎', '51.00%', '7.41%', '24.37%']\""
      ],
      "text/plain": [
       "<IPython.core.display.HTML object>"
      ]
     },
     "metadata": {},
     "output_type": "display_data"
    },
    {
     "data": {
      "text/html": [
       "<img src=\"https://game.gtimg.cn/images/lgamem/act/lrlib/img/HeadIcon/H_S_10024.png\" width=\"25\" style=\"display:inline;\"> \"['13', '暗黑元首', '50.94%', '7.78%', '5.80%']\""
      ],
      "text/plain": [
       "<IPython.core.display.HTML object>"
      ]
     },
     "metadata": {},
     "output_type": "display_data"
    },
    {
     "data": {
      "text/html": [
       "<img src=\"https://game.gtimg.cn/images/lgamem/act/lrlib/img/HeadIcon/H_S_10069.png\" width=\"25\" style=\"display:inline;\"> \"['17', '封魔剑魂', '50.41%', '6.21%', '5.96%']\""
      ],
      "text/plain": [
       "<IPython.core.display.HTML object>"
      ]
     },
     "metadata": {},
     "output_type": "display_data"
    },
    {
     "data": {
      "text/html": [
       "<img src=\"https://game.gtimg.cn/images/lgamem/act/lrlib/img/HeadIcon/H_S_10037.png\" width=\"25\" style=\"display:inline;\"> \"['18', '疾风剑豪', '50.35%', '13.26%', '8.52%']\""
      ],
      "text/plain": [
       "<IPython.core.display.HTML object>"
      ]
     },
     "metadata": {},
     "output_type": "display_data"
    },
    {
     "name": "stdout",
     "output_type": "stream",
     "text": [
      "--------------------------------------------------\n"
     ]
    },
    {
     "data": {
      "text/html": [
       "<img src=\"https://game.gtimg.cn/images/lgamem/act/lrlib/img/HeadIcon/H_S_10064.png\" width=\"25\" style=\"display:inline;\"> \"['2', '披甲龙龟', '55.13%', '11.99%', '4.92%']\""
      ],
      "text/plain": [
       "<IPython.core.display.HTML object>"
      ]
     },
     "metadata": {},
     "output_type": "display_data"
    },
    {
     "data": {
      "text/html": [
       "<img src=\"https://game.gtimg.cn/images/lgamem/act/lrlib/img/HeadIcon/H_S_10056.png\" width=\"25\" style=\"display:inline;\"> \"['9', '德玛西亚皇子', '51.71%', '5.61%', '0.22%']\""
      ],
      "text/plain": [
       "<IPython.core.display.HTML object>"
      ]
     },
     "metadata": {},
     "output_type": "display_data"
    },
    {
     "data": {
      "text/html": [
       "<img src=\"https://game.gtimg.cn/images/lgamem/act/lrlib/img/HeadIcon/H_S_10015.png\" width=\"25\" style=\"display:inline;\"> \"['10', '蛮族之王', '51.69%', '12.40%', '16.62%']\""
      ],
      "text/plain": [
       "<IPython.core.display.HTML object>"
      ]
     },
     "metadata": {},
     "output_type": "display_data"
    },
    {
     "data": {
      "text/html": [
       "<img src=\"https://game.gtimg.cn/images/lgamem/act/lrlib/img/HeadIcon/H_S_10072.png\" width=\"25\" style=\"display:inline;\"> \"['13', '枪火狂徒', '50.99%', '8.53%', '0.54%']\""
      ],
      "text/plain": [
       "<IPython.core.display.HTML object>"
      ]
     },
     "metadata": {},
     "output_type": "display_data"
    },
    {
     "data": {
      "text/html": [
       "<img src=\"https://game.gtimg.cn/images/lgamem/act/lrlib/img/HeadIcon/H_S_10151.png\" width=\"25\" style=\"display:inline;\"> \"['14', '永恒梦魇', '50.87%', '6.77%', '17.95%']\""
      ],
      "text/plain": [
       "<IPython.core.display.HTML object>"
      ]
     },
     "metadata": {},
     "output_type": "display_data"
    },
    {
     "data": {
      "text/html": [
       "<img src=\"https://game.gtimg.cn/images/lgamem/act/lrlib/img/HeadIcon/H_S_10016.png\" width=\"25\" style=\"display:inline;\"> \"['18', '德邦总管', '50.24%', '7.53%', '0.61%']\""
      ],
      "text/plain": [
       "<IPython.core.display.HTML object>"
      ]
     },
     "metadata": {},
     "output_type": "display_data"
    },
    {
     "name": "stdout",
     "output_type": "stream",
     "text": [
      "--------------------------------------------------\n"
     ]
    },
    {
     "data": {
      "text/html": [
       "<img src=\"https://game.gtimg.cn/images/lgamem/act/lrlib/img/HeadIcon/H_S_10041.png\" width=\"25\" style=\"display:inline;\"> \"['1', '正义天使', '57.25%', '13.93%', '5.81%']\""
      ],
      "text/plain": [
       "<IPython.core.display.HTML object>"
      ]
     },
     "metadata": {},
     "output_type": "display_data"
    },
    {
     "data": {
      "text/html": [
       "<img src=\"https://game.gtimg.cn/images/lgamem/act/lrlib/img/HeadIcon/H_S_10069.png\" width=\"25\" style=\"display:inline;\"> \"['3', '封魔剑魂', '52.54%', '11.05%', '5.96%']\""
      ],
      "text/plain": [
       "<IPython.core.display.HTML object>"
      ]
     },
     "metadata": {},
     "output_type": "display_data"
    },
    {
     "data": {
      "text/html": [
       "<img src=\"https://game.gtimg.cn/images/lgamem/act/lrlib/img/HeadIcon/H_S_10046.png\" width=\"25\" style=\"display:inline;\"> \"['4', '迅捷斥候', '52.48%', '5.67%', '13.64%']\""
      ],
      "text/plain": [
       "<IPython.core.display.HTML object>"
      ]
     },
     "metadata": {},
     "output_type": "display_data"
    },
    {
     "data": {
      "text/html": [
       "<img src=\"https://game.gtimg.cn/images/lgamem/act/lrlib/img/HeadIcon/H_S_10015.png\" width=\"25\" style=\"display:inline;\"> \"['11', '蛮族之王', '50.86%', '8.33%', '16.62%']\""
      ],
      "text/plain": [
       "<IPython.core.display.HTML object>"
      ]
     },
     "metadata": {},
     "output_type": "display_data"
    },
    {
     "name": "stdout",
     "output_type": "stream",
     "text": [
      "--------------------------------------------------\n"
     ]
    },
    {
     "data": {
      "text/html": [
       "<img src=\"https://game.gtimg.cn/images/lgamem/act/lrlib/img/HeadIcon/H_S_10060.png\" width=\"25\" style=\"display:inline;\"> \"['1', '英勇投弹手', '53.68%', '7.75%', '0.60%']\""
      ],
      "text/plain": [
       "<IPython.core.display.HTML object>"
      ]
     },
     "metadata": {},
     "output_type": "display_data"
    },
    {
     "data": {
      "text/html": [
       "<img src=\"https://game.gtimg.cn/images/lgamem/act/lrlib/img/HeadIcon/H_S_10079.png\" width=\"25\" style=\"display:inline;\"> \"['2', '寒冰射手', '52.19%', '7.77%', '0.14%']\""
      ],
      "text/plain": [
       "<IPython.core.display.HTML object>"
      ]
     },
     "metadata": {},
     "output_type": "display_data"
    },
    {
     "data": {
      "text/html": [
       "<img src=\"https://game.gtimg.cn/images/lgamem/act/lrlib/img/HeadIcon/H_S_10112.png\" width=\"25\" style=\"display:inline;\"> \"['3', '皮城女警', '52.03%', '24.30%', '1.75%']\""
      ],
      "text/plain": [
       "<IPython.core.display.HTML object>"
      ]
     },
     "metadata": {},
     "output_type": "display_data"
    },
    {
     "data": {
      "text/html": [
       "<img src=\"https://game.gtimg.cn/images/lgamem/act/lrlib/img/HeadIcon/H_S_10107.png\" width=\"25\" style=\"display:inline;\"> \"['4', '战争女神', '52.00%', '10.30%', '0.48%']\""
      ],
      "text/plain": [
       "<IPython.core.display.HTML object>"
      ]
     },
     "metadata": {},
     "output_type": "display_data"
    },
    {
     "data": {
      "text/html": [
       "<img src=\"https://game.gtimg.cn/images/lgamem/act/lrlib/img/HeadIcon/H_S_10051.png\" width=\"25\" style=\"display:inline;\"> \"['5', '逆羽', '51.33%', '8.47%', '0.38%']\""
      ],
      "text/plain": [
       "<IPython.core.display.HTML object>"
      ]
     },
     "metadata": {},
     "output_type": "display_data"
    },
    {
     "data": {
      "text/html": [
       "<img src=\"https://game.gtimg.cn/images/lgamem/act/lrlib/img/HeadIcon/H_S_10022.png\" width=\"25\" style=\"display:inline;\"> \"['6', '戏命师', '51.24%', '11.59%', '0.25%']\""
      ],
      "text/plain": [
       "<IPython.core.display.HTML object>"
      ]
     },
     "metadata": {},
     "output_type": "display_data"
    },
    {
     "data": {
      "text/html": [
       "<img src=\"https://game.gtimg.cn/images/lgamem/act/lrlib/img/HeadIcon/H_S_10066.png\" width=\"25\" style=\"display:inline;\"> \"['7', '赏金猎人', '51.10%', '21.48%', '5.37%']\""
      ],
      "text/plain": [
       "<IPython.core.display.HTML object>"
      ]
     },
     "metadata": {},
     "output_type": "display_data"
    },
    {
     "data": {
      "text/html": [
       "<img src=\"https://game.gtimg.cn/images/lgamem/act/lrlib/img/HeadIcon/H_S_10104.png\" width=\"25\" style=\"display:inline;\"> \"['8', '沙漠玫瑰', '50.76%', '14.31%', '8.74%']\""
      ],
      "text/plain": [
       "<IPython.core.display.HTML object>"
      ]
     },
     "metadata": {},
     "output_type": "display_data"
    },
    {
     "data": {
      "text/html": [
       "<img src=\"https://game.gtimg.cn/images/lgamem/act/lrlib/img/HeadIcon/H_S_10042.png\" width=\"25\" style=\"display:inline;\"> \"['9', '圣枪游侠', '50.27%', '8.91%', '0.19%']\""
      ],
      "text/plain": [
       "<IPython.core.display.HTML object>"
      ]
     },
     "metadata": {},
     "output_type": "display_data"
    },
    {
     "name": "stdout",
     "output_type": "stream",
     "text": [
      "--------------------------------------------------\n"
     ]
    }
   ],
   "source": [
    "\n",
    "for position in positions:\n",
    "    driver.find_element(By.XPATH, position).click()\n",
    "    \n",
    "    table = driver.find_element(By.CLASS_NAME, 'data-list')\n",
    "    entries = table.find_elements(By.TAG_NAME, \"li\")\n",
    "\n",
    "    for _ in entries:\n",
    "        stats = _.text.split('\\n')\n",
    "        appearance_feq = float(stats[3].split('%')[0])\n",
    "        win_feq = float(stats[2].split('%')[0])\n",
    "        \n",
    "        img_src = _.find_element(By.CLASS_NAME, \"hero-head-img\").find_element(By.TAG_NAME,\"img\").get_attribute('src')\n",
    "        if  appearance_feq > 5 and win_feq > 50:\n",
    "            # print(\" \".join(stats), end=\"\") \n",
    "            display(HTML(f'<img src=\"{img_src}\" width=\"25\" style=\"display:inline;\"> \"{stats}\"'))\n",
    "\n",
    "            # display(Image(url=img_src, width=20))\n",
    "    print('-' * 50)\n",
    "\n",
    "    time.sleep(waiting_time)"
   ]
  },
  {
   "cell_type": "code",
   "execution_count": null,
   "id": "1ecf22fa-840c-4cff-afa9-4224ec2e4d25",
   "metadata": {},
   "outputs": [],
   "source": []
  }
 ],
 "metadata": {
  "kernelspec": {
   "display_name": "Python 3 (ipykernel)",
   "language": "python",
   "name": "python3"
  },
  "language_info": {
   "codemirror_mode": {
    "name": "ipython",
    "version": 3
   },
   "file_extension": ".py",
   "mimetype": "text/x-python",
   "name": "python",
   "nbconvert_exporter": "python",
   "pygments_lexer": "ipython3",
   "version": "3.12.0"
  }
 },
 "nbformat": 4,
 "nbformat_minor": 5
}
