{
 "cells": [
  {
   "cell_type": "code",
   "execution_count": 1,
   "id": "0c8f934d-e934-4764-8591-9e88c05a22c1",
   "metadata": {},
   "outputs": [],
   "source": [
    "from selenium import webdriver\n",
    "from selenium.webdriver.common.by import By\n",
    "from selenium.webdriver.common.action_chains import ActionChains\n",
    "import time\n",
    "import statistics\n",
    "import datetime\n",
    "import re\n",
    "import pandas as pd\n",
    "import numpy as np\n",
    "from contextlib import redirect_stdout\n",
    "# from bokeh.plotting import show\n",
    "# from bokeh.io import export_png\n",
    "import os\n",
    "from IPython.display import Image, display\n",
    "from IPython.display import HTML\n",
    "\n",
    "waiting_time = 2"
   ]
  },
  {
   "cell_type": "code",
   "execution_count": 2,
   "id": "b8276eaa-4119-4c1a-b34c-b0aaa2caa4e5",
   "metadata": {},
   "outputs": [],
   "source": [
    "# service = webdriver.ChromeService(executable_path = r'C:\\Users\\chia-jung.s\\Documents\\GitHub\\wpoc\\code\\chromedriver.exe')\n",
    "service = webdriver.ChromeService(executable_path = r'C:\\Users\\Simon\\Documents\\GitHub\\wpoc\\code\\chromedriver.exe')\n",
    "\n",
    "driver = webdriver.Chrome(service=service)\n",
    "\n",
    "\n",
    "# service = webdriver.FirefoxService(executable_path = r'C:\\Users\\Simon\\app\\bin\\geckodriver.exe')\n",
    "# driver = webdriver.Firefox(service=service)\n",
    "driver.get(\"https://lolm.qq.com/act/a20220818raider/index.html\")\n",
    "time.sleep(waiting_time)\n",
    "positions = [\n",
    "'/html/body/div[1]/div[2]/div[3]/div[2]/a[1]',\n",
    "'/html/body/div[1]/div[2]/div[3]/div[2]/a[2]', \n",
    "'/html/body/div[1]/div[2]/div[3]/div[2]/a[3]',\n",
    "'/html/body/div[1]/div[2]/div[3]/div[2]/a[4]',\n",
    "'/html/body/div[1]/div[2]/div[3]/div[2]/a[5]',]"
   ]
  },
  {
   "cell_type": "code",
   "execution_count": null,
   "id": "866ccddc-148d-4ca5-8525-64f23d63a09b",
   "metadata": {},
   "outputs": [],
   "source": []
  },
  {
   "cell_type": "code",
   "execution_count": null,
   "id": "17c35be2-8aab-4cb6-a848-2d049ec7338f",
   "metadata": {},
   "outputs": [],
   "source": []
  },
  {
   "cell_type": "code",
   "execution_count": 3,
   "id": "d45f5335-e039-4137-93d7-3dc12d2b7590",
   "metadata": {},
   "outputs": [
    {
     "data": {
      "text/html": [
       "<img src=\"https://game.gtimg.cn/images/lgamem/act/lrlib/img/HeadIcon/H_S_10041.png\" width=\"25\" style=\"display:inline;\"> \"['1', '正义天使', '56.09%', '5.44%', '1.23%']\""
      ],
      "text/plain": [
       "<IPython.core.display.HTML object>"
      ]
     },
     "metadata": {},
     "output_type": "display_data"
    },
    {
     "data": {
      "text/html": [
       "<img src=\"https://game.gtimg.cn/images/lgamem/act/lrlib/img/HeadIcon/H_S_10058.png\" width=\"25\" style=\"display:inline;\"> \"['4', '不灭狂雷', '52.76%', '10.90%', '21.12%']\""
      ],
      "text/plain": [
       "<IPython.core.display.HTML object>"
      ]
     },
     "metadata": {},
     "output_type": "display_data"
    },
    {
     "data": {
      "text/html": [
       "<img src=\"https://game.gtimg.cn/images/lgamem/act/lrlib/img/HeadIcon/H_S_10140.png\" width=\"25\" style=\"display:inline;\"> \"['7', '机械公敌', '52.19%', '5.14%', '4.85%']\""
      ],
      "text/plain": [
       "<IPython.core.display.HTML object>"
      ]
     },
     "metadata": {},
     "output_type": "display_data"
    },
    {
     "data": {
      "text/html": [
       "<img src=\"https://game.gtimg.cn/images/lgamem/act/lrlib/img/HeadIcon/H_S_10046.png\" width=\"25\" style=\"display:inline;\"> \"['10', '迅捷斥候', '51.72%', '5.23%', '18.97%']\""
      ],
      "text/plain": [
       "<IPython.core.display.HTML object>"
      ]
     },
     "metadata": {},
     "output_type": "display_data"
    },
    {
     "data": {
      "text/html": [
       "<img src=\"https://game.gtimg.cn/images/lgamem/act/lrlib/img/HeadIcon/H_S_10062.png\" width=\"25\" style=\"display:inline;\"> \"['12', '祖安狂人', '50.88%', '5.27%', '1.36%']\""
      ],
      "text/plain": [
       "<IPython.core.display.HTML object>"
      ]
     },
     "metadata": {},
     "output_type": "display_data"
    },
    {
     "data": {
      "text/html": [
       "<img src=\"https://game.gtimg.cn/images/lgamem/act/lrlib/img/HeadIcon/H_S_10002.png\" width=\"25\" style=\"display:inline;\"> \"['13', '暗裔剑魔', '50.51%', '7.78%', '25.23%']\""
      ],
      "text/plain": [
       "<IPython.core.display.HTML object>"
      ]
     },
     "metadata": {},
     "output_type": "display_data"
    },
    {
     "data": {
      "text/html": [
       "<img src=\"https://game.gtimg.cn/images/lgamem/act/lrlib/img/HeadIcon/H_S_10068.png\" width=\"25\" style=\"display:inline;\"> \"['17', '腕豪', '50.22%', '12.34%', '1.23%']\""
      ],
      "text/plain": [
       "<IPython.core.display.HTML object>"
      ]
     },
     "metadata": {},
     "output_type": "display_data"
    },
    {
     "data": {
      "text/html": [
       "<img src=\"https://game.gtimg.cn/images/lgamem/act/lrlib/img/HeadIcon/H_S_10040.png\" width=\"25\" style=\"display:inline;\"> \"['18', '武器大师', '50.12%', '6.18%', '0.76%']\""
      ],
      "text/plain": [
       "<IPython.core.display.HTML object>"
      ]
     },
     "metadata": {},
     "output_type": "display_data"
    },
    {
     "name": "stdout",
     "output_type": "stream",
     "text": [
      "--------------------------------------------------\n"
     ]
    },
    {
     "data": {
      "text/html": [
       "<img src=\"https://game.gtimg.cn/images/lgamem/act/lrlib/img/HeadIcon/H_S_10004.png\" width=\"25\" style=\"display:inline;\"> \"['1', '殇之木乃伊', '57.74%', '6.59%', '2.47%']\""
      ],
      "text/plain": [
       "<IPython.core.display.HTML object>"
      ]
     },
     "metadata": {},
     "output_type": "display_data"
    },
    {
     "data": {
      "text/html": [
       "<img src=\"https://game.gtimg.cn/images/lgamem/act/lrlib/img/HeadIcon/H_S_10151.png\" width=\"25\" style=\"display:inline;\"> \"['2', '永恒梦魇', '56.83%', '7.74%', '70.50%']\""
      ],
      "text/plain": [
       "<IPython.core.display.HTML object>"
      ]
     },
     "metadata": {},
     "output_type": "display_data"
    },
    {
     "data": {
      "text/html": [
       "<img src=\"https://game.gtimg.cn/images/lgamem/act/lrlib/img/HeadIcon/H_S_10056.png\" width=\"25\" style=\"display:inline;\"> \"['7', '德玛西亚皇子', '52.16%', '8.55%', '0.67%']\""
      ],
      "text/plain": [
       "<IPython.core.display.HTML object>"
      ]
     },
     "metadata": {},
     "output_type": "display_data"
    },
    {
     "data": {
      "text/html": [
       "<img src=\"https://game.gtimg.cn/images/lgamem/act/lrlib/img/HeadIcon/H_S_10072.png\" width=\"25\" style=\"display:inline;\"> \"['11', '枪火狂徒', '51.30%', '8.61%', '0.57%']\""
      ],
      "text/plain": [
       "<IPython.core.display.HTML object>"
      ]
     },
     "metadata": {},
     "output_type": "display_data"
    },
    {
     "data": {
      "text/html": [
       "<img src=\"https://game.gtimg.cn/images/lgamem/act/lrlib/img/HeadIcon/H_S_10002.png\" width=\"25\" style=\"display:inline;\"> \"['17', '暗裔剑魔', '50.10%', '5.13%', '25.23%']\""
      ],
      "text/plain": [
       "<IPython.core.display.HTML object>"
      ]
     },
     "metadata": {},
     "output_type": "display_data"
    },
    {
     "name": "stdout",
     "output_type": "stream",
     "text": [
      "--------------------------------------------------\n"
     ]
    },
    {
     "data": {
      "text/html": [
       "<img src=\"https://game.gtimg.cn/images/lgamem/act/lrlib/img/HeadIcon/H_S_10028.png\" width=\"25\" style=\"display:inline;\"> \"['1', '堕落天使', '53.68%', '7.50%', '27.50%']\""
      ],
      "text/plain": [
       "<IPython.core.display.HTML object>"
      ]
     },
     "metadata": {},
     "output_type": "display_data"
    },
    {
     "data": {
      "text/html": [
       "<img src=\"https://game.gtimg.cn/images/lgamem/act/lrlib/img/HeadIcon/H_S_10003.png\" width=\"25\" style=\"display:inline;\"> \"['4', '光辉女郎', '52.53%', '8.09%', '40.78%']\""
      ],
      "text/plain": [
       "<IPython.core.display.HTML object>"
      ]
     },
     "metadata": {},
     "output_type": "display_data"
    },
    {
     "data": {
      "text/html": [
       "<img src=\"https://game.gtimg.cn/images/lgamem/act/lrlib/img/HeadIcon/H_S_10024.png\" width=\"25\" style=\"display:inline;\"> \"['8', '暗黑元首', '52.09%', '8.34%', '14.27%']\""
      ],
      "text/plain": [
       "<IPython.core.display.HTML object>"
      ]
     },
     "metadata": {},
     "output_type": "display_data"
    },
    {
     "data": {
      "text/html": [
       "<img src=\"https://game.gtimg.cn/images/lgamem/act/lrlib/img/HeadIcon/H_S_10144.png\" width=\"25\" style=\"display:inline;\"> \"['9', '奥术先驱', '51.77%', '7.69%', '9.42%']\""
      ],
      "text/plain": [
       "<IPython.core.display.HTML object>"
      ]
     },
     "metadata": {},
     "output_type": "display_data"
    },
    {
     "data": {
      "text/html": [
       "<img src=\"https://game.gtimg.cn/images/lgamem/act/lrlib/img/HeadIcon/H_S_10141.png\" width=\"25\" style=\"display:inline;\"> \"['10', '愁云使者', '51.34%', '5.03%', '1.11%']\""
      ],
      "text/plain": [
       "<IPython.core.display.HTML object>"
      ]
     },
     "metadata": {},
     "output_type": "display_data"
    },
    {
     "data": {
      "text/html": [
       "<img src=\"https://game.gtimg.cn/images/lgamem/act/lrlib/img/HeadIcon/H_S_10119.png\" width=\"25\" style=\"display:inline;\"> \"['13', '复仇焰魂', '51.20%', '9.38%', '4.96%']\""
      ],
      "text/plain": [
       "<IPython.core.display.HTML object>"
      ]
     },
     "metadata": {},
     "output_type": "display_data"
    },
    {
     "data": {
      "text/html": [
       "<img src=\"https://game.gtimg.cn/images/lgamem/act/lrlib/img/HeadIcon/H_S_10122.png\" width=\"25\" style=\"display:inline;\"> \"['14', '邪恶小法师', '51.11%', '12.05%', '8.86%']\""
      ],
      "text/plain": [
       "<IPython.core.display.HTML object>"
      ]
     },
     "metadata": {},
     "output_type": "display_data"
    },
    {
     "data": {
      "text/html": [
       "<img src=\"https://game.gtimg.cn/images/lgamem/act/lrlib/img/HeadIcon/H_S_10038.png\" width=\"25\" style=\"display:inline;\"> \"['15', '九尾妖狐', '51.08%', '5.72%', '0.12%']\""
      ],
      "text/plain": [
       "<IPython.core.display.HTML object>"
      ]
     },
     "metadata": {},
     "output_type": "display_data"
    },
    {
     "data": {
      "text/html": [
       "<img src=\"https://game.gtimg.cn/images/lgamem/act/lrlib/img/HeadIcon/H_S_10012.png\" width=\"25\" style=\"display:inline;\"> \"['16', '发条魔灵', '50.99%', '5.08%', '0.57%']\""
      ],
      "text/plain": [
       "<IPython.core.display.HTML object>"
      ]
     },
     "metadata": {},
     "output_type": "display_data"
    },
    {
     "data": {
      "text/html": [
       "<img src=\"https://game.gtimg.cn/images/lgamem/act/lrlib/img/HeadIcon/H_S_10087.png\" width=\"25\" style=\"display:inline;\"> \"['17', '爆破鬼才', '50.90%', '7.73%', '3.33%']\""
      ],
      "text/plain": [
       "<IPython.core.display.HTML object>"
      ]
     },
     "metadata": {},
     "output_type": "display_data"
    },
    {
     "data": {
      "text/html": [
       "<img src=\"https://game.gtimg.cn/images/lgamem/act/lrlib/img/HeadIcon/H_S_10090.png\" width=\"25\" style=\"display:inline;\"> \"['18', '猩红收割者', '50.73%', '5.81%', '5.54%']\""
      ],
      "text/plain": [
       "<IPython.core.display.HTML object>"
      ]
     },
     "metadata": {},
     "output_type": "display_data"
    },
    {
     "data": {
      "text/html": [
       "<img src=\"https://game.gtimg.cn/images/lgamem/act/lrlib/img/HeadIcon/H_S_10099.png\" width=\"25\" style=\"display:inline;\"> \"['19', '正义巨像', '50.28%', '10.76%', '2.11%']\""
      ],
      "text/plain": [
       "<IPython.core.display.HTML object>"
      ]
     },
     "metadata": {},
     "output_type": "display_data"
    },
    {
     "data": {
      "text/html": [
       "<img src=\"https://game.gtimg.cn/images/lgamem/act/lrlib/img/HeadIcon/H_S_10109.png\" width=\"25\" style=\"display:inline;\"> \"['20', '冰霜女巫', '50.22%', '5.38%', '5.60%']\""
      ],
      "text/plain": [
       "<IPython.core.display.HTML object>"
      ]
     },
     "metadata": {},
     "output_type": "display_data"
    },
    {
     "name": "stdout",
     "output_type": "stream",
     "text": [
      "--------------------------------------------------\n"
     ]
    },
    {
     "data": {
      "text/html": [
       "<img src=\"https://game.gtimg.cn/images/lgamem/act/lrlib/img/HeadIcon/H_S_10060.png\" width=\"25\" style=\"display:inline;\"> \"['1', '英勇投弹手', '55.00%', '8.03%', '5.34%']\""
      ],
      "text/plain": [
       "<IPython.core.display.HTML object>"
      ]
     },
     "metadata": {},
     "output_type": "display_data"
    },
    {
     "data": {
      "text/html": [
       "<img src=\"https://game.gtimg.cn/images/lgamem/act/lrlib/img/HeadIcon/H_S_10107.png\" width=\"25\" style=\"display:inline;\"> \"['2', '战争女神', '51.99%', '7.53%', '0.40%']\""
      ],
      "text/plain": [
       "<IPython.core.display.HTML object>"
      ]
     },
     "metadata": {},
     "output_type": "display_data"
    },
    {
     "data": {
      "text/html": [
       "<img src=\"https://game.gtimg.cn/images/lgamem/act/lrlib/img/HeadIcon/H_S_10066.png\" width=\"25\" style=\"display:inline;\"> \"['3', '赏金猎人', '51.86%', '23.08%', '2.38%']\""
      ],
      "text/plain": [
       "<IPython.core.display.HTML object>"
      ]
     },
     "metadata": {},
     "output_type": "display_data"
    },
    {
     "data": {
      "text/html": [
       "<img src=\"https://game.gtimg.cn/images/lgamem/act/lrlib/img/HeadIcon/H_S_10079.png\" width=\"25\" style=\"display:inline;\"> \"['4', '寒冰射手', '51.00%', '6.46%', '0.13%']\""
      ],
      "text/plain": [
       "<IPython.core.display.HTML object>"
      ]
     },
     "metadata": {},
     "output_type": "display_data"
    },
    {
     "data": {
      "text/html": [
       "<img src=\"https://game.gtimg.cn/images/lgamem/act/lrlib/img/HeadIcon/H_S_10022.png\" width=\"25\" style=\"display:inline;\"> \"['5', '戏命师', '50.99%', '10.50%', '0.17%']\""
      ],
      "text/plain": [
       "<IPython.core.display.HTML object>"
      ]
     },
     "metadata": {},
     "output_type": "display_data"
    },
    {
     "data": {
      "text/html": [
       "<img src=\"https://game.gtimg.cn/images/lgamem/act/lrlib/img/HeadIcon/H_S_10093.png\" width=\"25\" style=\"display:inline;\"> \"['6', '惩戒之箭', '50.75%', '16.35%', '4.94%']\""
      ],
      "text/plain": [
       "<IPython.core.display.HTML object>"
      ]
     },
     "metadata": {},
     "output_type": "display_data"
    },
    {
     "data": {
      "text/html": [
       "<img src=\"https://game.gtimg.cn/images/lgamem/act/lrlib/img/HeadIcon/H_S_10010.png\" width=\"25\" style=\"display:inline;\"> \"['7', '暗夜猎手', '50.67%', '12.58%', '7.03%']\""
      ],
      "text/plain": [
       "<IPython.core.display.HTML object>"
      ]
     },
     "metadata": {},
     "output_type": "display_data"
    },
    {
     "data": {
      "text/html": [
       "<img src=\"https://game.gtimg.cn/images/lgamem/act/lrlib/img/HeadIcon/H_S_10051.png\" width=\"25\" style=\"display:inline;\"> \"['8', '逆羽', '50.64%', '6.81%', '0.31%']\""
      ],
      "text/plain": [
       "<IPython.core.display.HTML object>"
      ]
     },
     "metadata": {},
     "output_type": "display_data"
    },
    {
     "data": {
      "text/html": [
       "<img src=\"https://game.gtimg.cn/images/lgamem/act/lrlib/img/HeadIcon/H_S_10098.png\" width=\"25\" style=\"display:inline;\"> \"['9', '探险家', '50.44%', '17.84%', '0.90%']\""
      ],
      "text/plain": [
       "<IPython.core.display.HTML object>"
      ]
     },
     "metadata": {},
     "output_type": "display_data"
    },
    {
     "data": {
      "text/html": [
       "<img src=\"https://game.gtimg.cn/images/lgamem/act/lrlib/img/HeadIcon/H_S_10018.png\" width=\"25\" style=\"display:inline;\"> \"['10', '暴走萝莉', '50.16%', '11.36%', '0.34%']\""
      ],
      "text/plain": [
       "<IPython.core.display.HTML object>"
      ]
     },
     "metadata": {},
     "output_type": "display_data"
    },
    {
     "name": "stdout",
     "output_type": "stream",
     "text": [
      "--------------------------------------------------\n"
     ]
    },
    {
     "data": {
      "text/html": [
       "<img src=\"https://game.gtimg.cn/images/lgamem/act/lrlib/img/HeadIcon/H_S_10034.png\" width=\"25\" style=\"display:inline;\"> \"['1', '星籁歌姬', '53.66%', '16.05%', '14.07%']\""
      ],
      "text/plain": [
       "<IPython.core.display.HTML object>"
      ]
     },
     "metadata": {},
     "output_type": "display_data"
    },
    {
     "data": {
      "text/html": [
       "<img src=\"https://game.gtimg.cn/images/lgamem/act/lrlib/img/HeadIcon/H_S_10033.png\" width=\"25\" style=\"display:inline;\"> \"['2', '蒸汽机器人', '52.60%', '11.67%', '5.72%']\""
      ],
      "text/plain": [
       "<IPython.core.display.HTML object>"
      ]
     },
     "metadata": {},
     "output_type": "display_data"
    },
    {
     "data": {
      "text/html": [
       "<img src=\"https://game.gtimg.cn/images/lgamem/act/lrlib/img/HeadIcon/H_S_10063.png\" width=\"25\" style=\"display:inline;\"> \"['3', '荆棘之兴', '51.74%', '8.65%', '52.13%']\""
      ],
      "text/plain": [
       "<IPython.core.display.HTML object>"
      ]
     },
     "metadata": {},
     "output_type": "display_data"
    },
    {
     "data": {
      "text/html": [
       "<img src=\"https://game.gtimg.cn/images/lgamem/act/lrlib/img/HeadIcon/H_S_10074.png\" width=\"25\" style=\"display:inline;\"> \"['4', '扭曲树精', '51.57%', '5.33%', '1.22%']\""
      ],
      "text/plain": [
       "<IPython.core.display.HTML object>"
      ]
     },
     "metadata": {},
     "output_type": "display_data"
    },
    {
     "data": {
      "text/html": [
       "<img src=\"https://game.gtimg.cn/images/lgamem/act/lrlib/img/HeadIcon/H_S_10003.png\" width=\"25\" style=\"display:inline;\"> \"['5', '光辉女郎', '51.38%', '14.83%', '40.78%']\""
      ],
      "text/plain": [
       "<IPython.core.display.HTML object>"
      ]
     },
     "metadata": {},
     "output_type": "display_data"
    },
    {
     "data": {
      "text/html": [
       "<img src=\"https://game.gtimg.cn/images/lgamem/act/lrlib/img/HeadIcon/H_S_10007.png\" width=\"25\" style=\"display:inline;\"> \"['6', '天启者', '51.19%', '7.38%', '1.13%']\""
      ],
      "text/plain": [
       "<IPython.core.display.HTML object>"
      ]
     },
     "metadata": {},
     "output_type": "display_data"
    },
    {
     "data": {
      "text/html": [
       "<img src=\"https://game.gtimg.cn/images/lgamem/act/lrlib/img/HeadIcon/H_S_10097.png\" width=\"25\" style=\"display:inline;\"> \"['8', '众星之子', '51.03%', '5.78%', '3.18%']\""
      ],
      "text/plain": [
       "<IPython.core.display.HTML object>"
      ]
     },
     "metadata": {},
     "output_type": "display_data"
    },
    {
     "data": {
      "text/html": [
       "<img src=\"https://game.gtimg.cn/images/lgamem/act/lrlib/img/HeadIcon/H_S_10028.png\" width=\"25\" style=\"display:inline;\"> \"['9', '堕落天使', '50.88%', '7.18%', '27.50%']\""
      ],
      "text/plain": [
       "<IPython.core.display.HTML object>"
      ]
     },
     "metadata": {},
     "output_type": "display_data"
    },
    {
     "name": "stdout",
     "output_type": "stream",
     "text": [
      "--------------------------------------------------\n"
     ]
    }
   ],
   "source": [
    "\n",
    "for position in positions:\n",
    "    driver.find_element(By.XPATH, position).click()\n",
    "    \n",
    "    table = driver.find_element(By.CLASS_NAME, 'data-list')\n",
    "    entries = table.find_elements(By.TAG_NAME, \"li\")\n",
    "\n",
    "    for _ in entries:\n",
    "        stats = _.text.split('\\n')\n",
    "        appearance_feq = float(stats[3].split('%')[0])\n",
    "        win_feq = float(stats[2].split('%')[0])\n",
    "        \n",
    "        img_src = _.find_element(By.CLASS_NAME, \"hero-head-img\").find_element(By.TAG_NAME,\"img\").get_attribute('src')\n",
    "        if  appearance_feq > 5 and win_feq > 50:\n",
    "            # print(\" \".join(stats), end=\"\") \n",
    "            display(HTML(f'<img src=\"{img_src}\" width=\"25\" style=\"display:inline;\"> \"{stats}\"'))\n",
    "\n",
    "            # display(Image(url=img_src, width=20))\n",
    "    print('-' * 50)\n",
    "\n",
    "    time.sleep(waiting_time)"
   ]
  },
  {
   "cell_type": "code",
   "execution_count": null,
   "id": "97b660ce-6e80-4d9f-9817-78980304f9b0",
   "metadata": {},
   "outputs": [],
   "source": []
  }
 ],
 "metadata": {
  "kernelspec": {
   "display_name": "Python 3 (ipykernel)",
   "language": "python",
   "name": "python3"
  },
  "language_info": {
   "codemirror_mode": {
    "name": "ipython",
    "version": 3
   },
   "file_extension": ".py",
   "mimetype": "text/x-python",
   "name": "python",
   "nbconvert_exporter": "python",
   "pygments_lexer": "ipython3",
   "version": "3.12.0"
  }
 },
 "nbformat": 4,
 "nbformat_minor": 5
}
