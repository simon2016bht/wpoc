{
 "cells": [
  {
   "cell_type": "code",
   "execution_count": 1,
   "id": "0c8f934d-e934-4764-8591-9e88c05a22c1",
   "metadata": {},
   "outputs": [],
   "source": [
    "from selenium import webdriver\n",
    "from selenium.webdriver.common.by import By\n",
    "from selenium.webdriver.common.action_chains import ActionChains\n",
    "import time\n",
    "import statistics\n",
    "import datetime\n",
    "import re\n",
    "import pandas as pd\n",
    "import numpy as np\n",
    "from contextlib import redirect_stdout\n",
    "# from bokeh.plotting import show\n",
    "# from bokeh.io import export_png\n",
    "import os\n",
    "from IPython.display import Image, display\n",
    "from IPython.display import HTML\n",
    "\n",
    "waiting_time = 2"
   ]
  },
  {
   "cell_type": "code",
   "execution_count": 2,
   "id": "b8276eaa-4119-4c1a-b34c-b0aaa2caa4e5",
   "metadata": {},
   "outputs": [],
   "source": [
    "# service = webdriver.ChromeService(executable_path = r'C:\\Users\\chia-jung.s\\Documents\\GitHub\\wpoc\\code\\chromedriver.exe')\n",
    "service = webdriver.ChromeService(executable_path = r'C:\\Users\\Simon\\Documents\\GitHub\\wpoc\\code\\chromedriver.exe')\n",
    "\n",
    "driver = webdriver.Chrome(service=service)\n",
    "\n",
    "\n",
    "# service = webdriver.FirefoxService(executable_path = r'C:\\Users\\Simon\\app\\bin\\geckodriver.exe')\n",
    "# driver = webdriver.Firefox(service=service)\n",
    "driver.get(\"https://lolm.qq.com/act/a20220818raider/index.html\")\n",
    "time.sleep(waiting_time)\n",
    "positions = [\n",
    "'/html/body/div[1]/div[2]/div[3]/div[2]/a[1]',\n",
    "'/html/body/div[1]/div[2]/div[3]/div[2]/a[2]', \n",
    "'/html/body/div[1]/div[2]/div[3]/div[2]/a[3]',\n",
    "'/html/body/div[1]/div[2]/div[3]/div[2]/a[4]',\n",
    "'/html/body/div[1]/div[2]/div[3]/div[2]/a[5]',]"
   ]
  },
  {
   "cell_type": "code",
   "execution_count": null,
   "id": "866ccddc-148d-4ca5-8525-64f23d63a09b",
   "metadata": {},
   "outputs": [],
   "source": []
  },
  {
   "cell_type": "code",
   "execution_count": null,
   "id": "17c35be2-8aab-4cb6-a848-2d049ec7338f",
   "metadata": {},
   "outputs": [],
   "source": []
  },
  {
   "cell_type": "code",
   "execution_count": 3,
   "id": "d45f5335-e039-4137-93d7-3dc12d2b7590",
   "metadata": {},
   "outputs": [
    {
     "data": {
      "text/html": [
       "<img src=\"https://game.gtimg.cn/images/lgamem/act/lrlib/img/HeadIcon/H_S_10041.png\" width=\"25\" style=\"display:inline;\"> \"['1', '正义天使', '55.18%', '5.66%', '0.85%']\""
      ],
      "text/plain": [
       "<IPython.core.display.HTML object>"
      ]
     },
     "metadata": {},
     "output_type": "display_data"
    },
    {
     "data": {
      "text/html": [
       "<img src=\"https://game.gtimg.cn/images/lgamem/act/lrlib/img/HeadIcon/H_S_10065.png\" width=\"25\" style=\"display:inline;\"> \"['2', '沙漠死神', '53.26%', '10.77%', '58.99%']\""
      ],
      "text/plain": [
       "<IPython.core.display.HTML object>"
      ]
     },
     "metadata": {},
     "output_type": "display_data"
    },
    {
     "data": {
      "text/html": [
       "<img src=\"https://game.gtimg.cn/images/lgamem/act/lrlib/img/HeadIcon/H_S_10078.png\" width=\"25\" style=\"display:inline;\"> \"['4', '迷失之牙', '52.77%', '8.67%', '8.57%']\""
      ],
      "text/plain": [
       "<IPython.core.display.HTML object>"
      ]
     },
     "metadata": {},
     "output_type": "display_data"
    },
    {
     "data": {
      "text/html": [
       "<img src=\"https://game.gtimg.cn/images/lgamem/act/lrlib/img/HeadIcon/H_S_10046.png\" width=\"25\" style=\"display:inline;\"> \"['5', '迅捷斥候', '52.71%', '5.73%', '18.26%']\""
      ],
      "text/plain": [
       "<IPython.core.display.HTML object>"
      ]
     },
     "metadata": {},
     "output_type": "display_data"
    },
    {
     "data": {
      "text/html": [
       "<img src=\"https://game.gtimg.cn/images/lgamem/act/lrlib/img/HeadIcon/H_S_10058.png\" width=\"25\" style=\"display:inline;\"> \"['8', '不灭狂雷', '52.41%', '10.29%', '13.14%']\""
      ],
      "text/plain": [
       "<IPython.core.display.HTML object>"
      ]
     },
     "metadata": {},
     "output_type": "display_data"
    },
    {
     "data": {
      "text/html": [
       "<img src=\"https://game.gtimg.cn/images/lgamem/act/lrlib/img/HeadIcon/H_S_10140.png\" width=\"25\" style=\"display:inline;\"> \"['11', '机械公敌', '51.61%', '6.30%', '5.92%']\""
      ],
      "text/plain": [
       "<IPython.core.display.HTML object>"
      ]
     },
     "metadata": {},
     "output_type": "display_data"
    },
    {
     "data": {
      "text/html": [
       "<img src=\"https://game.gtimg.cn/images/lgamem/act/lrlib/img/HeadIcon/H_S_10069.png\" width=\"25\" style=\"display:inline;\"> \"['14', '封魔剑魂', '50.33%', '5.71%', '2.17%']\""
      ],
      "text/plain": [
       "<IPython.core.display.HTML object>"
      ]
     },
     "metadata": {},
     "output_type": "display_data"
    },
    {
     "data": {
      "text/html": [
       "<img src=\"https://game.gtimg.cn/images/lgamem/act/lrlib/img/HeadIcon/H_S_10076.png\" width=\"25\" style=\"display:inline;\"> \"['15', '圣锤之毅', '50.22%', '5.47%', '5.04%']\""
      ],
      "text/plain": [
       "<IPython.core.display.HTML object>"
      ]
     },
     "metadata": {},
     "output_type": "display_data"
    },
    {
     "data": {
      "text/html": [
       "<img src=\"https://game.gtimg.cn/images/lgamem/act/lrlib/img/HeadIcon/H_S_10062.png\" width=\"25\" style=\"display:inline;\"> \"['16', '祖安狂人', '50.04%', '5.53%', '1.21%']\""
      ],
      "text/plain": [
       "<IPython.core.display.HTML object>"
      ]
     },
     "metadata": {},
     "output_type": "display_data"
    },
    {
     "data": {
      "text/html": [
       "<img src=\"https://game.gtimg.cn/images/lgamem/act/lrlib/img/HeadIcon/H_S_10002.png\" width=\"25\" style=\"display:inline;\"> \"['17', '暗裔剑魔', '50.03%', '6.20%', '17.13%']\""
      ],
      "text/plain": [
       "<IPython.core.display.HTML object>"
      ]
     },
     "metadata": {},
     "output_type": "display_data"
    },
    {
     "name": "stdout",
     "output_type": "stream",
     "text": [
      "--------------------------------------------------\n"
     ]
    },
    {
     "data": {
      "text/html": [
       "<img src=\"https://game.gtimg.cn/images/lgamem/act/lrlib/img/HeadIcon/H_S_10004.png\" width=\"25\" style=\"display:inline;\"> \"['1', '殇之木乃伊', '58.32%', '9.28%', '3.88%']\""
      ],
      "text/plain": [
       "<IPython.core.display.HTML object>"
      ]
     },
     "metadata": {},
     "output_type": "display_data"
    },
    {
     "data": {
      "text/html": [
       "<img src=\"https://game.gtimg.cn/images/lgamem/act/lrlib/img/HeadIcon/H_S_10131.png\" width=\"25\" style=\"display:inline;\"> \"['5', '祖安怒兽', '52.87%', '5.40%', '3.88%']\""
      ],
      "text/plain": [
       "<IPython.core.display.HTML object>"
      ]
     },
     "metadata": {},
     "output_type": "display_data"
    },
    {
     "data": {
      "text/html": [
       "<img src=\"https://game.gtimg.cn/images/lgamem/act/lrlib/img/HeadIcon/H_S_10056.png\" width=\"25\" style=\"display:inline;\"> \"['8', '德玛西亚皇子', '51.92%', '6.70%', '0.34%']\""
      ],
      "text/plain": [
       "<IPython.core.display.HTML object>"
      ]
     },
     "metadata": {},
     "output_type": "display_data"
    },
    {
     "data": {
      "text/html": [
       "<img src=\"https://game.gtimg.cn/images/lgamem/act/lrlib/img/HeadIcon/H_S_10009.png\" width=\"25\" style=\"display:inline;\"> \"['10', '齐天大圣', '50.54%', '5.55%', '16.61%']\""
      ],
      "text/plain": [
       "<IPython.core.display.HTML object>"
      ]
     },
     "metadata": {},
     "output_type": "display_data"
    },
    {
     "data": {
      "text/html": [
       "<img src=\"https://game.gtimg.cn/images/lgamem/act/lrlib/img/HeadIcon/H_S_10072.png\" width=\"25\" style=\"display:inline;\"> \"['15', '枪火狂徒', '50.21%', '10.48%', '0.72%']\""
      ],
      "text/plain": [
       "<IPython.core.display.HTML object>"
      ]
     },
     "metadata": {},
     "output_type": "display_data"
    },
    {
     "data": {
      "text/html": [
       "<img src=\"https://game.gtimg.cn/images/lgamem/act/lrlib/img/HeadIcon/H_S_10002.png\" width=\"25\" style=\"display:inline;\"> \"['16', '暗裔剑魔', '50.13%', '5.29%', '17.13%']\""
      ],
      "text/plain": [
       "<IPython.core.display.HTML object>"
      ]
     },
     "metadata": {},
     "output_type": "display_data"
    },
    {
     "data": {
      "text/html": [
       "<img src=\"https://game.gtimg.cn/images/lgamem/act/lrlib/img/HeadIcon/H_S_10086.png\" width=\"25\" style=\"display:inline;\"> \"['19', '潮汐海灵', '50.08%', '5.17%', '4.38%']\""
      ],
      "text/plain": [
       "<IPython.core.display.HTML object>"
      ]
     },
     "metadata": {},
     "output_type": "display_data"
    },
    {
     "name": "stdout",
     "output_type": "stream",
     "text": [
      "--------------------------------------------------\n"
     ]
    },
    {
     "data": {
      "text/html": [
       "<img src=\"https://game.gtimg.cn/images/lgamem/act/lrlib/img/HeadIcon/H_S_10028.png\" width=\"25\" style=\"display:inline;\"> \"['4', '堕落天使', '53.02%', '7.54%', '22.31%']\""
      ],
      "text/plain": [
       "<IPython.core.display.HTML object>"
      ]
     },
     "metadata": {},
     "output_type": "display_data"
    },
    {
     "data": {
      "text/html": [
       "<img src=\"https://game.gtimg.cn/images/lgamem/act/lrlib/img/HeadIcon/H_S_10137.png\" width=\"25\" style=\"display:inline;\"> \"['5', '符文法师', '52.51%', '7.50%', '81.13%']\""
      ],
      "text/plain": [
       "<IPython.core.display.HTML object>"
      ]
     },
     "metadata": {},
     "output_type": "display_data"
    },
    {
     "data": {
      "text/html": [
       "<img src=\"https://game.gtimg.cn/images/lgamem/act/lrlib/img/HeadIcon/H_S_10024.png\" width=\"25\" style=\"display:inline;\"> \"['8', '暗黑元首', '51.53%', '8.33%', '8.88%']\""
      ],
      "text/plain": [
       "<IPython.core.display.HTML object>"
      ]
     },
     "metadata": {},
     "output_type": "display_data"
    },
    {
     "data": {
      "text/html": [
       "<img src=\"https://game.gtimg.cn/images/lgamem/act/lrlib/img/HeadIcon/H_S_10003.png\" width=\"25\" style=\"display:inline;\"> \"['10', '光辉女郎', '51.24%', '7.84%', '39.27%']\""
      ],
      "text/plain": [
       "<IPython.core.display.HTML object>"
      ]
     },
     "metadata": {},
     "output_type": "display_data"
    },
    {
     "data": {
      "text/html": [
       "<img src=\"https://game.gtimg.cn/images/lgamem/act/lrlib/img/HeadIcon/H_S_10119.png\" width=\"25\" style=\"display:inline;\"> \"['12', '复仇焰魂', '51.20%', '9.17%', '3.64%']\""
      ],
      "text/plain": [
       "<IPython.core.display.HTML object>"
      ]
     },
     "metadata": {},
     "output_type": "display_data"
    },
    {
     "data": {
      "text/html": [
       "<img src=\"https://game.gtimg.cn/images/lgamem/act/lrlib/img/HeadIcon/H_S_10038.png\" width=\"25\" style=\"display:inline;\"> \"['13', '九尾妖狐', '51.19%', '5.19%', '0.09%']\""
      ],
      "text/plain": [
       "<IPython.core.display.HTML object>"
      ]
     },
     "metadata": {},
     "output_type": "display_data"
    },
    {
     "data": {
      "text/html": [
       "<img src=\"https://game.gtimg.cn/images/lgamem/act/lrlib/img/HeadIcon/H_S_10144.png\" width=\"25\" style=\"display:inline;\"> \"['14', '奥术先驱', '51.16%', '9.50%', '14.46%']\""
      ],
      "text/plain": [
       "<IPython.core.display.HTML object>"
      ]
     },
     "metadata": {},
     "output_type": "display_data"
    },
    {
     "data": {
      "text/html": [
       "<img src=\"https://game.gtimg.cn/images/lgamem/act/lrlib/img/HeadIcon/H_S_10122.png\" width=\"25\" style=\"display:inline;\"> \"['15', '邪恶小法师', '50.60%', '11.41%', '6.68%']\""
      ],
      "text/plain": [
       "<IPython.core.display.HTML object>"
      ]
     },
     "metadata": {},
     "output_type": "display_data"
    },
    {
     "data": {
      "text/html": [
       "<img src=\"https://game.gtimg.cn/images/lgamem/act/lrlib/img/HeadIcon/H_S_10109.png\" width=\"25\" style=\"display:inline;\"> \"['16', '冰霜女巫', '50.47%', '5.16%', '5.03%']\""
      ],
      "text/plain": [
       "<IPython.core.display.HTML object>"
      ]
     },
     "metadata": {},
     "output_type": "display_data"
    },
    {
     "data": {
      "text/html": [
       "<img src=\"https://game.gtimg.cn/images/lgamem/act/lrlib/img/HeadIcon/H_S_10087.png\" width=\"25\" style=\"display:inline;\"> \"['17', '爆破鬼才', '50.46%', '8.36%', '2.91%']\""
      ],
      "text/plain": [
       "<IPython.core.display.HTML object>"
      ]
     },
     "metadata": {},
     "output_type": "display_data"
    },
    {
     "data": {
      "text/html": [
       "<img src=\"https://game.gtimg.cn/images/lgamem/act/lrlib/img/HeadIcon/H_S_10090.png\" width=\"25\" style=\"display:inline;\"> \"['18', '猩红收割者', '50.26%', '6.11%', '4.07%']\""
      ],
      "text/plain": [
       "<IPython.core.display.HTML object>"
      ]
     },
     "metadata": {},
     "output_type": "display_data"
    },
    {
     "data": {
      "text/html": [
       "<img src=\"https://game.gtimg.cn/images/lgamem/act/lrlib/img/HeadIcon/H_S_10012.png\" width=\"25\" style=\"display:inline;\"> \"['20', '发条魔灵', '50.24%', '5.99%', '0.49%']\""
      ],
      "text/plain": [
       "<IPython.core.display.HTML object>"
      ]
     },
     "metadata": {},
     "output_type": "display_data"
    },
    {
     "data": {
      "text/html": [
       "<img src=\"https://game.gtimg.cn/images/lgamem/act/lrlib/img/HeadIcon/H_S_10099.png\" width=\"25\" style=\"display:inline;\"> \"['21', '正义巨像', '50.23%', '10.38%', '1.68%']\""
      ],
      "text/plain": [
       "<IPython.core.display.HTML object>"
      ]
     },
     "metadata": {},
     "output_type": "display_data"
    },
    {
     "name": "stdout",
     "output_type": "stream",
     "text": [
      "--------------------------------------------------\n"
     ]
    },
    {
     "data": {
      "text/html": [
       "<img src=\"https://game.gtimg.cn/images/lgamem/act/lrlib/img/HeadIcon/H_S_10060.png\" width=\"25\" style=\"display:inline;\"> \"['1', '英勇投弹手', '54.97%', '9.17%', '3.30%']\""
      ],
      "text/plain": [
       "<IPython.core.display.HTML object>"
      ]
     },
     "metadata": {},
     "output_type": "display_data"
    },
    {
     "data": {
      "text/html": [
       "<img src=\"https://game.gtimg.cn/images/lgamem/act/lrlib/img/HeadIcon/H_S_10107.png\" width=\"25\" style=\"display:inline;\"> \"['2', '战争女神', '52.13%', '9.12%', '0.68%']\""
      ],
      "text/plain": [
       "<IPython.core.display.HTML object>"
      ]
     },
     "metadata": {},
     "output_type": "display_data"
    },
    {
     "data": {
      "text/html": [
       "<img src=\"https://game.gtimg.cn/images/lgamem/act/lrlib/img/HeadIcon/H_S_10066.png\" width=\"25\" style=\"display:inline;\"> \"['3', '赏金猎人', '51.90%', '21.97%', '1.80%']\""
      ],
      "text/plain": [
       "<IPython.core.display.HTML object>"
      ]
     },
     "metadata": {},
     "output_type": "display_data"
    },
    {
     "data": {
      "text/html": [
       "<img src=\"https://game.gtimg.cn/images/lgamem/act/lrlib/img/HeadIcon/H_S_10079.png\" width=\"25\" style=\"display:inline;\"> \"['4', '寒冰射手', '51.40%', '5.89%', '0.10%']\""
      ],
      "text/plain": [
       "<IPython.core.display.HTML object>"
      ]
     },
     "metadata": {},
     "output_type": "display_data"
    },
    {
     "data": {
      "text/html": [
       "<img src=\"https://game.gtimg.cn/images/lgamem/act/lrlib/img/HeadIcon/H_S_10022.png\" width=\"25\" style=\"display:inline;\"> \"['5', '戏命师', '51.10%', '10.08%', '0.15%']\""
      ],
      "text/plain": [
       "<IPython.core.display.HTML object>"
      ]
     },
     "metadata": {},
     "output_type": "display_data"
    },
    {
     "data": {
      "text/html": [
       "<img src=\"https://game.gtimg.cn/images/lgamem/act/lrlib/img/HeadIcon/H_S_10093.png\" width=\"25\" style=\"display:inline;\"> \"['6', '惩戒之箭', '50.54%', '16.65%', '4.55%']\""
      ],
      "text/plain": [
       "<IPython.core.display.HTML object>"
      ]
     },
     "metadata": {},
     "output_type": "display_data"
    },
    {
     "data": {
      "text/html": [
       "<img src=\"https://game.gtimg.cn/images/lgamem/act/lrlib/img/HeadIcon/H_S_10098.png\" width=\"25\" style=\"display:inline;\"> \"['7', '探险家', '50.44%', '18.62%', '0.83%']\""
      ],
      "text/plain": [
       "<IPython.core.display.HTML object>"
      ]
     },
     "metadata": {},
     "output_type": "display_data"
    },
    {
     "data": {
      "text/html": [
       "<img src=\"https://game.gtimg.cn/images/lgamem/act/lrlib/img/HeadIcon/H_S_10051.png\" width=\"25\" style=\"display:inline;\"> \"['8', '逆羽', '50.41%', '6.69%', '0.27%']\""
      ],
      "text/plain": [
       "<IPython.core.display.HTML object>"
      ]
     },
     "metadata": {},
     "output_type": "display_data"
    },
    {
     "data": {
      "text/html": [
       "<img src=\"https://game.gtimg.cn/images/lgamem/act/lrlib/img/HeadIcon/H_S_10018.png\" width=\"25\" style=\"display:inline;\"> \"['9', '暴走萝莉', '50.22%', '12.25%', '0.35%']\""
      ],
      "text/plain": [
       "<IPython.core.display.HTML object>"
      ]
     },
     "metadata": {},
     "output_type": "display_data"
    },
    {
     "data": {
      "text/html": [
       "<img src=\"https://game.gtimg.cn/images/lgamem/act/lrlib/img/HeadIcon/H_S_10010.png\" width=\"25\" style=\"display:inline;\"> \"['10', '暗夜猎手', '50.12%', '10.71%', '4.83%']\""
      ],
      "text/plain": [
       "<IPython.core.display.HTML object>"
      ]
     },
     "metadata": {},
     "output_type": "display_data"
    },
    {
     "name": "stdout",
     "output_type": "stream",
     "text": [
      "--------------------------------------------------\n"
     ]
    },
    {
     "data": {
      "text/html": [
       "<img src=\"https://game.gtimg.cn/images/lgamem/act/lrlib/img/HeadIcon/H_S_10034.png\" width=\"25\" style=\"display:inline;\"> \"['1', '星籁歌姬', '54.69%', '18.29%', '11.00%']\""
      ],
      "text/plain": [
       "<IPython.core.display.HTML object>"
      ]
     },
     "metadata": {},
     "output_type": "display_data"
    },
    {
     "data": {
      "text/html": [
       "<img src=\"https://game.gtimg.cn/images/lgamem/act/lrlib/img/HeadIcon/H_S_10033.png\" width=\"25\" style=\"display:inline;\"> \"['2', '蒸汽机器人', '52.52%', '11.79%', '5.72%']\""
      ],
      "text/plain": [
       "<IPython.core.display.HTML object>"
      ]
     },
     "metadata": {},
     "output_type": "display_data"
    },
    {
     "data": {
      "text/html": [
       "<img src=\"https://game.gtimg.cn/images/lgamem/act/lrlib/img/HeadIcon/H_S_10063.png\" width=\"25\" style=\"display:inline;\"> \"['4', '荆棘之兴', '51.84%', '8.66%', '49.13%']\""
      ],
      "text/plain": [
       "<IPython.core.display.HTML object>"
      ]
     },
     "metadata": {},
     "output_type": "display_data"
    },
    {
     "data": {
      "text/html": [
       "<img src=\"https://game.gtimg.cn/images/lgamem/act/lrlib/img/HeadIcon/H_S_10097.png\" width=\"25\" style=\"display:inline;\"> \"['5', '众星之子', '51.29%', '6.64%', '3.60%']\""
      ],
      "text/plain": [
       "<IPython.core.display.HTML object>"
      ]
     },
     "metadata": {},
     "output_type": "display_data"
    },
    {
     "data": {
      "text/html": [
       "<img src=\"https://game.gtimg.cn/images/lgamem/act/lrlib/img/HeadIcon/H_S_10074.png\" width=\"25\" style=\"display:inline;\"> \"['6', '扭曲树精', '51.02%', '5.38%', '1.24%']\""
      ],
      "text/plain": [
       "<IPython.core.display.HTML object>"
      ]
     },
     "metadata": {},
     "output_type": "display_data"
    },
    {
     "data": {
      "text/html": [
       "<img src=\"https://game.gtimg.cn/images/lgamem/act/lrlib/img/HeadIcon/H_S_10003.png\" width=\"25\" style=\"display:inline;\"> \"['7', '光辉女郎', '50.70%', '14.90%', '39.27%']\""
      ],
      "text/plain": [
       "<IPython.core.display.HTML object>"
      ]
     },
     "metadata": {},
     "output_type": "display_data"
    },
    {
     "data": {
      "text/html": [
       "<img src=\"https://game.gtimg.cn/images/lgamem/act/lrlib/img/HeadIcon/H_S_10007.png\" width=\"25\" style=\"display:inline;\"> \"['8', '天启者', '50.68%', '7.81%', '1.05%']\""
      ],
      "text/plain": [
       "<IPython.core.display.HTML object>"
      ]
     },
     "metadata": {},
     "output_type": "display_data"
    },
    {
     "data": {
      "text/html": [
       "<img src=\"https://game.gtimg.cn/images/lgamem/act/lrlib/img/HeadIcon/H_S_10091.png\" width=\"25\" style=\"display:inline;\"> \"['10', '唤潮鲛姬', '50.44%', '5.97%', '0.18%']\""
      ],
      "text/plain": [
       "<IPython.core.display.HTML object>"
      ]
     },
     "metadata": {},
     "output_type": "display_data"
    },
    {
     "data": {
      "text/html": [
       "<img src=\"https://game.gtimg.cn/images/lgamem/act/lrlib/img/HeadIcon/H_S_10028.png\" width=\"25\" style=\"display:inline;\"> \"['11', '堕落天使', '50.27%', '7.00%', '22.31%']\""
      ],
      "text/plain": [
       "<IPython.core.display.HTML object>"
      ]
     },
     "metadata": {},
     "output_type": "display_data"
    },
    {
     "name": "stdout",
     "output_type": "stream",
     "text": [
      "--------------------------------------------------\n"
     ]
    }
   ],
   "source": [
    "\n",
    "for position in positions:\n",
    "    driver.find_element(By.XPATH, position).click()\n",
    "    \n",
    "    table = driver.find_element(By.CLASS_NAME, 'data-list')\n",
    "    entries = table.find_elements(By.TAG_NAME, \"li\")\n",
    "\n",
    "    for _ in entries:\n",
    "        stats = _.text.split('\\n')\n",
    "        appearance_feq = float(stats[3].split('%')[0])\n",
    "        win_feq = float(stats[2].split('%')[0])\n",
    "        \n",
    "        img_src = _.find_element(By.CLASS_NAME, \"hero-head-img\").find_element(By.TAG_NAME,\"img\").get_attribute('src')\n",
    "        if  appearance_feq > 5 and win_feq > 50:\n",
    "            # print(\" \".join(stats), end=\"\") \n",
    "            display(HTML(f'<img src=\"{img_src}\" width=\"25\" style=\"display:inline;\"> \"{stats}\"'))\n",
    "\n",
    "            # display(Image(url=img_src, width=20))\n",
    "    print('-' * 50)\n",
    "\n",
    "    time.sleep(waiting_time)"
   ]
  },
  {
   "cell_type": "code",
   "execution_count": null,
   "id": "97b660ce-6e80-4d9f-9817-78980304f9b0",
   "metadata": {},
   "outputs": [],
   "source": []
  }
 ],
 "metadata": {
  "kernelspec": {
   "display_name": "Python 3 (ipykernel)",
   "language": "python",
   "name": "python3"
  },
  "language_info": {
   "codemirror_mode": {
    "name": "ipython",
    "version": 3
   },
   "file_extension": ".py",
   "mimetype": "text/x-python",
   "name": "python",
   "nbconvert_exporter": "python",
   "pygments_lexer": "ipython3",
   "version": "3.12.0"
  }
 },
 "nbformat": 4,
 "nbformat_minor": 5
}
